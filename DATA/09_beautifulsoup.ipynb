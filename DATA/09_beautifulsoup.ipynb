{
 "cells": [
  {
   "cell_type": "markdown",
   "id": "c7a50c8a",
   "metadata": {},
   "source": [
    "## 09. BeautifulSoup\n",
    "- HTML과 XML파일에서 데이터를 추출하기 위한 라이브러리"
   ]
  },
  {
   "cell_type": "code",
   "execution_count": 2,
   "id": "b435a3b3",
   "metadata": {},
   "outputs": [],
   "source": [
    "from bs4 import BeautifulSoup\n",
    "import requests\n",
    "\n",
    "# conda install requests beautifulsoup4 lxml"
   ]
  },
  {
   "cell_type": "code",
   "execution_count": 3,
   "id": "e59748bc",
   "metadata": {},
   "outputs": [
    {
     "name": "stdout",
     "output_type": "stream",
     "text": [
      "<!DOCTYPE html>\n",
      "<html lang=\"en\">\n",
      "<head>\n",
      "    <meta charset=\"UTF-8\">\n",
      "    <meta name=\"viewport\" content=\"width=device-width, initial-scale=1.0\">\n",
      "    <title>Document</title>\n",
      "</head>\n",
      "<body>\n",
      "    <h1 class=\"title\">Hello BeautifulSoup</h1>\n",
      "    <h1 class=\"sub_title\">안녕 아름다운 수프</h1>\n",
      "    <p id=\"description\">이 페이지는 BeautifulSoup 학습을 위한 예제입니다.</p>\n",
      "    <ul class=\"items\">\n",
      "        <li data-id=\"1\">사과</li>\n",
      "        <li data-id=\"2\">바나나</li>\n",
      "        <li data-id=\"3\">체리</li>\n",
      "    </ul>\n",
      "    <ul class=\"items\">\n",
      "        <li data-id=\"1\">python</li>\n",
      "        <li data-id=\"2\">c++</li>\n",
      "        <li data-id=\"3\">SQL</li>\n",
      "    </ul>\n",
      "</body>\n",
      "</html>\n"
     ]
    }
   ],
   "source": [
    "with open(\"test.html\", \"r\", encoding=\"utf-8\") as f:\n",
    "    html_data = f.read()\n",
    "\n",
    "print(html_data)"
   ]
  },
  {
   "cell_type": "code",
   "execution_count": 4,
   "id": "568ec8ad",
   "metadata": {},
   "outputs": [
    {
     "name": "stdout",
     "output_type": "stream",
     "text": [
      "<!DOCTYPE html>\n",
      "<html lang=\"en\">\n",
      " <head>\n",
      "  <meta charset=\"utf-8\"/>\n",
      "  <meta content=\"width=device-width, initial-scale=1.0\" name=\"viewport\"/>\n",
      "  <title>\n",
      "   Document\n",
      "  </title>\n",
      " </head>\n",
      " <body>\n",
      "  <h1 class=\"title\">\n",
      "   Hello BeautifulSoup\n",
      "  </h1>\n",
      "  <h1 class=\"sub_title\">\n",
      "   안녕 아름다운 수프\n",
      "  </h1>\n",
      "  <p id=\"description\">\n",
      "   이 페이지는 BeautifulSoup 학습을 위한 예제입니다.\n",
      "  </p>\n",
      "  <ul class=\"items\">\n",
      "   <li data-id=\"1\">\n",
      "    사과\n",
      "   </li>\n",
      "   <li data-id=\"2\">\n",
      "    바나나\n",
      "   </li>\n",
      "   <li data-id=\"3\">\n",
      "    체리\n",
      "   </li>\n",
      "  </ul>\n",
      "  <ul class=\"items\">\n",
      "   <li data-id=\"1\">\n",
      "    python\n",
      "   </li>\n",
      "   <li data-id=\"2\">\n",
      "    c++\n",
      "   </li>\n",
      "   <li data-id=\"3\">\n",
      "    SQL\n",
      "   </li>\n",
      "  </ul>\n",
      " </body>\n",
      "</html>\n",
      "\n"
     ]
    }
   ],
   "source": [
    "# soup 객체 생성\n",
    "# soup = BeautifulSoup(html_data, \"html.parser\") # 내장 parser\n",
    "soup = BeautifulSoup(html_data, \"lxml\")\n",
    "print(soup.prettify())"
   ]
  },
  {
   "cell_type": "code",
   "execution_count": null,
   "id": "9230623c",
   "metadata": {},
   "outputs": [],
   "source": [
    "# 데이터 선택\n",
    "\n",
    "# find() : 첫번째 매칭 요소 선택\n",
    "# 태그를 기준으로 탐색\n",
    "result = soup.find(\"h1\")\n",
    "\n",
    "print(result)\n",
    "# <h1 class=\"\" title=\"\">Hello BeautifulSoup</h1>\n",
    "print(result.text)\n",
    "# Hello BeautifulSoup\n",
    "print(result.get_text())\n",
    "# Hello BeautifulSoup\n"
   ]
  },
  {
   "cell_type": "code",
   "execution_count": null,
   "id": "d5c39832",
   "metadata": {},
   "outputs": [
    {
     "name": "stdout",
     "output_type": "stream",
     "text": [
      "안녕 아름다운 수프\n"
     ]
    }
   ],
   "source": [
    "# find() : 속성 조건으로 검색 가능\n",
    "result = soup.find(\"h1\", class_=\"sub_title\")\n",
    "print(result.text)\n",
    "# 안녕 아름다운 수프"
   ]
  },
  {
   "cell_type": "code",
   "execution_count": null,
   "id": "a3e78a36",
   "metadata": {},
   "outputs": [
    {
     "name": "stdout",
     "output_type": "stream",
     "text": [
      "[<h1 class=\"title\">Hello BeautifulSoup</h1>, <h1 class=\"sub_title\">안녕 아름다운 수프</h1>]\n",
      "Hello BeautifulSoup\n",
      "안녕 아름다운 수프\n"
     ]
    }
   ],
   "source": [
    "# find_all() : 모든 매칭된 요소 선택\n",
    "result = soup.find_all(\"h1\")\n",
    "print(result)\n",
    "# [<h1 class=\"title\">Hello BeautifulSoup</h1>, <h1 class=\"sub_title\">안녕 아름다운 수프</h1>]\n",
    "\n",
    "for i in result:\n",
    "    print(i.text)\n",
    "# Hello BeautifulSoup\n",
    "# 안녕 아름다운 수프"
   ]
  },
  {
   "cell_type": "code",
   "execution_count": null,
   "id": "2ec9b754",
   "metadata": {},
   "outputs": [],
   "source": [
    "# select() : 모든 매칭 요소 선택\n",
    "# CSS 선택자로 탐색\n",
    "result = soup.select(\"ul.items\")\n",
    "print(result)\n",
    "# [<ul class=\"items\">\n",
    "# <li data-id=\"1\">사과</li>\n",
    "# <li data-id=\"2\">바나나</li>\n",
    "# <li data-id=\"3\">체리</li>\n",
    "# </ul>, <ul class=\"items\">\n",
    "# <li data-id=\"1\">python</li>\n",
    "# <li data-id=\"2\">c++</li>\n",
    "# <li data-id=\"3\">SQL</li>\n",
    "# </ul>]\n",
    "\n",
    "for i in result:\n",
    "    print(i.text)\n",
    "# 사과\n",
    "# 바나나\n",
    "# 체리\n",
    "\n",
    "# python\n",
    "# c++\n",
    "# SQL"
   ]
  },
  {
   "cell_type": "code",
   "execution_count": null,
   "id": "6cab9c75",
   "metadata": {},
   "outputs": [],
   "source": [
    "# select_one() : 첫번째 매칭 요소 선택\n",
    "result = soup.select_one(\"ul.items\")\n",
    "print(result)\n",
    "# <ul class=\"items\">\n",
    "# <li data-id=\"1\">사과</li>\n",
    "# <li data-id=\"2\">바나나</li>\n",
    "# <li data-id=\"3\">체리</li>\n",
    "# </ul>"
   ]
  },
  {
   "cell_type": "code",
   "execution_count": null,
   "id": "74715a7e",
   "metadata": {},
   "outputs": [],
   "source": [
    "# requests와 함께 사용\n",
    "# requests : 웹 사이트에서 데이터를 송수신 할 수 있는 라이브러리\n",
    "# 멜론에서 Top10의 노래 제목 받아오기\n",
    "url = \"https://www.melon.com/chart/index.htm\"\n",
    "# 봇 방지 \n",
    "headers = {\n",
    "    \"User-Agent\": \"Mozilla/5.0\"\n",
    "}\n",
    "response = requests.get(url, headers=headers)\n",
    "\n",
    "soup = BeautifulSoup(response.text, \"lxml\")\n",
    "\n",
    "songs = soup.select(\"div.ellipsis.rank01 a\")[:10]\n",
    "\n",
    "for idx, song in enumerate(songs):\n",
    "    print(f\"{idx+1}. {song.text}\")"
   ]
  },
  {
   "cell_type": "code",
   "execution_count": 64,
   "id": "7d7ffd1b",
   "metadata": {},
   "outputs": [
    {
     "name": "stdout",
     "output_type": "stream",
     "text": [
      "정의당 “조국 사면, ‘공정’ 기준 무너뜨려···공감대 결여된 광복... https://www.khan.co.kr/article/202508110855001\n",
      "경기도, 제80주년 광복절 기념 '광복군 태극기' 게양 https://www.yna.co.kr/view/AKR20250811037200061?input=1195m\n",
      "조폐공사·성심당의 합작 '광복절빵'…'데니태극기' 담았다 https://www.newsis.com/view/NISX20250811_0003285511\n",
      "추미애 \"사법 피해자 윤미향, 광복절 특별사면해야\" https://www.yna.co.kr/view/AKR20250810027700001?input=1195m\n"
     ]
    }
   ],
   "source": [
    "# 실습 2. 웹 크롤링 실습\n",
    "\n",
    "user = input(\"검색어를 입력하세요 :\")\n",
    "url = \"https://search.naver.com/search.naver?&query=\" + user\n",
    "\n",
    "response = requests.get(url)\n",
    "\n",
    "soup = BeautifulSoup(response.text, \"lxml\")\n",
    "title = soup.select(\"a.BxOYkTUC7zH9xrtyOwDx.a2OpSM_aSvFbHwpL_f8N\")\n",
    "\n",
    "for i in title:\n",
    "    print(i.text, i.get(\"href\"))"
   ]
  }
 ],
 "metadata": {
  "kernelspec": {
   "display_name": "python-libraries",
   "language": "python",
   "name": "python3"
  },
  "language_info": {
   "codemirror_mode": {
    "name": "ipython",
    "version": 3
   },
   "file_extension": ".py",
   "mimetype": "text/x-python",
   "name": "python",
   "nbconvert_exporter": "python",
   "pygments_lexer": "ipython3",
   "version": "3.13.5"
  }
 },
 "nbformat": 4,
 "nbformat_minor": 5
}
