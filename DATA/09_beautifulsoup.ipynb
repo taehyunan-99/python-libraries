{
 "cells": [
  {
   "cell_type": "markdown",
   "id": "c7a50c8a",
   "metadata": {},
   "source": [
    "## 09. BeautifulSoup\n",
    "- HTML과 XML파일에서 데이터를 추출하기 위한 라이브러리"
   ]
  },
  {
   "cell_type": "code",
   "execution_count": 8,
   "id": "b435a3b3",
   "metadata": {},
   "outputs": [],
   "source": [
    "from bs4 import BeautifulSoup\n",
    "import requests\n",
    "\n",
    "# conda install requests beautifulsoup4 lxml"
   ]
  },
  {
   "cell_type": "code",
   "execution_count": null,
   "id": "e59748bc",
   "metadata": {},
   "outputs": [],
   "source": [
    "with open(\"test.html\", \"r\", encoding=\"utf-8\") as f:\n",
    "    html_data = f.read()\n",
    "\n",
    "print(html_data)"
   ]
  },
  {
   "cell_type": "code",
   "execution_count": null,
   "id": "568ec8ad",
   "metadata": {},
   "outputs": [],
   "source": [
    "# soup 객체 생성\n",
    "# soup = BeautifulSoup(html_data, \"html.parser\") # 내장 parser\n",
    "soup = BeautifulSoup(html_data, \"lxml\")\n",
    "print(soup.prettify())"
   ]
  },
  {
   "cell_type": "code",
   "execution_count": null,
   "id": "9230623c",
   "metadata": {},
   "outputs": [],
   "source": [
    "# 데이터 선택\n",
    "\n",
    "# find() : 첫번째 매칭 요소 선택\n",
    "# 태그를 기준으로 탐색\n",
    "result = soup.find(\"h1\")\n",
    "\n",
    "print(result)\n",
    "# <h1 class=\"\" title=\"\">Hello BeautifulSoup</h1>\n",
    "print(result.text)\n",
    "# Hello BeautifulSoup\n",
    "print(result.get_text())\n",
    "# Hello BeautifulSoup\n"
   ]
  },
  {
   "cell_type": "code",
   "execution_count": null,
   "id": "d5c39832",
   "metadata": {},
   "outputs": [],
   "source": [
    "# find() : 속성 조건으로 검색 가능\n",
    "result = soup.find(\"h1\", class_=\"sub_title\")\n",
    "print(result.text)\n",
    "# 안녕 아름다운 수프"
   ]
  },
  {
   "cell_type": "code",
   "execution_count": null,
   "id": "a3e78a36",
   "metadata": {},
   "outputs": [],
   "source": [
    "# find_all() : 모든 매칭된 요소 선택\n",
    "result = soup.find_all(\"h1\")\n",
    "print(result)\n",
    "# [<h1 class=\"title\">Hello BeautifulSoup</h1>, <h1 class=\"sub_title\">안녕 아름다운 수프</h1>]\n",
    "\n",
    "for i in result:\n",
    "    print(i.text)\n",
    "# Hello BeautifulSoup\n",
    "# 안녕 아름다운 수프"
   ]
  },
  {
   "cell_type": "code",
   "execution_count": null,
   "id": "2ec9b754",
   "metadata": {},
   "outputs": [],
   "source": [
    "# select() : 모든 매칭 요소 선택\n",
    "# CSS 선택자로 탐색\n",
    "result = soup.select(\"ul.items\")\n",
    "print(result)\n",
    "# [<ul class=\"items\">\n",
    "# <li data-id=\"1\">사과</li>\n",
    "# <li data-id=\"2\">바나나</li>\n",
    "# <li data-id=\"3\">체리</li>\n",
    "# </ul>, <ul class=\"items\">\n",
    "# <li data-id=\"1\">python</li>\n",
    "# <li data-id=\"2\">c++</li>\n",
    "# <li data-id=\"3\">SQL</li>\n",
    "# </ul>]\n",
    "\n",
    "for i in result:\n",
    "    print(i.text)\n",
    "# 사과\n",
    "# 바나나\n",
    "# 체리\n",
    "\n",
    "# python\n",
    "# c++\n",
    "# SQL"
   ]
  },
  {
   "cell_type": "code",
   "execution_count": null,
   "id": "6cab9c75",
   "metadata": {},
   "outputs": [],
   "source": [
    "# select_one() : 첫번째 매칭 요소 선택\n",
    "result = soup.select_one(\"ul.items\")\n",
    "print(result)\n",
    "# <ul class=\"items\">\n",
    "# <li data-id=\"1\">사과</li>\n",
    "# <li data-id=\"2\">바나나</li>\n",
    "# <li data-id=\"3\">체리</li>\n",
    "# </ul>"
   ]
  },
  {
   "cell_type": "code",
   "execution_count": null,
   "id": "74715a7e",
   "metadata": {},
   "outputs": [],
   "source": [
    "# requests와 함께 사용\n",
    "# requests : 웹 사이트에서 데이터를 송수신 할 수 있는 라이브러리\n",
    "# 멜론에서 Top10의 노래 제목 받아오기\n",
    "url = \"https://www.melon.com/chart/index.htm\"\n",
    "# 봇 방지 \n",
    "headers = {\n",
    "    \"User-Agent\": \"Mozilla/5.0\"\n",
    "}\n",
    "response = requests.get(url, headers=headers)\n",
    "\n",
    "soup = BeautifulSoup(response.text, \"lxml\")\n",
    "\n",
    "songs = soup.select(\"div.ellipsis.rank01 a\")[:10]\n",
    "\n",
    "for idx, song in enumerate(songs):\n",
    "    print(f\"{idx+1}. {song.text}\")"
   ]
  },
  {
   "cell_type": "code",
   "execution_count": null,
   "id": "7d7ffd1b",
   "metadata": {},
   "outputs": [],
   "source": [
    "# 실습 2. 웹 크롤링 실습\n",
    "\n",
    "user = input(\"검색어를 입력하세요 :\")\n",
    "url = \"https://search.naver.com/search.naver?&query=\" + user\n",
    "\n",
    "response = requests.get(url)\n",
    "\n",
    "soup = BeautifulSoup(response.text, \"lxml\")\n",
    "title = soup.select(\"a.BxOYkTUC7zH9xrtyOwDx.a2OpSM_aSvFbHwpL_f8N\")\n",
    "\n",
    "for i in title:\n",
    "    print(i.text, i.get(\"href\"))"
   ]
  },
  {
   "cell_type": "code",
   "execution_count": 4,
   "id": "afb7e1e9",
   "metadata": {},
   "outputs": [],
   "source": [
    "# 크롤링한 자료를 엑셀로 저장\n",
    "import openpyxl\n",
    "\n",
    "# 엑셀 파일 만들기\n",
    "wb = openpyxl.Workbook()\n",
    "\n",
    "# 시트 만들기\n",
    "ws = wb.create_sheet(\"codingon\")\n",
    "\n",
    "ws[\"A1\"] = \"이름\"\n",
    "ws[\"B1\"] = \"영어이름\"\n",
    "\n",
    "ws[\"A2\"] = \"태현\"\n",
    "ws[\"B2\"] = \"taehyun\"\n",
    "\n",
    "wb.save(\"codingon.xlsx\")"
   ]
  },
  {
   "cell_type": "code",
   "execution_count": null,
   "id": "beb22e65",
   "metadata": {},
   "outputs": [],
   "source": [
    "# Pandas가 더 편함\n",
    "import pandas as pd\n",
    "\n",
    "data = {\n",
    "    \"이름\":[\"태현\"],\n",
    "    \"영어이름\":[\"taehyun\"]\n",
    "}\n",
    "\n",
    "df = pd.DataFrame(data)\n",
    "\n",
    "df.to_excel(\"codingon2.xlsx\", index=False, sheet_name=\"list\")"
   ]
  },
  {
   "cell_type": "code",
   "execution_count": 6,
   "id": "808b436a",
   "metadata": {},
   "outputs": [],
   "source": [
    "# 파일 불러오기\n",
    "wb = openpyxl.load_workbook(\"codingon.xlsx\")\n",
    "\n",
    "# 시트 선택\n",
    "ws = wb[\"codingon\"]\n",
    "\n",
    "ws[\"A3\"] = \"이름1\"\n",
    "ws[\"b3\"] = \"name1\"\n",
    "\n",
    "# 여러 자료 추가\n",
    "data = [\n",
    "    [\"이름2\", \"name2\"],\n",
    "    [\"이름3\", \"name3\"],\n",
    "    [\"이름4\", \"name4\"],\n",
    "    [\"이름5\", \"name5\"],\n",
    "]\n",
    "\n",
    "for row in data:\n",
    "    ws.append(row)\n",
    "\n",
    "wb.save(\"codingon.xlsx\")"
   ]
  },
  {
   "cell_type": "code",
   "execution_count": null,
   "id": "8468eed6",
   "metadata": {},
   "outputs": [],
   "source": [
    "# 환율 정보 크롤링 및 엑셀 저장\n",
    "import pandas as pd\n",
    "\n",
    "url = \"https://finance.naver.com/marketindex/\"\n",
    "response = requests.get(url)\n",
    "soup = BeautifulSoup(response.text, \"lxml\")\n",
    "\n",
    "result = soup.select(\"div.market1 a.head\")\n",
    "\n",
    "data = []\n",
    "for a in result:\n",
    "    name = a.select_one(\"span.blind\").get_text().split()[1]\n",
    "    value = a.select_one(\"span.value\")\n",
    "    data.append([name, value.get_text()])\n",
    "\n",
    "df = pd.DataFrame(data, columns=[\"통화\", \"환율\"])\n",
    "df.to_excel(\"test_file.xlsx\", index=False)"
   ]
  }
 ],
 "metadata": {
  "kernelspec": {
   "display_name": "data_analysis",
   "language": "python",
   "name": "python3"
  },
  "language_info": {
   "codemirror_mode": {
    "name": "ipython",
    "version": 3
   },
   "file_extension": ".py",
   "mimetype": "text/x-python",
   "name": "python",
   "nbconvert_exporter": "python",
   "pygments_lexer": "ipython3",
   "version": "3.13.5"
  }
 },
 "nbformat": 4,
 "nbformat_minor": 5
}
