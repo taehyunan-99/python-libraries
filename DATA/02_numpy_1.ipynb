{
 "cells": [
  {
   "cell_type": "markdown",
   "id": "98ef7755",
   "metadata": {},
   "source": [
    "### 2-1 NumPy 배열 연산"
   ]
  },
  {
   "cell_type": "code",
   "execution_count": null,
   "id": "b77a0875",
   "metadata": {},
   "outputs": [],
   "source": [
    "import numpy as np"
   ]
  },
  {
   "cell_type": "code",
   "execution_count": null,
   "id": "29cafa27",
   "metadata": {},
   "outputs": [],
   "source": [
    "# 배열 간 연산(1차원)\n",
    "\n",
    "a1 = np.array([1,2,3])\n",
    "a2 = np.array([4,5,6])\n",
    "\n",
    "print(a1 + a2)\n",
    "print(a1 - a2)\n",
    "# [5 7 9]\n",
    "# [-3 -3 -3]"
   ]
  },
  {
   "cell_type": "code",
   "execution_count": null,
   "id": "5a831bc7",
   "metadata": {},
   "outputs": [],
   "source": [
    "# 배열 간 연산(2차원)\n",
    "\n",
    "a1 = np.arange(1,5).reshape(2,2)\n",
    "a2 = np.arange(11,15).reshape(2,2)\n",
    "\n",
    "print(a1)\n",
    "print(a2)\n",
    "# [[1 2]\n",
    "#  [3 4]]\n",
    "# [[11 12]\n",
    "#  [13 14]]\n",
    "\n",
    "print(a1 + a2)\n",
    "# [[12 14]\n",
    "#  [16 18]]\n",
    "\n",
    "print(a2 - a1)\n",
    "# [[10 10]\n",
    "#  [10 10]]"
   ]
  },
  {
   "cell_type": "code",
   "execution_count": null,
   "id": "cb380425",
   "metadata": {},
   "outputs": [],
   "source": [
    "# 배열과 스칼라 연산(1차원)\n",
    "\n",
    "a1 = np.array([1,2,3,4])\n",
    "\n",
    "print(a1 + 10)\n",
    "# [11 12 13 14]\n",
    "\n",
    "print(a1 * 2)\n",
    "# [2 4 6 8]"
   ]
  },
  {
   "cell_type": "code",
   "execution_count": null,
   "id": "a0bd3cb9",
   "metadata": {},
   "outputs": [],
   "source": [
    "# 배열과 스칼라 연산(1차원)\n",
    "\n",
    "a1 = np.arange(1,5).reshape(2,2)\n",
    "a2 = np.arange(11,15).reshape(2,2)\n",
    "\n",
    "print(a1)\n",
    "print(a2)\n",
    "# [[1 2]\n",
    "#  [3 4]]\n",
    "# [[11 12]\n",
    "#  [13 14]]\n",
    "\n",
    "print(a1 + 5)\n",
    "# [[6 7]\n",
    "#  [8 9]]\n",
    "\n",
    "print(a2 * 3)\n",
    "# [[33 36]\n",
    "#  [39 42]]\n",
    "\n",
    "print(a2 / 2)\n",
    "# [[5.5 6. ]\n",
    "#  [6.5 7. ]]"
   ]
  },
  {
   "cell_type": "code",
   "execution_count": null,
   "id": "e45edc55",
   "metadata": {},
   "outputs": [],
   "source": [
    "# 배열의 구조가 다른 경우\n",
    "\n",
    "a1 = np.array([1,2,3])\n",
    "a2 = np.array([1,2])\n",
    "\n",
    "print(a1 + a2)\n",
    "# ValueError: operands could not be broadcast together with shapes (3,) (2,) "
   ]
  },
  {
   "cell_type": "code",
   "execution_count": null,
   "id": "efa0ca2e",
   "metadata": {},
   "outputs": [],
   "source": [
    "# 브로드캐스팅\n",
    "# 자동으로 배열의 크기를 확장 -> 서로 다른 크기의 배열 간 연산을 가능하게 하는 기능\n",
    "# 1. 두 배열의 차원을 뒤(낮은 차원)에서부터 비교\n",
    "# 2. 크기가 같거나\n",
    "# 3. 한쪽이 1인 경우 확장이 가능\n",
    "\n",
    "a1 = np.array([[1,2,3],[4,5,6]]) # (2, 3)\n",
    "a2 = np.array([10,20,30]) # (3, )\n",
    "\n",
    "# 1차원 길이3\n",
    "[10,20,30]\n",
    "\n",
    "# 2차원으로 변혈 (1,3)\n",
    "[[10,20,30]]\n",
    "\n",
    "# 2차원의 행이 2로 확장\n",
    "[[10,20,30], [10,20,30]]\n",
    "\n",
    "print(a1 + a2)\n",
    "# [[11 22 33]\n",
    "#  [14 25 36]]"
   ]
  },
  {
   "cell_type": "code",
   "execution_count": null,
   "id": "bde577a2",
   "metadata": {},
   "outputs": [],
   "source": [
    "# 브로드캐스팅 예제\n",
    "\n",
    "a1 = np.array([[1], [2], [3]]) # (3, 1)\n",
    "a2 = np.array([10,20,30]) # (3, )\n",
    "\n",
    "# a2 : (3, ) -> (1, 3)으로 변형\n",
    "[[10, 20, 30]]\n",
    "\n",
    "# a1과 a2비교 : a1 = (3, 1), a2 = (1, 3)\n",
    "# 2차원의 경우 : 3 vs 1 -> a2의 2차원이 3으로 확장\n",
    "[[10, 20, 30], [10, 20, 30], [10, 20, 30]]\n",
    "\n",
    "# 1차원의 경우 : 1 vs 3 -> a1의 1차원이 3으로 확장\n",
    "[[1, 1, 1], [2, 2, 2], [3, 3, 3]]\n",
    "\n",
    "print(a1 + a2) "
   ]
  },
  {
   "cell_type": "code",
   "execution_count": null,
   "id": "b4939629",
   "metadata": {},
   "outputs": [],
   "source": [
    "# 브로드캐스팅 불가능한 경우\n",
    "a1 = np.ones((2,3))\n",
    "a2 = np.ones((3,2))\n",
    "\n",
    "print(a1 + a2)\n",
    "# ValueError: operands could not be broadcast together with shapes (2,3) (3,2) "
   ]
  },
  {
   "cell_type": "code",
   "execution_count": null,
   "id": "31a5b6e2",
   "metadata": {},
   "outputs": [],
   "source": [
    "# 실습 1. 배열 연산\n",
    "# 1.\n",
    "arr = np.array([1,2,3,4])\n",
    "print(arr + 3)"
   ]
  },
  {
   "cell_type": "code",
   "execution_count": null,
   "id": "9419f8c1",
   "metadata": {},
   "outputs": [],
   "source": [
    "# 2.\n",
    "arr = np.array([[5,10], [15,20]])\n",
    "new_arr = arr * -1\n",
    "print(new_arr)"
   ]
  },
  {
   "cell_type": "code",
   "execution_count": null,
   "id": "85aaaa9a",
   "metadata": {},
   "outputs": [],
   "source": [
    "# 3.\n",
    "arr1 = np.array([2,4,6])\n",
    "arr2 = np.array([1,2,3])\n",
    "print(\"곱셈 :\", arr1 * arr2)\n",
    "print(\"나눗셈 :\", arr1 / arr2)"
   ]
  },
  {
   "cell_type": "code",
   "execution_count": null,
   "id": "47f02afc",
   "metadata": {},
   "outputs": [],
   "source": [
    "# 4.\n",
    "arr = np.array([[95,97], [80,85]])\n",
    "bc_arr = np.array([100])\n",
    "print(arr + (bc_arr - arr))"
   ]
  },
  {
   "cell_type": "code",
   "execution_count": null,
   "id": "842a0c9a",
   "metadata": {},
   "outputs": [],
   "source": [
    "# 5.\n",
    "arr = np.array([[1, 2, 3], [4, 5, 6]])\n",
    "bc_arr = np.array([[10],[100]])\n",
    "print(arr * bc_arr)"
   ]
  },
  {
   "cell_type": "code",
   "execution_count": null,
   "id": "9674b5eb",
   "metadata": {},
   "outputs": [],
   "source": [
    "# 6.\n",
    "arr = np.array([[10, 20], [30, 40], [50, 60]])\n",
    "bc_arr = np.array([[100], [200], [300]])\n",
    "print(arr + bc_arr)"
   ]
  },
  {
   "cell_type": "markdown",
   "id": "40ac2f8b",
   "metadata": {},
   "source": [
    "### 2-2 통계 함수 및 집계 연산"
   ]
  },
  {
   "cell_type": "code",
   "execution_count": null,
   "id": "f9a4bc24",
   "metadata": {},
   "outputs": [],
   "source": [
    "# 기본 통계 함수\n",
    "a = np.array([[1,2,3],[4,5,6]])\n",
    "\n",
    "print(\"원소의 합 :\", np.sum(a))\n",
    "print(\"원소의 평균 :\", np.mean(a))\n",
    "print(\"표준편차 :\", np.std(a))\n",
    "print(\"최대값 :\", np.max(a))\n",
    "print(\"최소값 :\", np.min(a))\n",
    "print(\"최대값의 인덱스 :\", np.argmax(a))\n",
    "print(\"최소값의 인덱스 :\", np.argmin(a))\n",
    "# 원소의 합 : 21\n",
    "# 원소의 평균 : 3.5\n",
    "# 표준편차 : 1.707825127659933\n",
    "# 최대값 : 6\n",
    "# 최소값 : 1\n",
    "# 최대값의 인덱스 : 5\n",
    "# 최대값의 인덱스 : 0"
   ]
  },
  {
   "cell_type": "code",
   "execution_count": null,
   "id": "914f2a26",
   "metadata": {},
   "outputs": [],
   "source": [
    "# 축(axis) 단위 연산\n",
    "# axis = 0 -> 가장 높은 차원 기준 -> 행기준\n",
    "    # 행기준 = 행을 따라 연산 = 행을 증가시키며 연산\n",
    "# axis = 1 -> 그 다음 차원 기준 -> 열기준\n",
    "    # 열기준 = 열을 따라 연산 = 열을 증가시키며 연산\n",
    "\n",
    "a = np.array([[1,2,3],\n",
    "            [4,5,6]])\n",
    "print(\"행기준\", np.sum(a, axis=0))\n",
    "print(\"열기준\", np.sum(a, axis=1))\n",
    "# 행기준 [5 7 9]\n",
    "# 열기준 [ 6 15]\n",
    "print(\"행기준 평균\", np.mean(a, axis=0))\n",
    "print(\"열기준 평균\", np.mean(a, axis=1))\n",
    "# 행기준 평균 [2.5 3.5 4.5]\n",
    "# 열기준 평균 [2. 5.]"
   ]
  },
  {
   "cell_type": "code",
   "execution_count": null,
   "id": "81609568",
   "metadata": {},
   "outputs": [],
   "source": [
    "# 누적 연산\n",
    "arr = np.array([1,2,3,4])\n",
    "print(np.cumsum(arr)) # 누적 합\n",
    "# [ 1  3  6 10]\n",
    "print(np.cumprod(arr)) # 누적 곱\n",
    "# [ 1  2  6 24]"
   ]
  },
  {
   "cell_type": "code",
   "execution_count": null,
   "id": "382c7880",
   "metadata": {},
   "outputs": [],
   "source": [
    "# 실습2. 통계 함수 및 집계 연산\n",
    "# 1.\n",
    "arr = np.array([5, 10, 15, 20])\n",
    "print(\"전체 합 :\", np.sum(arr))\n",
    "print(\"평균 :\", np.mean(arr))"
   ]
  },
  {
   "cell_type": "code",
   "execution_count": null,
   "id": "9e28353c",
   "metadata": {},
   "outputs": [],
   "source": [
    "# 2.\n",
    "arr = np.array([[3, 7, 1],\n",
    "                [9, 2, 8]])\n",
    "print(\"최소값 :\", np.min(arr))\n",
    "print(\"최대값 :\", np.max(arr))"
   ]
  },
  {
   "cell_type": "code",
   "execution_count": null,
   "id": "7aaeafd1",
   "metadata": {},
   "outputs": [],
   "source": [
    "# 3.\n",
    "arr = np.array([[1, 2, 3],\n",
    "                [4, 5, 6],\n",
    "                [7, 8, 9]])\n",
    "print(\"열의 합 :\", np.sum(arr, axis=0))\n",
    "print(\"행의 합 :\", np.sum(arr, axis=1))"
   ]
  },
  {
   "cell_type": "code",
   "execution_count": null,
   "id": "d8f021ce",
   "metadata": {},
   "outputs": [],
   "source": [
    "# 4.\n",
    "arr = np.array([[10, 20],\n",
    "                [30, 40],\n",
    "                [50, 60]])\n",
    "print(\"행 평균 :\", np.mean(arr, axis=1))\n",
    "print(\"열 평균 :\", np.mean(arr, axis=0))"
   ]
  },
  {
   "cell_type": "code",
   "execution_count": null,
   "id": "05873d5b",
   "metadata": {},
   "outputs": [],
   "source": [
    "# 5.\n",
    "arr = np.array([2, 4, 4, 4, 5, 5, 7, 9])\n",
    "print(\"표준편차 : \", np.std(arr))\n",
    "print(arr - np.mean(arr))"
   ]
  },
  {
   "cell_type": "code",
   "execution_count": null,
   "id": "1de48490",
   "metadata": {},
   "outputs": [],
   "source": [
    "# 6.\n",
    "arr = np.array([[1, 2, 3],\n",
    "                [4, 5, 6]])\n",
    "print(\"행 누적 합 :\\n\", np.cumsum(arr, axis=1))\n",
    "print(\"열 누적 곱 :\\n\", np.cumprod(arr, axis=0))"
   ]
  },
  {
   "cell_type": "markdown",
   "id": "862d03d5",
   "metadata": {},
   "source": [
    "### 2-3 논리 연산과 조건 연산"
   ]
  },
  {
   "cell_type": "code",
   "execution_count": null,
   "id": "ae7c6713",
   "metadata": {},
   "outputs": [],
   "source": [
    "# np.where()\n",
    "# 조건 기반 선택 함수\n",
    "\n",
    "arr = np.array([10,20,30,40,50])\n",
    "result = np.where(arr > 30, \"high\", \"low\")\n",
    "print(result)\n",
    "# ['low' 'low' 'low' 'high' 'high']\n",
    "\n",
    "# 조건만 넣을 경우 조건을 만족하는 원소의 인덱스를 반환\n",
    "\n",
    "arr = np.array([10,20,30,40,50])\n",
    "result = np.where(arr > 30)\n",
    "print(result)\n",
    "# (array([3, 4]),)\n",
    "print(arr[result]) # 원본 배열에 Fancy indexing\n",
    "# [40 50]"
   ]
  },
  {
   "cell_type": "code",
   "execution_count": null,
   "id": "aaddd550",
   "metadata": {},
   "outputs": [],
   "source": [
    "# 논리 연산\n",
    "# and : & = 모든 조건이 True여야 True\n",
    "# or : | (shift + \\) = 조건 중 하나라도 True이면 True\n",
    "# not : ~ = True는 False로 False는 True로\n",
    "\n",
    "# and 연산 (&)\n",
    "arr = np.array([10,20,30,40,50])\n",
    "mask = (arr > 10) & (arr < 50)\n",
    "print(arr[mask])\n",
    "# [20 30 40]\n",
    "\n",
    "# or 연산 (|)\n",
    "mask_or = (arr < 20) | (arr > 40)\n",
    "print(arr[mask_or])\n",
    "# [10 50]\n",
    "\n",
    "# not 연산 (~)\n",
    "mask_not = ~(arr > 30)\n",
    "print(arr[mask_not])\n",
    "# [10 20 30]"
   ]
  },
  {
   "cell_type": "code",
   "execution_count": null,
   "id": "308a7ee2",
   "metadata": {},
   "outputs": [],
   "source": [
    "arr = np.arange(100)\n",
    "mask = (arr % 2 == 0) & (arr > 50)\n",
    "print(arr[mask])"
   ]
  },
  {
   "cell_type": "code",
   "execution_count": null,
   "id": "1374ff7d",
   "metadata": {},
   "outputs": [],
   "source": [
    "# 실습 3. 논리 연산과 조건 연산\n",
    "# 1.\n",
    "arr1 = np.array([5,12,18,7,30,25])\n",
    "mask = (arr1 > 10) & (arr1 < 20)\n",
    "print(arr1[mask])"
   ]
  },
  {
   "cell_type": "code",
   "execution_count": null,
   "id": "6a720240",
   "metadata": {},
   "outputs": [],
   "source": [
    "# 2.\n",
    "arr2 = np.array([10,15,20,25,30,35])\n",
    "result = np.where((arr2 <= 15) | (arr2 >= 30))\n",
    "print(arr2[result])"
   ]
  },
  {
   "cell_type": "code",
   "execution_count": null,
   "id": "94ce6999",
   "metadata": {},
   "outputs": [],
   "source": [
    "# 3.\n",
    "arr3 = np.array([3,8,15,6,2,20])\n",
    "# result = np.where(arr3 >= 10)\n",
    "# arr3[result] = 0\n",
    "# print(arr3)\n",
    "\n",
    "result = np.where(arr3 >= 10, 0, arr3)\n",
    "print(result)"
   ]
  },
  {
   "cell_type": "code",
   "execution_count": null,
   "id": "73ff95d8",
   "metadata": {},
   "outputs": [],
   "source": [
    "# 4.\n",
    "arr4 = np.array([7,14,21,28,35])\n",
    "result = np.where(arr4 >= 20, \"High\", \"Low\")\n",
    "print(result)"
   ]
  },
  {
   "cell_type": "code",
   "execution_count": null,
   "id": "a9aeda9c",
   "metadata": {},
   "outputs": [],
   "source": [
    "# 5.\n",
    "arr5 = np.arange(10)\n",
    "# result = np.where(arr5 % 2 != 0)\n",
    "# arr5[result] *= 10\n",
    "# print(arr5)\n",
    "\n",
    "print(np.where(arr5 % 2 == 0, arr5, arr5 * 10))"
   ]
  },
  {
   "cell_type": "code",
   "execution_count": null,
   "id": "d2ccfed8",
   "metadata": {},
   "outputs": [],
   "source": [
    "# 6.\n",
    "arr6 = np.array([[10,25,30], [40,5,15], [20,35,50]])\n",
    "mask = (arr6 >= 20) & (arr6 <= 40)\n",
    "print(arr6[mask])"
   ]
  },
  {
   "cell_type": "code",
   "execution_count": null,
   "id": "2cc80027",
   "metadata": {},
   "outputs": [],
   "source": [
    "# 7.\n",
    "arr7 = np.array([1,2,3,4,5,6])\n",
    "mask = ~(arr7 % 3 == 0)\n",
    "print(arr7[mask])"
   ]
  },
  {
   "cell_type": "code",
   "execution_count": null,
   "id": "f8ef0596",
   "metadata": {},
   "outputs": [],
   "source": [
    "# 8.\n",
    "arr8 = np.random.randint(0, 101, (10))\n",
    "print(arr8, \"\\n\")\n",
    "# mask = arr8 < 50\n",
    "# arr8[mask] = 50\n",
    "# print(arr8)\n",
    "\n",
    "print(np.where(arr8 >= 50, arr8, 50))"
   ]
  },
  {
   "cell_type": "code",
   "execution_count": null,
   "id": "9cc6fec5",
   "metadata": {},
   "outputs": [],
   "source": [
    "# 9.\n",
    "arr9 = np.array([[5,50,95], [20,75,10], [60,30,85]])\n",
    "result = np.where(arr9 >= 70, \"A\", np.where(arr9 >= 30, \"B\", \"C\"))\n",
    "print(result)"
   ]
  },
  {
   "cell_type": "markdown",
   "id": "a5e0f46b",
   "metadata": {},
   "source": [
    "### 2-4 행렬의 곱셈\n",
    "- 두 행렬을 곱해서 새로운 행렬을 생성하는 연산\n",
    "- 첫번째 행렬의 열수와 두번째 행렬의 행수가 같아야 곱셈이 가능\n",
    "- np.dot(), np.matmul() -> 행렬의 곱셈의 경우 matmul() 사용을 권장"
   ]
  },
  {
   "cell_type": "code",
   "execution_count": null,
   "id": "2db0f42e",
   "metadata": {},
   "outputs": [],
   "source": [
    "# np.dot(a, b) : 배열의 내적 연산\n",
    "\n",
    "# 스칼라 연산 (0 D)\n",
    "a = np.array(3)\n",
    "b = np.array(4)\n",
    "\n",
    "print(np.dot(a, b)) # 12"
   ]
  },
  {
   "cell_type": "code",
   "execution_count": null,
   "id": "72698dea",
   "metadata": {},
   "outputs": [],
   "source": [
    "# 1차원 배열간 연산 -> 내적 연산\n",
    "# 데이터분석에서 벡터란 배열\n",
    "\n",
    "a = np.array([1,2,3])\n",
    "b = np.array([4,5,6])\n",
    "\n",
    "print(np.dot(a, b)) # 32\n",
    "\n",
    "# 물건 구매\n",
    "c = [1000,2000,5000,10000]\n",
    "d = [10,3,5,7]\n",
    "\n",
    "print(np.dot(c, d)) # 111000"
   ]
  },
  {
   "cell_type": "code",
   "execution_count": null,
   "id": "e0196990",
   "metadata": {},
   "outputs": [],
   "source": [
    "# 2차원 배열간 연산 -> 행렬 곱셈\n",
    "\n",
    "a = np.array([[1,2,3], [4,5,6]])\n",
    "b = np.array([[1,2], [3,4], [5,6]])\n",
    "\n",
    "print(np.dot(a, b))\n",
    "# [[22 28]\n",
    "#  [49 64]]"
   ]
  },
  {
   "cell_type": "code",
   "execution_count": null,
   "id": "d63e4b32",
   "metadata": {},
   "outputs": [],
   "source": [
    "# np.matmul(a, b)\n",
    "# Matrix Multiplication\n",
    "# 스칼라 연산 시도시 에러\n",
    "\n",
    "a = np.array(3)\n",
    "b = np.array(4)\n",
    "\n",
    "print(np.matmul(a, b))\n",
    "# ValueError: matmul: Input operand 0 does not have enough dimensions (has 0, gufunc core with signature (n?,k),(k,m?)->(n?,m?) requires 1)"
   ]
  },
  {
   "cell_type": "code",
   "execution_count": null,
   "id": "f301b694",
   "metadata": {},
   "outputs": [],
   "source": [
    "# 1차원 배열간 연산 -> 내적 계산\n",
    "\n",
    "a = np.array([1,2])\n",
    "b = np.array([3,4])\n",
    "\n",
    "print(np.matmul(a, b)) # 11"
   ]
  },
  {
   "cell_type": "code",
   "execution_count": null,
   "id": "3beb2208",
   "metadata": {},
   "outputs": [
    {
     "name": "stdout",
     "output_type": "stream",
     "text": [
      "[[22 28]\n",
      " [49 64]]\n",
      "[17 39]\n",
      "[23 34]\n",
      "[[22 28]]\n",
      "[[22 28]]\n"
     ]
    }
   ],
   "source": [
    "# 2차원 배열간 연산 -> 행렬 곱셈\n",
    "\n",
    "a = np.array([[1,2,3], [4,5,6]])\n",
    "b = np.array([[1,2], [3,4], [5,6]])\n",
    "\n",
    "print(np.matmul(a, b))\n",
    "# [[22 28]\n",
    "#  [49 64]]\n",
    "\n",
    "# 2D * 1D 간 연산 가능\n",
    "c = np.array([[1,2], [3,4]])\n",
    "d = np.array([5,6])\n",
    "print(np.matmul(c, d))\n",
    "# [17 39]\n",
    "print(np.matmul(d, c))\n",
    "# [23 34]\n",
    "\n",
    "# a x b 배열과 b x c 배열의 연산결과 = a x c로 나옴\n",
    "e = np.array([[1,2,3]])\n",
    "f = np.array([[1,2], [3,4], [5,6]])\n",
    "print(np.matmul(e, f))\n",
    "# [[22 28]]\n",
    "# @ 연산자\n",
    "print(e @ f)\n",
    "# [[22 28]]\n"
   ]
  },
  {
   "cell_type": "code",
   "execution_count": 117,
   "id": "46b33545",
   "metadata": {},
   "outputs": [
    {
     "name": "stdout",
     "output_type": "stream",
     "text": [
      "[[12 12]\n",
      " [30 30]\n",
      " [48 48]]\n"
     ]
    }
   ],
   "source": [
    "# 실습 4. 행렬 곱셈\n",
    "# 1.\n",
    "a = np.arange(1,10).reshape(3,3)\n",
    "b = np.full((3,2), 2)\n",
    "print(a @ b)"
   ]
  },
  {
   "cell_type": "code",
   "execution_count": 105,
   "id": "5e769316",
   "metadata": {},
   "outputs": [
    {
     "name": "stdout",
     "output_type": "stream",
     "text": [
      "[[2 2 1 3]\n",
      " [4 7 1 8]\n",
      " [9 6 8 8]\n",
      " [8 4 0 3]]\n",
      "[[2. 2. 1. 3.]\n",
      " [4. 7. 1. 8.]\n",
      " [9. 6. 8. 8.]\n",
      " [8. 4. 0. 3.]]\n"
     ]
    }
   ],
   "source": [
    "# 2.\n",
    "i = np.eye(4)\n",
    "m = np.random.randint(0,10,(4,4))\n",
    "print(m)\n",
    "print(i @ m)"
   ]
  },
  {
   "cell_type": "code",
   "execution_count": 107,
   "id": "e116a389",
   "metadata": {},
   "outputs": [
    {
     "name": "stdout",
     "output_type": "stream",
     "text": [
      "[[45. 50.]\n",
      " [45. 50.]]\n"
     ]
    }
   ],
   "source": [
    "# 3.\n",
    "x = np.ones((2,5))\n",
    "y = np.arange(5,15).reshape(5,2)\n",
    "print(x @ y)"
   ]
  },
  {
   "cell_type": "code",
   "execution_count": 108,
   "id": "4aeb1941",
   "metadata": {},
   "outputs": [
    {
     "name": "stdout",
     "output_type": "stream",
     "text": [
      "(3, 3) \n",
      " [[ 0  9  5]\n",
      " [ 0 12  8]\n",
      " [ 0 12 10]]\n"
     ]
    }
   ],
   "source": [
    "# 4.\n",
    "c = np.random.randint(0,5,(3,2))\n",
    "d = np.random.randint(0,5,(2,3))\n",
    "result = c @ d\n",
    "print(result.shape, \"\\n\", result)"
   ]
  }
 ],
 "metadata": {
  "kernelspec": {
   "display_name": "data_analysis",
   "language": "python",
   "name": "python3"
  },
  "language_info": {
   "codemirror_mode": {
    "name": "ipython",
    "version": 3
   },
   "file_extension": ".py",
   "mimetype": "text/x-python",
   "name": "python",
   "nbconvert_exporter": "python",
   "pygments_lexer": "ipython3",
   "version": "3.13.5"
  }
 },
 "nbformat": 4,
 "nbformat_minor": 5
}
