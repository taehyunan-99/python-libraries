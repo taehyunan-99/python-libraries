{
 "cells": [
  {
   "cell_type": "markdown",
   "id": "d3e0723a",
   "metadata": {},
   "source": [
    "## 11. Folium\n",
    "- 지도 시각화 라이브러리"
   ]
  },
  {
   "cell_type": "code",
   "execution_count": 1,
   "id": "bb9ce370",
   "metadata": {},
   "outputs": [
    {
     "data": {
      "text/plain": [
       "'0.14.0'"
      ]
     },
     "execution_count": 1,
     "metadata": {},
     "output_type": "execute_result"
    }
   ],
   "source": [
    "import folium\n",
    "folium.__version__"
   ]
  },
  {
   "cell_type": "code",
   "execution_count": null,
   "id": "3f4effa7",
   "metadata": {},
   "outputs": [],
   "source": [
    "m = folium.Map(location=[37.611265632084134, 126.91728777063278], zoom_start=18)\n",
    "# 마커 생성\n",
    "folium.Marker([37.611265632084134, 126.91728777063278]).add_to(m)\n",
    "\n",
    "m"
   ]
  },
  {
   "cell_type": "code",
   "execution_count": null,
   "id": "ff980ce4",
   "metadata": {},
   "outputs": [],
   "source": [
    "m = folium.Map(location=[37.611265632084134, 126.91728777063278], \n",
    "                        zoom_start=18,\n",
    "                        )\n",
    "# 마커에 팝업(클릭 했을 때), 툴팁(마우스 올릴 때), 아이콘 생성\n",
    "folium.Marker([37.611265632084134, 126.91728777063278], \n",
    "                popup=\"Subway\", \n",
    "                tooltip=\"구산역\", \n",
    "                icon=folium.Icon(color=\"black\", icon=\"info-sign\")).add_to(m)\n",
    "\n",
    "# 포인트(원 반경) 생성\n",
    "folium.CircleMarker([37.609882160883735, 126.91664374492498 ], \n",
    "                    radius=100, \n",
    "                    color=\"#adcdff\", \n",
    "                    fill_color=\"#adcdff\", \n",
    "                    popup=\"CircleMarker\", \n",
    "                    tooltip=\"tooltip\").add_to(m)\n",
    "\n",
    "# 클릭한 곳에 마커 추가\n",
    "m.add_child(folium.ClickForMarker(popup=\"내가 클릭한 곳\"))\n",
    "\n",
    "# 클릭한 곳의 위도와 경도 표시\n",
    "m.add_child(folium.LatLngPopup())\n",
    "\n",
    "m"
   ]
  },
  {
   "cell_type": "code",
   "execution_count": null,
   "id": "ce04570d",
   "metadata": {},
   "outputs": [],
   "source": [
    "# 실습 1. 강의장 주변 장소 3개 표시\n",
    "\n",
    "m = folium.Map(location=([37.610307458424124, 126.9129426172529]), zoom_start=18)\n",
    "folium.Marker([37.610307458424124, 126.9129426172529], popup=\"강의장\",icon=folium.Icon(color=\"black\", icon=\"info-sign\")).add_to(m)\n",
    "folium.CircleMarker([37.610307458424124, 126.9129426172529], radius=250, color=\"#adcdff\", fill_color=\"#adcdff\", popup=\"CircleMarker\", tooltip=\"tooltip\").add_to(m)\n",
    "\n",
    "folium.Marker([37.61053465856036, 126.91253745954839], popup=\"편의점\",icon=folium.Icon(color=\"red\", icon=\"info-sign\")).add_to(m)\n",
    "folium.Marker([37.61129285580686, 126.91135019516805], popup=\"정류장\",icon=folium.Icon(color=\"red\", icon=\"info-sign\")).add_to(m)\n",
    "folium.Marker([37.60946962908023, 126.9130653431001], popup=\"도서관\",icon=folium.Icon(color=\"red\", icon=\"info-sign\")).add_to(m)\n",
    "\n",
    "m"
   ]
  },
  {
   "cell_type": "code",
   "execution_count": null,
   "id": "90d9375b",
   "metadata": {},
   "outputs": [],
   "source": [
    "# 실습 2.\n",
    "import pandas as pd\n",
    "\n",
    "df = pd.read_csv(\"dataset/택시승차대 현황.csv\", encoding=\"CP949\")\n",
    "\n",
    "taxi = df.loc[:,[\"위치명\", \"위도\", \"경도\"]]\n",
    "\n",
    "latitude = taxi[\"위도\"].mean()\n",
    "longitude = taxi[\"경도\"].mean()\n",
    "\n",
    "m = folium.Map(([latitude, longitude]), zoom_start=15)\n",
    "\n",
    "for idx, row in taxi.iterrows():\n",
    "    folium.Marker(\n",
    "        [row[\"위도\"], row[\"경도\"]],\n",
    "        tooltip = row[\"위치명\"],\n",
    "        icon=folium.Icon(color=\"orange\", icon=\"fa-solid fa-taxi\", prefix=\"fa-solid\")\n",
    "    ).add_to(m)\n",
    "\n",
    "m"
   ]
  }
 ],
 "metadata": {
  "kernelspec": {
   "display_name": "python-libraries",
   "language": "python",
   "name": "python3"
  },
  "language_info": {
   "codemirror_mode": {
    "name": "ipython",
    "version": 3
   },
   "file_extension": ".py",
   "mimetype": "text/x-python",
   "name": "python",
   "nbconvert_exporter": "python",
   "pygments_lexer": "ipython3",
   "version": "3.13.5"
  }
 },
 "nbformat": 4,
 "nbformat_minor": 5
}
