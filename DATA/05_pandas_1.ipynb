{
 "cells": [
  {
   "cell_type": "markdown",
   "id": "765c99b6",
   "metadata": {},
   "source": [
    "## Pandas_1"
   ]
  },
  {
   "cell_type": "markdown",
   "id": "a7351e98",
   "metadata": {},
   "source": [
    "### 조건 필터링"
   ]
  },
  {
   "cell_type": "code",
   "execution_count": 2,
   "id": "5f8ea2fb",
   "metadata": {},
   "outputs": [
    {
     "name": "stdout",
     "output_type": "stream",
     "text": [
      "2.3.1\n"
     ]
    }
   ],
   "source": [
    "import pandas as pd\n",
    "import numpy as np\n",
    "print(pd.__version__)"
   ]
  },
  {
   "cell_type": "code",
   "execution_count": null,
   "id": "3700f6cc",
   "metadata": {},
   "outputs": [],
   "source": [
    "data = {\n",
    "    '이름': ['홍길동', '김철수', '이영희', '박민수'],\n",
    "    '점수': [90, 70, 95, 95],\n",
    "    '반': [2, 1, 1, 2]\n",
    "}\n",
    "df = pd.DataFrame(data)\n",
    "df\n",
    "# 이름\t점수\t반\n",
    "# 0\t홍길동\t90\t2\n",
    "# 1\t김철수\t70\t1\n",
    "# 2\t이영희\t95\t1\n",
    "# 3\t박민수\t95\t2"
   ]
  },
  {
   "cell_type": "code",
   "execution_count": null,
   "id": "05de2a37",
   "metadata": {},
   "outputs": [],
   "source": [
    "mask = df[\"점수\"] >= 80\n",
    "filtered = df[mask]\n",
    "filtered\n",
    "# 이름\t점수\t반\n",
    "# 0\t홍길동\t90\t2\n",
    "# 2\t이영희\t95\t1\n",
    "# 3\t박민수\t95\t2"
   ]
  },
  {
   "cell_type": "code",
   "execution_count": null,
   "id": "f15d817d",
   "metadata": {},
   "outputs": [],
   "source": [
    "# 여러 조건 결합\n",
    "# and : &\n",
    "# or : |\n",
    "# not : ~\n",
    "\n",
    "# & 예시\n",
    "mask = (df[\"반\"] == 1) & (df[\"점수\"] >= 80)\n",
    "df[mask]\n",
    "#   이름   점수\t반\n",
    "# 2\t이영희\t95\t1"
   ]
  },
  {
   "cell_type": "code",
   "execution_count": null,
   "id": "846d7651",
   "metadata": {},
   "outputs": [],
   "source": [
    "# | 예시\n",
    "mask = (df[\"반\"] == 2) | (df[\"점수\"] >= 90)\n",
    "df[mask]\n",
    "# 이름\t점수\t반\n",
    "# 0\t홍길동\t90\t2\n",
    "# 2\t이영희\t95\t1\n",
    "# 3\t박민수\t95\t2"
   ]
  },
  {
   "cell_type": "code",
   "execution_count": null,
   "id": "e381e47c",
   "metadata": {},
   "outputs": [],
   "source": [
    "# isin()\n",
    "# 여러 값 중에 하나에 해당하는지 여부를 판단할 때 사용\n",
    "\n",
    "msdk = (df[\"이름\"] == \"홍길동\") | (df[\"이름\"] == \"박민수\")\n",
    "\n",
    "mask = df[\"이름\"].isin([\"홍길동\", \"박민수\"])\n",
    "df[mask]\n",
    "# 이름\t점수\t반\n",
    "# 0\t홍길동\t90\t2\n",
    "# 3\t박민수\t95\t2"
   ]
  },
  {
   "cell_type": "code",
   "execution_count": null,
   "id": "8f41cffd",
   "metadata": {},
   "outputs": [],
   "source": [
    "#  ~ 예시\n",
    "\n",
    "mask = ~ df[\"이름\"].isin([\"홍길동\", \"박민수\"])\n",
    "df[mask]\n",
    "# 이름\t점수\t반\n",
    "# 1\t김철수\t70\t1\n",
    "# 2\t이영희\t95\t1"
   ]
  },
  {
   "cell_type": "code",
   "execution_count": null,
   "id": "f514a5a0",
   "metadata": {},
   "outputs": [],
   "source": [
    "# reset_index()\n",
    "# 조건 필터링, 정렬 등을 통해 인덱스가 변경됐을시\n",
    "# reset_index를 사용해서 인덱스를 초기화\n",
    "\n",
    "mask = (df[\"반\"] == 2) | (df[\"점수\"] >= 90)\n",
    "df2 = df[mask]\n",
    "df2\n",
    "#   이름   점수\t반\n",
    "# 0\t홍길동\t90\t2\n",
    "# 2\t이영희\t95\t1\n",
    "# 3\t박민수\t95\t2\n",
    "\n",
    "# 인덱스 리셋\n",
    "df2 = df2.reset_index()\n",
    "df2\n",
    "# index\t이름   점수\t 반\n",
    "# 0\t0\t홍길동\t90\t2\n",
    "# 1\t2\t이영희\t95\t1\n",
    "# 2\t3\t박민수\t95\t2\n",
    "\n",
    "# 기존 인덱스 삭제\n",
    "df2 = df2.reset_index(drop=True)\n",
    "df2\n",
    "#   이름   점수\t반\n",
    "# 0\t홍길동\t90\t2\n",
    "# 1\t이영희\t95\t1\n",
    "# 2\t박민수\t95\t2"
   ]
  },
  {
   "cell_type": "code",
   "execution_count": null,
   "id": "94235971",
   "metadata": {},
   "outputs": [],
   "source": [
    "# 실습 1. 조건 필터링 연습\n",
    "df = pd.DataFrame({\n",
    "'이름': ['민준', '서연', '지후', '서준', '지민'],\n",
    "'점수': [78, 92, 85, 60, 88],\n",
    "'반': [1, 2, 1, 2, 1]\n",
    "})\n",
    "df"
   ]
  },
  {
   "cell_type": "code",
   "execution_count": null,
   "id": "8043fdf5",
   "metadata": {},
   "outputs": [],
   "source": [
    "# 1.\n",
    "df[df[\"점수\"] >= 80].reset_index(drop=True)"
   ]
  },
  {
   "cell_type": "code",
   "execution_count": null,
   "id": "02699e80",
   "metadata": {},
   "outputs": [],
   "source": [
    "# 2.\n",
    "df[(df[\"반\"] == 1) & (df[\"점수\"] >= 85)].reset_index(drop=True)"
   ]
  },
  {
   "cell_type": "code",
   "execution_count": null,
   "id": "cdeff0e4",
   "metadata": {},
   "outputs": [],
   "source": [
    "df = pd.DataFrame({\n",
    "'이름': ['민준', '서연', '지후', '서준', '지민'],\n",
    "'점수': [78, 92, 85, 60, 88],\n",
    "'반': [1, 2, 1, 2, 1]\n",
    "})\n",
    "df"
   ]
  },
  {
   "cell_type": "code",
   "execution_count": null,
   "id": "ec5d908f",
   "metadata": {},
   "outputs": [],
   "source": [
    "# 3.\n",
    "df[df[\"이름\"].isin([\"서연\", \"지민\"])]"
   ]
  },
  {
   "cell_type": "code",
   "execution_count": null,
   "id": "853e885d",
   "metadata": {},
   "outputs": [],
   "source": [
    "# 4.\n",
    "df[df[\"이름\"].isin([\"서연\", \"지민\"])].reset_index(drop=True)"
   ]
  },
  {
   "cell_type": "code",
   "execution_count": null,
   "id": "e36bf4c0",
   "metadata": {},
   "outputs": [],
   "source": [
    "df = pd.DataFrame({\n",
    "'이름': ['민준', '서연', '지후', '서준', '지민'],\n",
    "'점수': [78, 92, 85, 60, 88],\n",
    "'반': [1, 2, 1, 2, 1]\n",
    "})\n",
    "df"
   ]
  },
  {
   "cell_type": "code",
   "execution_count": null,
   "id": "f4937345",
   "metadata": {},
   "outputs": [],
   "source": [
    "# 5.\n",
    "df5 = df[(df[\"점수\"] < 80) | (df[\"반\"] == 2)]\n",
    "df5"
   ]
  },
  {
   "cell_type": "code",
   "execution_count": null,
   "id": "7f9ac07d",
   "metadata": {},
   "outputs": [],
   "source": [
    "# 6.\n",
    "df5[df5[\"점수\"] >= 70].reset_index(drop=True)"
   ]
  },
  {
   "cell_type": "markdown",
   "id": "5d715a42",
   "metadata": {},
   "source": [
    "### 열 추가 및 수정, 삭제"
   ]
  },
  {
   "cell_type": "code",
   "execution_count": null,
   "id": "e245e206",
   "metadata": {},
   "outputs": [],
   "source": [
    "df = pd.DataFrame({\n",
    "    '이름': ['김철수', '이영희', '박민수'],\n",
    "    '국어': [90, 80, 70],\n",
    "    '영어': [85, 78, 92]\n",
    "})\n",
    "df\n",
    "#   이름   국어\t영어\n",
    "# 0\t김철수\t90\t85\n",
    "# 1\t이영희\t80\t78\n",
    "# 2\t박민수\t70\t92"
   ]
  },
  {
   "cell_type": "code",
   "execution_count": null,
   "id": "85d8cfa8",
   "metadata": {},
   "outputs": [],
   "source": [
    "# 열 추가 및 수정\n",
    "# df[\"컬럼명\"] = \"값\"\n",
    "# 컬럼이 존재하면 수정 / 컬럼이 존재하지 않으면 추가\n",
    "\n",
    "# 같은 값을 한번에 추가\n",
    "df[\"반\"] = \"1반\"\n",
    "df\n",
    "#   이름   국어\t영어   반\n",
    "# 0\t김철수\t90\t85\t1반\n",
    "# 1\t이영희\t80\t78\t1반\n",
    "# 2\t박민수\t70\t92\t1반"
   ]
  },
  {
   "cell_type": "code",
   "execution_count": null,
   "id": "4f37aa7a",
   "metadata": {},
   "outputs": [],
   "source": [
    "# 조건문을 통한 추가\n",
    "df[\"국어_합격여부\"] = df[\"국어\"] >= 80\n",
    "df\n",
    "#   이름   국어\t영어  반  국어_합격여부\n",
    "# 0\t김철수\t90\t85\t1반\tTrue\n",
    "# 1\t이영희\t80\t78\t1반\tTrue\n",
    "# 2\t박민수\t70\t92\t1반\tFalse"
   ]
  },
  {
   "cell_type": "code",
   "execution_count": null,
   "id": "6fc0c204",
   "metadata": {},
   "outputs": [],
   "source": [
    "# 리스트/시리즈를 통한 열 추가\n",
    "df[\"학번\"] = [101, 102, 103]\n",
    "df\n",
    "#   이름   국어\t영어  반 국어_합격여부\t학번\n",
    "# 0\t김철수\t90\t85\t1반\tTrue\t101\n",
    "# 1\t이영희\t80\t78\t1반\tTrue\t102\n",
    "# 2\t박민수\t70\t92\t1반\tFalse\t103"
   ]
  },
  {
   "cell_type": "code",
   "execution_count": null,
   "id": "72650a2a",
   "metadata": {},
   "outputs": [],
   "source": [
    "# 시리즈의 연산 결과로 새 열 추가\n",
    "df[\"총점\"] = df[\"국어\"] + df[\"영어\"]\n",
    "df\n",
    "#   이름   국어\t영어  반 국어_합격여부 학번\t총점\n",
    "# 0\t김철수\t90\t85\t1반\tTrue\t101\t175\n",
    "# 1\t이영희\t80\t78\t1반\tTrue\t102\t158\n",
    "# 2\t박민수\t70\t92\t1반\tFalse\t103\t162"
   ]
  },
  {
   "cell_type": "code",
   "execution_count": null,
   "id": "b8525226",
   "metadata": {},
   "outputs": [],
   "source": [
    "# 새로운 컬럼 추가시, 행의 개수가 맞지 않으면 에러 발생\n",
    "df[\"새로운 열\"] = [1, 2]"
   ]
  },
  {
   "cell_type": "code",
   "execution_count": null,
   "id": "03d5ed9f",
   "metadata": {},
   "outputs": [],
   "source": [
    "# 기존 값을 한번에 변경\n",
    "df[\"영어\"] = 100\n",
    "df\n",
    "#   이름   국어\t 영어 반 국어_합격여부 학번\t총점\n",
    "# 0\t김철수\t90\t100\t1반\tTrue\t101\t175\n",
    "# 1\t이영희\t80\t100\t1반\tTrue\t102\t158\n",
    "# 2\t박민수\t70\t100\t1반\tFalse\t103\t162"
   ]
  },
  {
   "cell_type": "code",
   "execution_count": null,
   "id": "18635940",
   "metadata": {},
   "outputs": [],
   "source": [
    "# 열 삭제 : drop\n",
    "# 단일 열 삭제\n",
    "df2 = df.drop(\"반\", axis=1)\n",
    "df2\n",
    "#   이름   국어\t영어 국어_합격여부 학번\t총점\n",
    "# 0\t김철수\t90\t100\tTrue\t101\t175\n",
    "# 1\t이영희\t80\t100\tTrue\t102\t158\n",
    "# 2\t박민수\t70\t100\tFalse\t103\t162"
   ]
  },
  {
   "cell_type": "code",
   "execution_count": null,
   "id": "606cdf18",
   "metadata": {},
   "outputs": [],
   "source": [
    "# 여러 열 삭제\n",
    "df3 = df2.drop([\"총점\", \"국어_합격여부\"], axis=1)\n",
    "df3\n",
    "#   이름   국어\t영어  학번\n",
    "# 0\t김철수\t90\t100\t101\n",
    "# 1\t이영희\t80\t100\t102\n",
    "# 2\t박민수\t70\t100\t103"
   ]
  },
  {
   "cell_type": "code",
   "execution_count": null,
   "id": "df069fe8",
   "metadata": {},
   "outputs": [],
   "source": [
    "# 원본에서 삭제\n",
    "df.drop(\"반\", axis=1, inplace=True)\n",
    "df\n",
    "#   이름   국어\t영어 국어_합격여부 학번\t총점\n",
    "# 0\t김철수\t90\t100\tTrue\t101\t175\n",
    "# 1\t이영희\t80\t100\tTrue\t102\t158\n",
    "# 2\t박민수\t70\t100\tFalse\t103\t162"
   ]
  },
  {
   "cell_type": "code",
   "execution_count": null,
   "id": "866a835f",
   "metadata": {},
   "outputs": [],
   "source": [
    "# 기타 삭제 방법\n",
    "del df[\"총점\"]\n",
    "df\n",
    "#   이름   국어\t영어 국어_합격여부 학번\n",
    "# 0\t김철수\t90\t100\tTrue\t101\n",
    "# 1\t이영희\t80\t100\tTrue\t102\n",
    "# 2\t박민수\t70\t100\tFalse\t103\n",
    "\n",
    "deleted = df.pop(\"국어_합격여부\")\n",
    "deleted\n",
    "# 0     True\n",
    "# 1     True\n",
    "# 2    False\n",
    "# Name: 국어_합격여부, dtype: bool"
   ]
  },
  {
   "cell_type": "markdown",
   "id": "764c6b8c",
   "metadata": {},
   "source": [
    "### 행 추가 및 수정, 삭제\n"
   ]
  },
  {
   "cell_type": "code",
   "execution_count": null,
   "id": "98e6649f",
   "metadata": {},
   "outputs": [],
   "source": [
    "df = pd.DataFrame({\n",
    "    '이름': ['김철수', '이영희'],\n",
    "    '나이': [23, 25]\n",
    "})\n",
    "df\n",
    "#   이름   나이\n",
    "# 0\t김철수\t23\n",
    "# 1\t이영희\t25"
   ]
  },
  {
   "cell_type": "code",
   "execution_count": null,
   "id": "73a55b34",
   "metadata": {},
   "outputs": [],
   "source": [
    "# 행추가 :concat\n",
    "# 새 행을 추가하기\n",
    "new_row = pd.DataFrame([{\"이름\": \"태현\", \"나이\": 27}])\n",
    "\n",
    "df = pd.concat([df, new_row])\n",
    "df\n",
    "# 이름\t나이\n",
    "# 0\t김철수\t23\n",
    "# 1\t이영희\t25\n",
    "# 0\t태현\t27\n",
    "\n",
    "# 인덱스 재정렬\n",
    "df = pd.concat([df, new_row], ignore_index=True)\n",
    "df\n",
    "#   이름\t나이\n",
    "# 0\t김철수\t 23\n",
    "# 1\t이영희\t 25\n",
    "# 2\t태현\t27"
   ]
  },
  {
   "cell_type": "code",
   "execution_count": null,
   "id": "ca7a698e",
   "metadata": {},
   "outputs": [],
   "source": [
    "# 여러 행 추가하기\n",
    "new_rows = pd.DataFrame([{\"이름\": \"태현\", \"나이\": 27},\n",
    "                        {\"이름\": \"이름1\", \"나이\": 22},\n",
    "                        {\"이름\": \"이름2\", \"나이\": 26}])\n",
    "\n",
    "df = pd.concat([df, new_rows], ignore_index=True)\n",
    "df\n",
    "#   이름\t나이\n",
    "# 0\t김철수\t 23\n",
    "# 1\t이영희\t 25\n",
    "# 2\t태현\t27\n",
    "# 3\t이름1\t22\n",
    "# 4\t이름2\t26"
   ]
  },
  {
   "cell_type": "code",
   "execution_count": null,
   "id": "4651c898",
   "metadata": {},
   "outputs": [],
   "source": [
    "# 행 수정\n",
    "# loc, iloc을 활용\n",
    "df.loc[1] = [\"김영희\", 35]\n",
    "df\n",
    "#   이름\t나이\n",
    "# 0\t김철수\t23\n",
    "# 1\t김영희\t35\n",
    "# 2\t태현\t27\n",
    "# 3\t이름1\t22\n",
    "# 4\t이름2\t26\n",
    "\n",
    "df.loc[0, \"나이\"] = 18\n",
    "df\n",
    "#   이름\t나이\n",
    "# 0\t김철수\t18\n",
    "# 1\t김영희\t35\n",
    "# 2\t태현\t27\n",
    "# 3\t이름1\t22\n",
    "# 4\t이름2\t26"
   ]
  },
  {
   "cell_type": "code",
   "execution_count": null,
   "id": "49331df4",
   "metadata": {},
   "outputs": [],
   "source": [
    "df.loc[1:3, \"나이\"] = 11, 12, 13\n",
    "df\n",
    "#   이름\t나이\n",
    "# 0\t김철수\t18\n",
    "# 1\t김영희\t11\n",
    "# 2\t태현\t12\n",
    "# 3\t이름1\t13\n",
    "# 4\t이름2\t26"
   ]
  },
  {
   "cell_type": "code",
   "execution_count": null,
   "id": "18444e4f",
   "metadata": {},
   "outputs": [],
   "source": [
    "# \n",
    "df.loc[1:2, [\"이름\", \"나이\"]] = [[\"new1\", 100], [\"new2\", 200]]\n",
    "df\n",
    "#   이름\t나이\n",
    "# 0\t김철수\t 18\n",
    "# 1\tnew1\t100\n",
    "# 2\tnew2\t200\n",
    "# 3\t이름1\t 13\n",
    "# 4\t이름2\t 26"
   ]
  },
  {
   "cell_type": "code",
   "execution_count": null,
   "id": "8420e937",
   "metadata": {},
   "outputs": [],
   "source": [
    "# 행 삭제 : drop\n",
    "# axis 기본값 = 0\n",
    "# 단일 행 삭제\n",
    "df2 = df.drop(1).reset_index(drop=True)\n",
    "df2\n",
    "#   이름\t나이\n",
    "# 0\t김철수\t 18\n",
    "# 1\tnew2\t200\n",
    "# 2\t이름1\t 13\n",
    "# 3\t이름2\t 26"
   ]
  },
  {
   "cell_type": "code",
   "execution_count": null,
   "id": "4b3e31de",
   "metadata": {},
   "outputs": [],
   "source": [
    "# 여러 행 삭제\n",
    "df3 = df.drop([0, 2]).reset_index(drop=True)\n",
    "df3\n",
    "#   이름\t나이\n",
    "# 0\tnew1\t100\n",
    "# 1\t이름1\t 13\n",
    "# 2\t이름2\t 26"
   ]
  },
  {
   "cell_type": "code",
   "execution_count": null,
   "id": "4c8ef7a3",
   "metadata": {},
   "outputs": [],
   "source": [
    "# 조건을 이용한 삭제\n",
    "df = df[df[\"나이\"] >= 20]\n",
    "df\n",
    "#   이름\t나이\n",
    "# 1\tnew1\t100\n",
    "# 2\tnew2\t200\n",
    "# 4\t태현\t 27\n",
    "# 5\t이름1\t 22\n",
    "# 6\t이름2\t 26"
   ]
  },
  {
   "cell_type": "code",
   "execution_count": null,
   "id": "8455446e",
   "metadata": {},
   "outputs": [],
   "source": [
    "# 실습 2. 행/열 추가, 수정, 삭제\n",
    "df = pd.DataFrame({\n",
    "'이름': ['김철수', '이영희', '박민수'],\n",
    "'국어': [90, 80, 70]\n",
    "})\n",
    "df"
   ]
  },
  {
   "cell_type": "code",
   "execution_count": null,
   "id": "a50d1341",
   "metadata": {},
   "outputs": [],
   "source": [
    "# 1.\n",
    "df[\"수학\"] = [95, 100, 88]\n",
    "df"
   ]
  },
  {
   "cell_type": "code",
   "execution_count": null,
   "id": "5d9d1e2a",
   "metadata": {},
   "outputs": [],
   "source": [
    "# 2.\n",
    "df2 = df.drop(\"이름\", axis=1)\n",
    "df2"
   ]
  },
  {
   "cell_type": "code",
   "execution_count": null,
   "id": "da60be15",
   "metadata": {},
   "outputs": [],
   "source": [
    "df = pd.DataFrame({\n",
    "'제품': ['A', 'B'],\n",
    "'가격': [1000, 2000]\n",
    "})\n",
    "df"
   ]
  },
  {
   "cell_type": "code",
   "execution_count": null,
   "id": "e4f5a541",
   "metadata": {},
   "outputs": [],
   "source": [
    "# 3.\n",
    "new_item = pd.DataFrame([{\"제품\":\"C\", \"가격\":1500}])\n",
    "df = pd.concat([df, new_item], ignore_index=True)\n",
    "df"
   ]
  },
  {
   "cell_type": "code",
   "execution_count": null,
   "id": "897df432",
   "metadata": {},
   "outputs": [],
   "source": [
    "# 4.\n",
    "df.drop(0, inplace=True)\n",
    "df"
   ]
  },
  {
   "cell_type": "code",
   "execution_count": null,
   "id": "b3011763",
   "metadata": {},
   "outputs": [],
   "source": [
    "df = pd.DataFrame({\n",
    "'과목': ['국어', '영어', '수학'],\n",
    "'점수': [85, 90, 78]\n",
    "})\n",
    "df"
   ]
  },
  {
   "cell_type": "code",
   "execution_count": null,
   "id": "498498e6",
   "metadata": {},
   "outputs": [],
   "source": [
    "# 5.\n",
    "df = df[df[\"점수\"] >= 80]\n",
    "df"
   ]
  },
  {
   "cell_type": "code",
   "execution_count": null,
   "id": "a8fd1a79",
   "metadata": {},
   "outputs": [],
   "source": [
    "# 6.\n",
    "df6 = df.copy()\n",
    "df6[\"학년\"] = 1\n",
    "df6"
   ]
  },
  {
   "cell_type": "code",
   "execution_count": null,
   "id": "8844e325",
   "metadata": {},
   "outputs": [],
   "source": [
    "df = pd.DataFrame({\n",
    "'이름': ['A', 'B'],\n",
    "'나이': [20, 22]\n",
    "})\n",
    "df"
   ]
  },
  {
   "cell_type": "code",
   "execution_count": null,
   "id": "000a37ca",
   "metadata": {},
   "outputs": [],
   "source": [
    "# 7.\n",
    "new = pd.DataFrame([{\"이름\":\"C\", \"나이\":25, \"키\":np.nan}])\n",
    "df = pd.concat([df, new], ignore_index=True)\n",
    "df"
   ]
  },
  {
   "cell_type": "code",
   "execution_count": null,
   "id": "6ed367d0",
   "metadata": {},
   "outputs": [],
   "source": [
    "df = pd.DataFrame({\n",
    "'부서': ['영업', '기획', '개발', '디자인'],\n",
    "'인원': [3, 2, 5, 1]\n",
    "})\n",
    "df"
   ]
  },
  {
   "cell_type": "code",
   "execution_count": null,
   "id": "0dab3eb6",
   "metadata": {},
   "outputs": [],
   "source": [
    "# 8.\n",
    "df = df[df[\"인원\"] > 2].reset_index(drop=True)\n",
    "df"
   ]
  },
  {
   "cell_type": "code",
   "execution_count": null,
   "id": "aaaebc70",
   "metadata": {},
   "outputs": [],
   "source": [
    "# 9.\n",
    "df[\"평가\"] = \"미정\"\n",
    "df"
   ]
  },
  {
   "cell_type": "markdown",
   "id": "7be888a2",
   "metadata": {},
   "source": [
    "### 문자열 데이터 처리"
   ]
  },
  {
   "cell_type": "code",
   "execution_count": null,
   "id": "72abb3b0",
   "metadata": {},
   "outputs": [],
   "source": [
    "# 데이터프레임 준비\n",
    "data = {\n",
    "    'name': [' Alice ', 'Bob', 'Charlie ', 'David', 'Eve'],\n",
    "    'email': ['alice@email.com', 'bob@naver.com', 'charlie@gmail.com', 'david@naver.com', 'eve@gmail.com'],\n",
    "    'info': ['서울, 25세', '부산, 30세', '대전, 22세', '대구, 27세', '광주, 24세']\n",
    "}\n",
    "df = pd.DataFrame(data)"
   ]
  },
  {
   "cell_type": "markdown",
   "id": "f5a76145",
   "metadata": {},
   "source": [
    "### 정렬\n",
    "- 값 기준 정렬 : sort_values\n",
    "- 인덱스 기준 정렬 : sort_index"
   ]
  },
  {
   "cell_type": "code",
   "execution_count": null,
   "id": "c4c5d104",
   "metadata": {},
   "outputs": [],
   "source": [
    "# 값 기준 정렬 : sort_values"
   ]
  },
  {
   "cell_type": "code",
   "execution_count": null,
   "id": "03274110",
   "metadata": {},
   "outputs": [
    {
     "data": {
      "text/html": [
       "<div>\n",
       "<style scoped>\n",
       "    .dataframe tbody tr th:only-of-type {\n",
       "        vertical-align: middle;\n",
       "    }\n",
       "\n",
       "    .dataframe tbody tr th {\n",
       "        vertical-align: top;\n",
       "    }\n",
       "\n",
       "    .dataframe thead th {\n",
       "        text-align: right;\n",
       "    }\n",
       "</style>\n",
       "<table border=\"1\" class=\"dataframe\">\n",
       "  <thead>\n",
       "    <tr style=\"text-align: right;\">\n",
       "      <th></th>\n",
       "      <th>이름</th>\n",
       "      <th>점수</th>\n",
       "      <th>반</th>\n",
       "    </tr>\n",
       "  </thead>\n",
       "  <tbody>\n",
       "    <tr>\n",
       "      <th>0</th>\n",
       "      <td>홍길동</td>\n",
       "      <td>90</td>\n",
       "      <td>2</td>\n",
       "    </tr>\n",
       "    <tr>\n",
       "      <th>1</th>\n",
       "      <td>김철수</td>\n",
       "      <td>70</td>\n",
       "      <td>1</td>\n",
       "    </tr>\n",
       "    <tr>\n",
       "      <th>2</th>\n",
       "      <td>이영희</td>\n",
       "      <td>85</td>\n",
       "      <td>1</td>\n",
       "    </tr>\n",
       "    <tr>\n",
       "      <th>3</th>\n",
       "      <td>박민수</td>\n",
       "      <td>95</td>\n",
       "      <td>2</td>\n",
       "    </tr>\n",
       "  </tbody>\n",
       "</table>\n",
       "</div>"
      ],
      "text/plain": [
       "    이름  점수  반\n",
       "0  홍길동  90  2\n",
       "1  김철수  70  1\n",
       "2  이영희  85  1\n",
       "3  박민수  95  2"
      ]
     },
     "execution_count": 3,
     "metadata": {},
     "output_type": "execute_result"
    }
   ],
   "source": [
    "data = {\n",
    "    '이름': ['홍길동', '김철수', '이영희', '박민수'],\n",
    "    '점수': [90, 70, 85, 95],\n",
    "    '반': [2, 1, 1, 2]\n",
    "}\n",
    "df = pd.DataFrame(data)\n",
    "df\n",
    "#   이름   점수\t반\n",
    "# 0\t홍길동\t90\t2\n",
    "# 1\t김철수\t70\t1\n",
    "# 2\t이영희\t85\t1\n",
    "# 3\t박민수\t95\t2"
   ]
  },
  {
   "cell_type": "code",
   "execution_count": null,
   "id": "3cb6a369",
   "metadata": {},
   "outputs": [],
   "source": [
    "# 오름차순 정렬\n",
    "df2 = df.sort_values(by=\"점수\").reset_index(drop=True)\n",
    "df2\n",
    "#   이름   점수\t반\n",
    "# 0\t김철수\t70\t1\n",
    "# 1\t이영희\t85\t1\n",
    "# 2\t홍길동\t90\t2\n",
    "# 3\t박민수\t95\t2"
   ]
  },
  {
   "cell_type": "code",
   "execution_count": null,
   "id": "5a702f20",
   "metadata": {},
   "outputs": [],
   "source": [
    "# 내림차순 정렬\n",
    "# ascending=False\n",
    "df3 = df.sort_values(\"점수\", ascending=False).reset_index(drop=True)\n",
    "df3\n",
    "#   이름   점수\t반\n",
    "# 0\t박민수\t95\t2\n",
    "# 1\t홍길동\t90\t2\n",
    "# 2\t이영희\t85\t1\n",
    "# 3\t김철수\t70\t1"
   ]
  },
  {
   "cell_type": "code",
   "execution_count": null,
   "id": "76fddbe6",
   "metadata": {},
   "outputs": [],
   "source": [
    "# 여러 기준을 사용하여 정렬\n",
    "df4 = df.sort_values([\"반\", \"점수\"], ascending=[True, False]).reset_index(drop=True)\n",
    "df4\n",
    "#   이름   점수\t반\n",
    "# 0\t이영희\t85\t1\n",
    "# 1\t김철수\t70\t1\n",
    "# 2\t박민수\t95\t2\n",
    "# 3\t홍길동\t90\t2"
   ]
  },
  {
   "cell_type": "code",
   "execution_count": null,
   "id": "bd00e154",
   "metadata": {},
   "outputs": [],
   "source": [
    "# 원본 변경\n",
    "df.sort_values([\"반\", \"점수\"], ascending=[True, False], inplace=True)\n",
    "df.reset_index(drop=True)\n",
    "#   이름   점수\t반\n",
    "# 0\t이영희\t85\t1\n",
    "# 1\t김철수\t70\t1\n",
    "# 2\t박민수\t95\t2\n",
    "# 3\t홍길동\t90\t2"
   ]
  },
  {
   "cell_type": "code",
   "execution_count": null,
   "id": "e42cce71",
   "metadata": {},
   "outputs": [],
   "source": [
    "# 인덱스 기준 정렬 : sort_index"
   ]
  },
  {
   "cell_type": "code",
   "execution_count": null,
   "id": "6a3daada",
   "metadata": {},
   "outputs": [],
   "source": [
    "df_shuffled = df.sample(frac=1, random_state=42)\n",
    "df_shuffled\n",
    "#   이름   점수\t반\n",
    "# 1\t김철수\t70\t1\n",
    "# 0\t홍길동\t90\t2\n",
    "# 2\t이영희\t85\t1\n",
    "# 3\t박민수\t95\t2\n",
    "\n",
    "# 행 인덱스 기준으로 정렬\n",
    "df5 = df_shuffled.sort_index()\n",
    "df5\n",
    "#   이름   점수\t반\n",
    "# 0\t홍길동\t90\t2\n",
    "# 1\t김철수\t70\t1\n",
    "# 2\t이영희\t85\t1\n",
    "# 3\t박민수\t95\t2\n",
    "\n",
    "# 열 이름 기준 정렬 (알파벳순)\n",
    "df6 = df5.sort_index(axis=1)\n",
    "df6\n",
    "#   반\t 이름\t점수\n",
    "# 0\t2\t홍길동\t90\n",
    "# 1\t1\t김철수\t70\n",
    "# 2\t1\t이영희\t85\n",
    "# 3\t2\t박민수\t95"
   ]
  },
  {
   "cell_type": "code",
   "execution_count": null,
   "id": "e1939dcd",
   "metadata": {},
   "outputs": [],
   "source": [
    "# 실습3. 정렬\n",
    "df = pd.DataFrame({\n",
    "'name': ['Alice', 'Bob', 'Charlie', 'David'],\n",
    "'score': [88, 95, 70, 100]\n",
    "})\n",
    "df"
   ]
  },
  {
   "cell_type": "code",
   "execution_count": null,
   "id": "9c0db2b0",
   "metadata": {},
   "outputs": [],
   "source": [
    "# 1.\n",
    "df1 = df.sort_values(\"score\").reset_index(drop=True)\n",
    "df1"
   ]
  },
  {
   "cell_type": "code",
   "execution_count": null,
   "id": "949366dc",
   "metadata": {},
   "outputs": [],
   "source": [
    "# 2.\n",
    "df2 = df.sort_values(\"score\", ascending=False).reset_index(drop=True)\n",
    "df2"
   ]
  },
  {
   "cell_type": "code",
   "execution_count": null,
   "id": "0643a096",
   "metadata": {},
   "outputs": [],
   "source": [
    "df = pd.DataFrame({\n",
    "'이름': ['가', '나', '다', '라', '마'],\n",
    "'반': [2, 1, 1, 2, 1],\n",
    "'점수': [90, 85, 80, 95, 85]\n",
    "})\n",
    "df"
   ]
  },
  {
   "cell_type": "code",
   "execution_count": null,
   "id": "0087b79c",
   "metadata": {},
   "outputs": [],
   "source": [
    "# 3.\n",
    "df3 = df.sort_values([\"반\", \"점수\"], ascending=[True, False]).reset_index(drop=True)\n",
    "df3"
   ]
  },
  {
   "cell_type": "code",
   "execution_count": null,
   "id": "59e30184",
   "metadata": {},
   "outputs": [],
   "source": [
    "# 4.\n",
    "df4 = df3.sort_index(axis=1)\n",
    "df4"
   ]
  },
  {
   "cell_type": "code",
   "execution_count": null,
   "id": "a975ca9e",
   "metadata": {},
   "outputs": [],
   "source": [
    "df = pd.DataFrame({\n",
    "'value': [10, 20, 30, 40]\n",
    "}, index=[3, 1, 4, 2])\n",
    "df"
   ]
  },
  {
   "cell_type": "code",
   "execution_count": null,
   "id": "de78522a",
   "metadata": {},
   "outputs": [],
   "source": [
    "# 5.\n",
    "df5 = df.sort_index()\n",
    "df5"
   ]
  },
  {
   "cell_type": "code",
   "execution_count": null,
   "id": "2243b43e",
   "metadata": {},
   "outputs": [],
   "source": [
    "# 6.\n",
    "df6_index = df.sort_index(ascending=False)\n",
    "df6_values = df.sort_values(\"value\").reset_index(drop=True)\n",
    "print(\"index 기준 내림차순\\n\", df6_index)\n",
    "print(\"value 기준 오름차순\\n\", df6_values)"
   ]
  },
  {
   "cell_type": "markdown",
   "id": "40619eee",
   "metadata": {},
   "source": [
    "### groupby"
   ]
  },
  {
   "cell_type": "code",
   "execution_count": null,
   "id": "ba1f6145",
   "metadata": {},
   "outputs": [
    {
     "data": {
      "text/html": [
       "<div>\n",
       "<style scoped>\n",
       "    .dataframe tbody tr th:only-of-type {\n",
       "        vertical-align: middle;\n",
       "    }\n",
       "\n",
       "    .dataframe tbody tr th {\n",
       "        vertical-align: top;\n",
       "    }\n",
       "\n",
       "    .dataframe thead th {\n",
       "        text-align: right;\n",
       "    }\n",
       "</style>\n",
       "<table border=\"1\" class=\"dataframe\">\n",
       "  <thead>\n",
       "    <tr style=\"text-align: right;\">\n",
       "      <th></th>\n",
       "      <th>team</th>\n",
       "      <th>name</th>\n",
       "      <th>score</th>\n",
       "    </tr>\n",
       "  </thead>\n",
       "  <tbody>\n",
       "    <tr>\n",
       "      <th>0</th>\n",
       "      <td>A</td>\n",
       "      <td>Kim</td>\n",
       "      <td>90</td>\n",
       "    </tr>\n",
       "    <tr>\n",
       "      <th>1</th>\n",
       "      <td>A</td>\n",
       "      <td>Lee</td>\n",
       "      <td>85</td>\n",
       "    </tr>\n",
       "    <tr>\n",
       "      <th>2</th>\n",
       "      <td>B</td>\n",
       "      <td>Park</td>\n",
       "      <td>80</td>\n",
       "    </tr>\n",
       "    <tr>\n",
       "      <th>3</th>\n",
       "      <td>B</td>\n",
       "      <td>Choi</td>\n",
       "      <td>70</td>\n",
       "    </tr>\n",
       "    <tr>\n",
       "      <th>4</th>\n",
       "      <td>B</td>\n",
       "      <td>Jung</td>\n",
       "      <td>95</td>\n",
       "    </tr>\n",
       "    <tr>\n",
       "      <th>5</th>\n",
       "      <td>C</td>\n",
       "      <td>Han</td>\n",
       "      <td>88</td>\n",
       "    </tr>\n",
       "  </tbody>\n",
       "</table>\n",
       "</div>"
      ],
      "text/plain": [
       "  team  name  score\n",
       "0    A   Kim     90\n",
       "1    A   Lee     85\n",
       "2    B  Park     80\n",
       "3    B  Choi     70\n",
       "4    B  Jung     95\n",
       "5    C   Han     88"
      ]
     },
     "execution_count": 4,
     "metadata": {},
     "output_type": "execute_result"
    }
   ],
   "source": [
    "df = pd.DataFrame({\n",
    "    'team': ['A', 'A', 'B', 'B', 'B', 'C'],\n",
    "    'name': ['Kim', 'Lee', 'Park', 'Choi', 'Jung', 'Han'],\n",
    "    'score': [90, 85, 80, 70, 95, 88]\n",
    "})\n",
    "df\n",
    "# team\tname\tscore\n",
    "# 0\tA\tKim\t    90\n",
    "# 1\tA\tLee\t    85\n",
    "# 2\tB\tPark\t80\n",
    "# 3\tB\tChoi\t70\n",
    "# 4\tB\tJung\t95\n",
    "# 5\tC\tHan\t    88"
   ]
  },
  {
   "cell_type": "code",
   "execution_count": null,
   "id": "9159a918",
   "metadata": {},
   "outputs": [],
   "source": [
    "# 단일 컬럼 기준 그룹화\n",
    "\n",
    "grouped = df.groupby(\"team\")\n",
    "\n",
    "# 집계함수 적용\n",
    "\n",
    "# 합계\n",
    "result_sum = grouped[\"score\"].sum()\n",
    "result_sum\n",
    "# team\n",
    "# A    175\n",
    "# B    245\n",
    "# C     88\n",
    "# Name: score, dtype: int64\n",
    "\n",
    "# 평균\n",
    "result_mean = grouped[\"score\"].mean()\n",
    "result_mean\n",
    "# team\n",
    "# A    87.500000\n",
    "# B    81.666667\n",
    "# C    88.000000\n",
    "# Name: score, dtype: float64\n",
    "\n",
    "# 개수\n",
    "result_count = grouped[\"score\"].count()\n",
    "result_count\n",
    "# team\n",
    "# A    2\n",
    "# B    3\n",
    "# C    1\n",
    "# Name: score, dtype: int64"
   ]
  },
  {
   "cell_type": "code",
   "execution_count": null,
   "id": "fcf90114",
   "metadata": {},
   "outputs": [
    {
     "data": {
      "text/html": [
       "<div>\n",
       "<style scoped>\n",
       "    .dataframe tbody tr th:only-of-type {\n",
       "        vertical-align: middle;\n",
       "    }\n",
       "\n",
       "    .dataframe tbody tr th {\n",
       "        vertical-align: top;\n",
       "    }\n",
       "\n",
       "    .dataframe thead th {\n",
       "        text-align: right;\n",
       "    }\n",
       "</style>\n",
       "<table border=\"1\" class=\"dataframe\">\n",
       "  <thead>\n",
       "    <tr style=\"text-align: right;\">\n",
       "      <th></th>\n",
       "      <th>team</th>\n",
       "      <th>gender</th>\n",
       "      <th>score</th>\n",
       "    </tr>\n",
       "  </thead>\n",
       "  <tbody>\n",
       "    <tr>\n",
       "      <th>0</th>\n",
       "      <td>A</td>\n",
       "      <td>M</td>\n",
       "      <td>90</td>\n",
       "    </tr>\n",
       "    <tr>\n",
       "      <th>1</th>\n",
       "      <td>A</td>\n",
       "      <td>F</td>\n",
       "      <td>85</td>\n",
       "    </tr>\n",
       "    <tr>\n",
       "      <th>2</th>\n",
       "      <td>B</td>\n",
       "      <td>F</td>\n",
       "      <td>80</td>\n",
       "    </tr>\n",
       "    <tr>\n",
       "      <th>3</th>\n",
       "      <td>B</td>\n",
       "      <td>M</td>\n",
       "      <td>70</td>\n",
       "    </tr>\n",
       "    <tr>\n",
       "      <th>4</th>\n",
       "      <td>B</td>\n",
       "      <td>M</td>\n",
       "      <td>95</td>\n",
       "    </tr>\n",
       "    <tr>\n",
       "      <th>5</th>\n",
       "      <td>C</td>\n",
       "      <td>F</td>\n",
       "      <td>88</td>\n",
       "    </tr>\n",
       "  </tbody>\n",
       "</table>\n",
       "</div>"
      ],
      "text/plain": [
       "  team gender  score\n",
       "0    A      M     90\n",
       "1    A      F     85\n",
       "2    B      F     80\n",
       "3    B      M     70\n",
       "4    B      M     95\n",
       "5    C      F     88"
      ]
     },
     "execution_count": 125,
     "metadata": {},
     "output_type": "execute_result"
    }
   ],
   "source": [
    "df2 = pd.DataFrame({\n",
    "    'team': ['A', 'A', 'B', 'B', 'B', 'C'],\n",
    "    'gender': ['M', 'F', 'F', 'M', 'M', 'F'],\n",
    "    'score': [90, 85, 80, 70, 95, 88]\n",
    "})\n",
    "df2\n",
    "# team\tgender\tscore\n",
    "# 0\tA\tM\t    90\n",
    "# 1\tA\tF\t    85\n",
    "# 2\tB\tF\t    80\n",
    "# 3\tB\tM\t    70\n",
    "# 4\tB\tM\t    95\n",
    "# 5\tC\tF\t    88"
   ]
  },
  {
   "cell_type": "code",
   "execution_count": null,
   "id": "2c7e54a0",
   "metadata": {},
   "outputs": [
    {
     "data": {
      "text/plain": [
       "team  gender\n",
       "A     F         85.0\n",
       "      M         90.0\n",
       "B     F         80.0\n",
       "      M         82.5\n",
       "C     F         88.0\n",
       "Name: score, dtype: float64"
      ]
     },
     "execution_count": 126,
     "metadata": {},
     "output_type": "execute_result"
    }
   ],
   "source": [
    "# 여러 컬럼 기준 그룹화\n",
    "\n",
    "result = df2.groupby([\"team\", \"gender\"])[\"score\"].mean()\n",
    "result\n",
    "# team  gender\n",
    "# A     F         85.0\n",
    "#       M         90.0\n",
    "# B     F         80.0\n",
    "#       M         82.5\n",
    "# C     F         88.0\n",
    "# Name: score, dtype: float64"
   ]
  },
  {
   "cell_type": "code",
   "execution_count": null,
   "id": "133acbaa",
   "metadata": {},
   "outputs": [
    {
     "data": {
      "text/html": [
       "<div>\n",
       "<style scoped>\n",
       "    .dataframe tbody tr th:only-of-type {\n",
       "        vertical-align: middle;\n",
       "    }\n",
       "\n",
       "    .dataframe tbody tr th {\n",
       "        vertical-align: top;\n",
       "    }\n",
       "\n",
       "    .dataframe thead th {\n",
       "        text-align: right;\n",
       "    }\n",
       "</style>\n",
       "<table border=\"1\" class=\"dataframe\">\n",
       "  <thead>\n",
       "    <tr style=\"text-align: right;\">\n",
       "      <th></th>\n",
       "      <th>team</th>\n",
       "      <th>score</th>\n",
       "    </tr>\n",
       "  </thead>\n",
       "  <tbody>\n",
       "    <tr>\n",
       "      <th>0</th>\n",
       "      <td>A</td>\n",
       "      <td>175</td>\n",
       "    </tr>\n",
       "    <tr>\n",
       "      <th>1</th>\n",
       "      <td>B</td>\n",
       "      <td>245</td>\n",
       "    </tr>\n",
       "    <tr>\n",
       "      <th>2</th>\n",
       "      <td>C</td>\n",
       "      <td>88</td>\n",
       "    </tr>\n",
       "  </tbody>\n",
       "</table>\n",
       "</div>"
      ],
      "text/plain": [
       "  team  score\n",
       "0    A    175\n",
       "1    B    245\n",
       "2    C     88"
      ]
     },
     "execution_count": 129,
     "metadata": {},
     "output_type": "execute_result"
    }
   ],
   "source": [
    "# as_indext=False : 그룹 라벨이 인덱스로 설정됨\n",
    "\n",
    "result = df2.groupby(\"team\", as_index=False)[\"score\"].sum()\n",
    "result\n",
    "# team\tscore\n",
    "# 0\tA\t175\n",
    "# 1\tB\t245\n",
    "# 2\tC\t88"
   ]
  },
  {
   "cell_type": "code",
   "execution_count": null,
   "id": "ac6630fc",
   "metadata": {},
   "outputs": [
    {
     "data": {
      "text/html": [
       "<div>\n",
       "<style scoped>\n",
       "    .dataframe tbody tr th:only-of-type {\n",
       "        vertical-align: middle;\n",
       "    }\n",
       "\n",
       "    .dataframe tbody tr th {\n",
       "        vertical-align: top;\n",
       "    }\n",
       "\n",
       "    .dataframe thead th {\n",
       "        text-align: right;\n",
       "    }\n",
       "</style>\n",
       "<table border=\"1\" class=\"dataframe\">\n",
       "  <thead>\n",
       "    <tr style=\"text-align: right;\">\n",
       "      <th></th>\n",
       "      <th>team</th>\n",
       "      <th>sum</th>\n",
       "      <th>mean</th>\n",
       "      <th>count</th>\n",
       "    </tr>\n",
       "  </thead>\n",
       "  <tbody>\n",
       "    <tr>\n",
       "      <th>0</th>\n",
       "      <td>A</td>\n",
       "      <td>175</td>\n",
       "      <td>87.500000</td>\n",
       "      <td>2</td>\n",
       "    </tr>\n",
       "    <tr>\n",
       "      <th>1</th>\n",
       "      <td>B</td>\n",
       "      <td>245</td>\n",
       "      <td>81.666667</td>\n",
       "      <td>3</td>\n",
       "    </tr>\n",
       "    <tr>\n",
       "      <th>2</th>\n",
       "      <td>C</td>\n",
       "      <td>88</td>\n",
       "      <td>88.000000</td>\n",
       "      <td>1</td>\n",
       "    </tr>\n",
       "  </tbody>\n",
       "</table>\n",
       "</div>"
      ],
      "text/plain": [
       "  team  sum       mean  count\n",
       "0    A  175  87.500000      2\n",
       "1    B  245  81.666667      3\n",
       "2    C   88  88.000000      1"
      ]
     },
     "execution_count": 130,
     "metadata": {},
     "output_type": "execute_result"
    }
   ],
   "source": [
    "# 여러 집계 함수를 한번에 적용 : agg()\n",
    "\n",
    "result = df2.groupby(\"team\", as_index=False)[\"score\"].agg([\"sum\", \"mean\", \"count\"])\n",
    "result\n",
    "# team\tsum\tmean\tcount\n",
    "# 0\tA\t175\t87.500000\t2\n",
    "# 1\tB\t245\t81.666667\t3\n",
    "# 2\tC\t88\t88.000000\t1"
   ]
  },
  {
   "cell_type": "code",
   "execution_count": null,
   "id": "bd8b0c06",
   "metadata": {},
   "outputs": [
    {
     "data": {
      "text/html": [
       "<div>\n",
       "<style scoped>\n",
       "    .dataframe tbody tr th:only-of-type {\n",
       "        vertical-align: middle;\n",
       "    }\n",
       "\n",
       "    .dataframe tbody tr th {\n",
       "        vertical-align: top;\n",
       "    }\n",
       "\n",
       "    .dataframe thead th {\n",
       "        text-align: right;\n",
       "    }\n",
       "</style>\n",
       "<table border=\"1\" class=\"dataframe\">\n",
       "  <thead>\n",
       "    <tr style=\"text-align: right;\">\n",
       "      <th></th>\n",
       "      <th>team</th>\n",
       "      <th>gender</th>\n",
       "      <th>score</th>\n",
       "      <th>age</th>\n",
       "    </tr>\n",
       "  </thead>\n",
       "  <tbody>\n",
       "    <tr>\n",
       "      <th>0</th>\n",
       "      <td>A</td>\n",
       "      <td>M</td>\n",
       "      <td>90</td>\n",
       "      <td>22</td>\n",
       "    </tr>\n",
       "    <tr>\n",
       "      <th>1</th>\n",
       "      <td>A</td>\n",
       "      <td>F</td>\n",
       "      <td>85</td>\n",
       "      <td>23</td>\n",
       "    </tr>\n",
       "    <tr>\n",
       "      <th>2</th>\n",
       "      <td>B</td>\n",
       "      <td>F</td>\n",
       "      <td>80</td>\n",
       "      <td>24</td>\n",
       "    </tr>\n",
       "    <tr>\n",
       "      <th>3</th>\n",
       "      <td>B</td>\n",
       "      <td>M</td>\n",
       "      <td>70</td>\n",
       "      <td>25</td>\n",
       "    </tr>\n",
       "    <tr>\n",
       "      <th>4</th>\n",
       "      <td>B</td>\n",
       "      <td>M</td>\n",
       "      <td>95</td>\n",
       "      <td>26</td>\n",
       "    </tr>\n",
       "    <tr>\n",
       "      <th>5</th>\n",
       "      <td>C</td>\n",
       "      <td>F</td>\n",
       "      <td>88</td>\n",
       "      <td>27</td>\n",
       "    </tr>\n",
       "  </tbody>\n",
       "</table>\n",
       "</div>"
      ],
      "text/plain": [
       "  team gender  score  age\n",
       "0    A      M     90   22\n",
       "1    A      F     85   23\n",
       "2    B      F     80   24\n",
       "3    B      M     70   25\n",
       "4    B      M     95   26\n",
       "5    C      F     88   27"
      ]
     },
     "execution_count": 131,
     "metadata": {},
     "output_type": "execute_result"
    }
   ],
   "source": [
    "df2 = pd.DataFrame({\n",
    "    'team': ['A', 'A', 'B', 'B', 'B', 'C'],\n",
    "    'gender': ['M', 'F', 'F', 'M', 'M', 'F'],\n",
    "    'score': [90, 85, 80, 70, 95, 88],\n",
    "    \"age\": [22, 23, 24, 25, 26, 27]\n",
    "})\n",
    "df2\n",
    "# team\tgender\tscore\tage\n",
    "# 0\tA\tM\t    90\t    22\n",
    "# 1\tA\tF\t    85\t    23\n",
    "# 2\tB\tF\t    80\t    24\n",
    "# 3\tB\tM\t    70\t    25\n",
    "# 4\tB\tM\t    95\t    26\n",
    "# 5\tC\tF\t    88\t    27"
   ]
  },
  {
   "cell_type": "code",
   "execution_count": null,
   "id": "95c407ec",
   "metadata": {},
   "outputs": [
    {
     "data": {
      "text/html": [
       "<div>\n",
       "<style scoped>\n",
       "    .dataframe tbody tr th:only-of-type {\n",
       "        vertical-align: middle;\n",
       "    }\n",
       "\n",
       "    .dataframe tbody tr th {\n",
       "        vertical-align: top;\n",
       "    }\n",
       "\n",
       "    .dataframe thead th {\n",
       "        text-align: right;\n",
       "    }\n",
       "</style>\n",
       "<table border=\"1\" class=\"dataframe\">\n",
       "  <thead>\n",
       "    <tr style=\"text-align: right;\">\n",
       "      <th></th>\n",
       "      <th>score</th>\n",
       "      <th>age</th>\n",
       "    </tr>\n",
       "    <tr>\n",
       "      <th>team</th>\n",
       "      <th></th>\n",
       "      <th></th>\n",
       "    </tr>\n",
       "  </thead>\n",
       "  <tbody>\n",
       "    <tr>\n",
       "      <th>A</th>\n",
       "      <td>87.500000</td>\n",
       "      <td>23</td>\n",
       "    </tr>\n",
       "    <tr>\n",
       "      <th>B</th>\n",
       "      <td>81.666667</td>\n",
       "      <td>26</td>\n",
       "    </tr>\n",
       "    <tr>\n",
       "      <th>C</th>\n",
       "      <td>88.000000</td>\n",
       "      <td>27</td>\n",
       "    </tr>\n",
       "  </tbody>\n",
       "</table>\n",
       "</div>"
      ],
      "text/plain": [
       "          score  age\n",
       "team                \n",
       "A     87.500000   23\n",
       "B     81.666667   26\n",
       "C     88.000000   27"
      ]
     },
     "execution_count": 132,
     "metadata": {},
     "output_type": "execute_result"
    }
   ],
   "source": [
    "# 그룹별로 여러 컬럼에 다른 집계 함수 적용\n",
    "result = df2.groupby(\"team\").agg({\n",
    "    \"score\": \"mean\",\n",
    "    \"age\": \"max\"\n",
    "})\n",
    "result\n",
    "#       score\tage\n",
    "# team\t\t\n",
    "# A\t87.500000\t23\n",
    "# B\t81.666667\t26\n",
    "# C\t88.000000\t27"
   ]
  },
  {
   "cell_type": "code",
   "execution_count": 134,
   "id": "1e461238",
   "metadata": {},
   "outputs": [
    {
     "data": {
      "text/html": [
       "<div>\n",
       "<style scoped>\n",
       "    .dataframe tbody tr th:only-of-type {\n",
       "        vertical-align: middle;\n",
       "    }\n",
       "\n",
       "    .dataframe tbody tr th {\n",
       "        vertical-align: top;\n",
       "    }\n",
       "\n",
       "    .dataframe thead th {\n",
       "        text-align: right;\n",
       "    }\n",
       "</style>\n",
       "<table border=\"1\" class=\"dataframe\">\n",
       "  <thead>\n",
       "    <tr style=\"text-align: right;\">\n",
       "      <th></th>\n",
       "      <th>grade</th>\n",
       "      <th>name</th>\n",
       "      <th>kor</th>\n",
       "    </tr>\n",
       "  </thead>\n",
       "  <tbody>\n",
       "    <tr>\n",
       "      <th>0</th>\n",
       "      <td>1</td>\n",
       "      <td>Kim</td>\n",
       "      <td>85</td>\n",
       "    </tr>\n",
       "    <tr>\n",
       "      <th>1</th>\n",
       "      <td>2</td>\n",
       "      <td>Lee</td>\n",
       "      <td>78</td>\n",
       "    </tr>\n",
       "    <tr>\n",
       "      <th>2</th>\n",
       "      <td>1</td>\n",
       "      <td>Park</td>\n",
       "      <td>90</td>\n",
       "    </tr>\n",
       "    <tr>\n",
       "      <th>3</th>\n",
       "      <td>2</td>\n",
       "      <td>Choi</td>\n",
       "      <td>92</td>\n",
       "    </tr>\n",
       "    <tr>\n",
       "      <th>4</th>\n",
       "      <td>1</td>\n",
       "      <td>Jung</td>\n",
       "      <td>80</td>\n",
       "    </tr>\n",
       "    <tr>\n",
       "      <th>5</th>\n",
       "      <td>3</td>\n",
       "      <td>Han</td>\n",
       "      <td>75</td>\n",
       "    </tr>\n",
       "  </tbody>\n",
       "</table>\n",
       "</div>"
      ],
      "text/plain": [
       "   grade  name  kor\n",
       "0      1   Kim   85\n",
       "1      2   Lee   78\n",
       "2      1  Park   90\n",
       "3      2  Choi   92\n",
       "4      1  Jung   80\n",
       "5      3   Han   75"
      ]
     },
     "execution_count": 134,
     "metadata": {},
     "output_type": "execute_result"
    }
   ],
   "source": [
    "# 실습 4. groupby 연습문제\n",
    "df = pd.DataFrame({\n",
    "'grade': [1, 2, 1, 2, 1, 3],\n",
    "'name': ['Kim', 'Lee', 'Park', 'Choi', 'Jung', 'Han'],\n",
    "'kor': [85, 78, 90, 92, 80, 75]\n",
    "})\n",
    "df"
   ]
  },
  {
   "cell_type": "code",
   "execution_count": 136,
   "id": "9c9e8010",
   "metadata": {},
   "outputs": [
    {
     "data": {
      "text/html": [
       "<div>\n",
       "<style scoped>\n",
       "    .dataframe tbody tr th:only-of-type {\n",
       "        vertical-align: middle;\n",
       "    }\n",
       "\n",
       "    .dataframe tbody tr th {\n",
       "        vertical-align: top;\n",
       "    }\n",
       "\n",
       "    .dataframe thead th {\n",
       "        text-align: right;\n",
       "    }\n",
       "</style>\n",
       "<table border=\"1\" class=\"dataframe\">\n",
       "  <thead>\n",
       "    <tr style=\"text-align: right;\">\n",
       "      <th></th>\n",
       "      <th>grade</th>\n",
       "      <th>kor</th>\n",
       "    </tr>\n",
       "  </thead>\n",
       "  <tbody>\n",
       "    <tr>\n",
       "      <th>0</th>\n",
       "      <td>1</td>\n",
       "      <td>85.0</td>\n",
       "    </tr>\n",
       "    <tr>\n",
       "      <th>1</th>\n",
       "      <td>2</td>\n",
       "      <td>85.0</td>\n",
       "    </tr>\n",
       "    <tr>\n",
       "      <th>2</th>\n",
       "      <td>3</td>\n",
       "      <td>75.0</td>\n",
       "    </tr>\n",
       "  </tbody>\n",
       "</table>\n",
       "</div>"
      ],
      "text/plain": [
       "   grade   kor\n",
       "0      1  85.0\n",
       "1      2  85.0\n",
       "2      3  75.0"
      ]
     },
     "execution_count": 136,
     "metadata": {},
     "output_type": "execute_result"
    }
   ],
   "source": [
    "# 1.\n",
    "result = df.groupby(\"grade\", as_index=False)[\"kor\"].mean()\n",
    "result"
   ]
  },
  {
   "cell_type": "code",
   "execution_count": 151,
   "id": "9dd700b9",
   "metadata": {},
   "outputs": [
    {
     "data": {
      "text/html": [
       "<div>\n",
       "<style scoped>\n",
       "    .dataframe tbody tr th:only-of-type {\n",
       "        vertical-align: middle;\n",
       "    }\n",
       "\n",
       "    .dataframe tbody tr th {\n",
       "        vertical-align: top;\n",
       "    }\n",
       "\n",
       "    .dataframe thead th {\n",
       "        text-align: right;\n",
       "    }\n",
       "</style>\n",
       "<table border=\"1\" class=\"dataframe\">\n",
       "  <thead>\n",
       "    <tr style=\"text-align: right;\">\n",
       "      <th></th>\n",
       "      <th>class</th>\n",
       "      <th>subject</th>\n",
       "      <th>score</th>\n",
       "    </tr>\n",
       "  </thead>\n",
       "  <tbody>\n",
       "    <tr>\n",
       "      <th>0</th>\n",
       "      <td>1</td>\n",
       "      <td>Math</td>\n",
       "      <td>80</td>\n",
       "    </tr>\n",
       "    <tr>\n",
       "      <th>1</th>\n",
       "      <td>1</td>\n",
       "      <td>Math</td>\n",
       "      <td>90</td>\n",
       "    </tr>\n",
       "    <tr>\n",
       "      <th>2</th>\n",
       "      <td>1</td>\n",
       "      <td>Eng</td>\n",
       "      <td>85</td>\n",
       "    </tr>\n",
       "    <tr>\n",
       "      <th>3</th>\n",
       "      <td>2</td>\n",
       "      <td>Math</td>\n",
       "      <td>70</td>\n",
       "    </tr>\n",
       "    <tr>\n",
       "      <th>4</th>\n",
       "      <td>2</td>\n",
       "      <td>Eng</td>\n",
       "      <td>95</td>\n",
       "    </tr>\n",
       "    <tr>\n",
       "      <th>5</th>\n",
       "      <td>2</td>\n",
       "      <td>Eng</td>\n",
       "      <td>90</td>\n",
       "    </tr>\n",
       "  </tbody>\n",
       "</table>\n",
       "</div>"
      ],
      "text/plain": [
       "   class subject  score\n",
       "0      1    Math     80\n",
       "1      1    Math     90\n",
       "2      1     Eng     85\n",
       "3      2    Math     70\n",
       "4      2     Eng     95\n",
       "5      2     Eng     90"
      ]
     },
     "execution_count": 151,
     "metadata": {},
     "output_type": "execute_result"
    }
   ],
   "source": [
    "df = pd.DataFrame({\n",
    "'class': [1, 1, 1, 2, 2, 2],\n",
    "'subject': ['Math', 'Math', 'Eng', 'Math', 'Eng', 'Eng'],\n",
    "'score': [80, 90, 85, 70, 95, 90]\n",
    "})\n",
    "df"
   ]
  },
  {
   "cell_type": "code",
   "execution_count": 152,
   "id": "4b64a8e4",
   "metadata": {},
   "outputs": [
    {
     "data": {
      "text/html": [
       "<div>\n",
       "<style scoped>\n",
       "    .dataframe tbody tr th:only-of-type {\n",
       "        vertical-align: middle;\n",
       "    }\n",
       "\n",
       "    .dataframe tbody tr th {\n",
       "        vertical-align: top;\n",
       "    }\n",
       "\n",
       "    .dataframe thead th {\n",
       "        text-align: right;\n",
       "    }\n",
       "</style>\n",
       "<table border=\"1\" class=\"dataframe\">\n",
       "  <thead>\n",
       "    <tr style=\"text-align: right;\">\n",
       "      <th></th>\n",
       "      <th>class</th>\n",
       "      <th>subject</th>\n",
       "      <th>count</th>\n",
       "      <th>mean</th>\n",
       "    </tr>\n",
       "  </thead>\n",
       "  <tbody>\n",
       "    <tr>\n",
       "      <th>0</th>\n",
       "      <td>1</td>\n",
       "      <td>Eng</td>\n",
       "      <td>1</td>\n",
       "      <td>85.0</td>\n",
       "    </tr>\n",
       "    <tr>\n",
       "      <th>1</th>\n",
       "      <td>1</td>\n",
       "      <td>Math</td>\n",
       "      <td>2</td>\n",
       "      <td>85.0</td>\n",
       "    </tr>\n",
       "    <tr>\n",
       "      <th>2</th>\n",
       "      <td>2</td>\n",
       "      <td>Eng</td>\n",
       "      <td>2</td>\n",
       "      <td>92.5</td>\n",
       "    </tr>\n",
       "    <tr>\n",
       "      <th>3</th>\n",
       "      <td>2</td>\n",
       "      <td>Math</td>\n",
       "      <td>1</td>\n",
       "      <td>70.0</td>\n",
       "    </tr>\n",
       "  </tbody>\n",
       "</table>\n",
       "</div>"
      ],
      "text/plain": [
       "   class subject  count  mean\n",
       "0      1     Eng      1  85.0\n",
       "1      1    Math      2  85.0\n",
       "2      2     Eng      2  92.5\n",
       "3      2    Math      1  70.0"
      ]
     },
     "execution_count": 152,
     "metadata": {},
     "output_type": "execute_result"
    }
   ],
   "source": [
    "# 2.\n",
    "result = df.groupby([\"class\", \"subject\"], as_index=False)[\"score\"].agg([\"count\", \"mean\"])\n",
    "result"
   ]
  },
  {
   "cell_type": "code",
   "execution_count": 166,
   "id": "1125a2b9",
   "metadata": {},
   "outputs": [
    {
     "data": {
      "text/html": [
       "<div>\n",
       "<style scoped>\n",
       "    .dataframe tbody tr th:only-of-type {\n",
       "        vertical-align: middle;\n",
       "    }\n",
       "\n",
       "    .dataframe tbody tr th {\n",
       "        vertical-align: top;\n",
       "    }\n",
       "\n",
       "    .dataframe thead th {\n",
       "        text-align: right;\n",
       "    }\n",
       "</style>\n",
       "<table border=\"1\" class=\"dataframe\">\n",
       "  <thead>\n",
       "    <tr style=\"text-align: right;\">\n",
       "      <th></th>\n",
       "      <th>region</th>\n",
       "      <th>seller</th>\n",
       "      <th>sales</th>\n",
       "    </tr>\n",
       "  </thead>\n",
       "  <tbody>\n",
       "    <tr>\n",
       "      <th>0</th>\n",
       "      <td>Seoul</td>\n",
       "      <td>A</td>\n",
       "      <td>100</td>\n",
       "    </tr>\n",
       "    <tr>\n",
       "      <th>1</th>\n",
       "      <td>Seoul</td>\n",
       "      <td>B</td>\n",
       "      <td>200</td>\n",
       "    </tr>\n",
       "    <tr>\n",
       "      <th>2</th>\n",
       "      <td>Busan</td>\n",
       "      <td>A</td>\n",
       "      <td>150</td>\n",
       "    </tr>\n",
       "    <tr>\n",
       "      <th>3</th>\n",
       "      <td>Busan</td>\n",
       "      <td>B</td>\n",
       "      <td>120</td>\n",
       "    </tr>\n",
       "    <tr>\n",
       "      <th>4</th>\n",
       "      <td>Daegu</td>\n",
       "      <td>A</td>\n",
       "      <td>130</td>\n",
       "    </tr>\n",
       "  </tbody>\n",
       "</table>\n",
       "</div>"
      ],
      "text/plain": [
       "  region seller  sales\n",
       "0  Seoul      A    100\n",
       "1  Seoul      B    200\n",
       "2  Busan      A    150\n",
       "3  Busan      B    120\n",
       "4  Daegu      A    130"
      ]
     },
     "execution_count": 166,
     "metadata": {},
     "output_type": "execute_result"
    }
   ],
   "source": [
    "df = pd.DataFrame({\n",
    "'region': ['Seoul', 'Seoul', 'Busan', 'Busan', 'Daegu'],\n",
    "'seller': ['A', 'B', 'A', 'B', 'A'],\n",
    "'sales': [100, 200, 150, 120, 130]\n",
    "})\n",
    "df"
   ]
  },
  {
   "cell_type": "code",
   "execution_count": 149,
   "id": "94f135bd",
   "metadata": {},
   "outputs": [
    {
     "data": {
      "text/html": [
       "<div>\n",
       "<style scoped>\n",
       "    .dataframe tbody tr th:only-of-type {\n",
       "        vertical-align: middle;\n",
       "    }\n",
       "\n",
       "    .dataframe tbody tr th {\n",
       "        vertical-align: top;\n",
       "    }\n",
       "\n",
       "    .dataframe thead th {\n",
       "        text-align: right;\n",
       "    }\n",
       "</style>\n",
       "<table border=\"1\" class=\"dataframe\">\n",
       "  <thead>\n",
       "    <tr style=\"text-align: right;\">\n",
       "      <th></th>\n",
       "      <th>region</th>\n",
       "      <th>seller</th>\n",
       "      <th>sum</th>\n",
       "      <th>max</th>\n",
       "    </tr>\n",
       "  </thead>\n",
       "  <tbody>\n",
       "    <tr>\n",
       "      <th>0</th>\n",
       "      <td>Busan</td>\n",
       "      <td>A</td>\n",
       "      <td>150</td>\n",
       "      <td>150</td>\n",
       "    </tr>\n",
       "    <tr>\n",
       "      <th>1</th>\n",
       "      <td>Busan</td>\n",
       "      <td>B</td>\n",
       "      <td>120</td>\n",
       "      <td>120</td>\n",
       "    </tr>\n",
       "    <tr>\n",
       "      <th>2</th>\n",
       "      <td>Daegu</td>\n",
       "      <td>A</td>\n",
       "      <td>130</td>\n",
       "      <td>130</td>\n",
       "    </tr>\n",
       "    <tr>\n",
       "      <th>3</th>\n",
       "      <td>Seoul</td>\n",
       "      <td>A</td>\n",
       "      <td>100</td>\n",
       "      <td>100</td>\n",
       "    </tr>\n",
       "    <tr>\n",
       "      <th>4</th>\n",
       "      <td>Seoul</td>\n",
       "      <td>B</td>\n",
       "      <td>200</td>\n",
       "      <td>200</td>\n",
       "    </tr>\n",
       "  </tbody>\n",
       "</table>\n",
       "</div>"
      ],
      "text/plain": [
       "  region seller  sum  max\n",
       "0  Busan      A  150  150\n",
       "1  Busan      B  120  120\n",
       "2  Daegu      A  130  130\n",
       "3  Seoul      A  100  100\n",
       "4  Seoul      B  200  200"
      ]
     },
     "execution_count": 149,
     "metadata": {},
     "output_type": "execute_result"
    }
   ],
   "source": [
    "# 3.\n",
    "result = df.groupby([\"region\", \"seller\"], as_index=False)[\"sales\"].agg([\"sum\", \"max\"])\n",
    "result"
   ]
  },
  {
   "cell_type": "code",
   "execution_count": 154,
   "id": "0325a46b",
   "metadata": {},
   "outputs": [
    {
     "data": {
      "text/html": [
       "<div>\n",
       "<style scoped>\n",
       "    .dataframe tbody tr th:only-of-type {\n",
       "        vertical-align: middle;\n",
       "    }\n",
       "\n",
       "    .dataframe tbody tr th {\n",
       "        vertical-align: top;\n",
       "    }\n",
       "\n",
       "    .dataframe thead th {\n",
       "        text-align: right;\n",
       "    }\n",
       "</style>\n",
       "<table border=\"1\" class=\"dataframe\">\n",
       "  <thead>\n",
       "    <tr style=\"text-align: right;\">\n",
       "      <th></th>\n",
       "      <th>team</th>\n",
       "      <th>position</th>\n",
       "      <th>score</th>\n",
       "    </tr>\n",
       "  </thead>\n",
       "  <tbody>\n",
       "    <tr>\n",
       "      <th>0</th>\n",
       "      <td>A</td>\n",
       "      <td>FW</td>\n",
       "      <td>3.0</td>\n",
       "    </tr>\n",
       "    <tr>\n",
       "      <th>1</th>\n",
       "      <td>A</td>\n",
       "      <td>DF</td>\n",
       "      <td>2.0</td>\n",
       "    </tr>\n",
       "    <tr>\n",
       "      <th>2</th>\n",
       "      <td>B</td>\n",
       "      <td>FW</td>\n",
       "      <td>NaN</td>\n",
       "    </tr>\n",
       "    <tr>\n",
       "      <th>3</th>\n",
       "      <td>B</td>\n",
       "      <td>DF</td>\n",
       "      <td>1.0</td>\n",
       "    </tr>\n",
       "    <tr>\n",
       "      <th>4</th>\n",
       "      <td>A</td>\n",
       "      <td>DF</td>\n",
       "      <td>4.0</td>\n",
       "    </tr>\n",
       "    <tr>\n",
       "      <th>5</th>\n",
       "      <td>B</td>\n",
       "      <td>FW</td>\n",
       "      <td>2.0</td>\n",
       "    </tr>\n",
       "  </tbody>\n",
       "</table>\n",
       "</div>"
      ],
      "text/plain": [
       "  team position  score\n",
       "0    A       FW    3.0\n",
       "1    A       DF    2.0\n",
       "2    B       FW    NaN\n",
       "3    B       DF    1.0\n",
       "4    A       DF    4.0\n",
       "5    B       FW    2.0"
      ]
     },
     "execution_count": 154,
     "metadata": {},
     "output_type": "execute_result"
    }
   ],
   "source": [
    "df = pd.DataFrame({\n",
    "'team': ['A', 'A', 'B', 'B', 'A', 'B'],\n",
    "'position': ['FW', 'DF', 'FW', 'DF', 'DF', 'FW'],\n",
    "'score': [3, 2, None, 1, 4, 2]\n",
    "})\n",
    "df"
   ]
  },
  {
   "cell_type": "code",
   "execution_count": 156,
   "id": "394eee0d",
   "metadata": {},
   "outputs": [
    {
     "data": {
      "text/html": [
       "<div>\n",
       "<style scoped>\n",
       "    .dataframe tbody tr th:only-of-type {\n",
       "        vertical-align: middle;\n",
       "    }\n",
       "\n",
       "    .dataframe tbody tr th {\n",
       "        vertical-align: top;\n",
       "    }\n",
       "\n",
       "    .dataframe thead th {\n",
       "        text-align: right;\n",
       "    }\n",
       "</style>\n",
       "<table border=\"1\" class=\"dataframe\">\n",
       "  <thead>\n",
       "    <tr style=\"text-align: right;\">\n",
       "      <th></th>\n",
       "      <th>team</th>\n",
       "      <th>position</th>\n",
       "      <th>score</th>\n",
       "    </tr>\n",
       "  </thead>\n",
       "  <tbody>\n",
       "    <tr>\n",
       "      <th>0</th>\n",
       "      <td>A</td>\n",
       "      <td>DF</td>\n",
       "      <td>3.0</td>\n",
       "    </tr>\n",
       "    <tr>\n",
       "      <th>1</th>\n",
       "      <td>A</td>\n",
       "      <td>FW</td>\n",
       "      <td>3.0</td>\n",
       "    </tr>\n",
       "    <tr>\n",
       "      <th>2</th>\n",
       "      <td>B</td>\n",
       "      <td>DF</td>\n",
       "      <td>1.0</td>\n",
       "    </tr>\n",
       "    <tr>\n",
       "      <th>3</th>\n",
       "      <td>B</td>\n",
       "      <td>FW</td>\n",
       "      <td>2.0</td>\n",
       "    </tr>\n",
       "  </tbody>\n",
       "</table>\n",
       "</div>"
      ],
      "text/plain": [
       "  team position  score\n",
       "0    A       DF    3.0\n",
       "1    A       FW    3.0\n",
       "2    B       DF    1.0\n",
       "3    B       FW    2.0"
      ]
     },
     "execution_count": 156,
     "metadata": {},
     "output_type": "execute_result"
    }
   ],
   "source": [
    "# 4.\n",
    "result = df.groupby([\"team\", \"position\"], as_index=False)[\"score\"].mean()\n",
    "result"
   ]
  },
  {
   "cell_type": "code",
   "execution_count": null,
   "id": "4ad41fe4",
   "metadata": {},
   "outputs": [
    {
     "data": {
      "text/html": [
       "<div>\n",
       "<style scoped>\n",
       "    .dataframe tbody tr th:only-of-type {\n",
       "        vertical-align: middle;\n",
       "    }\n",
       "\n",
       "    .dataframe tbody tr th {\n",
       "        vertical-align: top;\n",
       "    }\n",
       "\n",
       "    .dataframe thead th {\n",
       "        text-align: right;\n",
       "    }\n",
       "</style>\n",
       "<table border=\"1\" class=\"dataframe\">\n",
       "  <thead>\n",
       "    <tr style=\"text-align: right;\">\n",
       "      <th></th>\n",
       "      <th>dept</th>\n",
       "      <th>gender</th>\n",
       "      <th>salary</th>\n",
       "    </tr>\n",
       "  </thead>\n",
       "  <tbody>\n",
       "    <tr>\n",
       "      <th>0</th>\n",
       "      <td>HR</td>\n",
       "      <td>M</td>\n",
       "      <td>3500</td>\n",
       "    </tr>\n",
       "    <tr>\n",
       "      <th>1</th>\n",
       "      <td>HR</td>\n",
       "      <td>F</td>\n",
       "      <td>3200</td>\n",
       "    </tr>\n",
       "    <tr>\n",
       "      <th>2</th>\n",
       "      <td>IT</td>\n",
       "      <td>F</td>\n",
       "      <td>4000</td>\n",
       "    </tr>\n",
       "    <tr>\n",
       "      <th>3</th>\n",
       "      <td>IT</td>\n",
       "      <td>M</td>\n",
       "      <td>4200</td>\n",
       "    </tr>\n",
       "    <tr>\n",
       "      <th>4</th>\n",
       "      <td>Sales</td>\n",
       "      <td>F</td>\n",
       "      <td>3000</td>\n",
       "    </tr>\n",
       "    <tr>\n",
       "      <th>5</th>\n",
       "      <td>Sales</td>\n",
       "      <td>F</td>\n",
       "      <td>3100</td>\n",
       "    </tr>\n",
       "  </tbody>\n",
       "</table>\n",
       "</div>"
      ],
      "text/plain": [
       "    dept gender  salary\n",
       "0     HR      M    3500\n",
       "1     HR      F    3200\n",
       "2     IT      F    4000\n",
       "3     IT      M    4200\n",
       "4  Sales      F    3000\n",
       "5  Sales      F    3100"
      ]
     },
     "execution_count": 168,
     "metadata": {},
     "output_type": "execute_result"
    }
   ],
   "source": [
    "df = pd.DataFrame({\n",
    "'dept': ['HR', 'HR', 'IT', 'IT', 'Sales', 'Sales'],\n",
    "'gender': ['M', 'F', 'F', 'M', 'F', 'F'],\n",
    "'salary': [3500, 3200, 4000, 4200, 3000, 3100]\n",
    "})\n",
    "df\n",
    "# dept\t    gender\tsalary\n",
    "# 0\tHR\t    M\t    3500\n",
    "# 1\tHR\t    F\t    3200\n",
    "# 2\tIT\t    F\t    4000\n",
    "# 3\tIT\t    M\t    4200\n",
    "# 4\tSales\tF\t    3000\n",
    "# 5\tSales\tF\t    3100"
   ]
  },
  {
   "cell_type": "code",
   "execution_count": null,
   "id": "b5afd8b2",
   "metadata": {},
   "outputs": [
    {
     "data": {
      "text/html": [
       "<div>\n",
       "<style scoped>\n",
       "    .dataframe tbody tr th:only-of-type {\n",
       "        vertical-align: middle;\n",
       "    }\n",
       "\n",
       "    .dataframe tbody tr th {\n",
       "        vertical-align: top;\n",
       "    }\n",
       "\n",
       "    .dataframe thead th {\n",
       "        text-align: right;\n",
       "    }\n",
       "</style>\n",
       "<table border=\"1\" class=\"dataframe\">\n",
       "  <thead>\n",
       "    <tr style=\"text-align: right;\">\n",
       "      <th></th>\n",
       "      <th></th>\n",
       "      <th>count</th>\n",
       "      <th>total_salary</th>\n",
       "    </tr>\n",
       "    <tr>\n",
       "      <th>dept</th>\n",
       "      <th>gender</th>\n",
       "      <th></th>\n",
       "      <th></th>\n",
       "    </tr>\n",
       "  </thead>\n",
       "  <tbody>\n",
       "    <tr>\n",
       "      <th rowspan=\"2\" valign=\"top\">HR</th>\n",
       "      <th>F</th>\n",
       "      <td>1</td>\n",
       "      <td>3200</td>\n",
       "    </tr>\n",
       "    <tr>\n",
       "      <th>M</th>\n",
       "      <td>1</td>\n",
       "      <td>3500</td>\n",
       "    </tr>\n",
       "    <tr>\n",
       "      <th rowspan=\"2\" valign=\"top\">IT</th>\n",
       "      <th>F</th>\n",
       "      <td>1</td>\n",
       "      <td>4000</td>\n",
       "    </tr>\n",
       "    <tr>\n",
       "      <th>M</th>\n",
       "      <td>1</td>\n",
       "      <td>4200</td>\n",
       "    </tr>\n",
       "    <tr>\n",
       "      <th>Sales</th>\n",
       "      <th>F</th>\n",
       "      <td>2</td>\n",
       "      <td>6100</td>\n",
       "    </tr>\n",
       "  </tbody>\n",
       "</table>\n",
       "</div>"
      ],
      "text/plain": [
       "              count  total_salary\n",
       "dept  gender                     \n",
       "HR    F           1          3200\n",
       "      M           1          3500\n",
       "IT    F           1          4000\n",
       "      M           1          4200\n",
       "Sales F           2          6100"
      ]
     },
     "execution_count": 172,
     "metadata": {},
     "output_type": "execute_result"
    }
   ],
   "source": [
    "# 컬럼 이름 설정 가능\n",
    "result = df.groupby([\"dept\", \"gender\"]).agg(\n",
    "    count=(\"salary\", \"count\"),\n",
    "    total_salary=(\"salary\", \"sum\")\n",
    ")\n",
    "result\n",
    "#               count\ttotal_salary\n",
    "# dept\tgender\t\t\n",
    "# HR\tF\t    1\t    3200\n",
    "#       M\t    1\t    3500\n",
    "# IT\tF\t    1\t    4000\n",
    "#       M\t    1\t    4200\n",
    "# Sales\tF\t    2\t    6100"
   ]
  }
 ],
 "metadata": {
  "kernelspec": {
   "display_name": "python-libraries",
   "language": "python",
   "name": "python3"
  },
  "language_info": {
   "codemirror_mode": {
    "name": "ipython",
    "version": 3
   },
   "file_extension": ".py",
   "mimetype": "text/x-python",
   "name": "python",
   "nbconvert_exporter": "python",
   "pygments_lexer": "ipython3",
   "version": "3.13.5"
  }
 },
 "nbformat": 4,
 "nbformat_minor": 5
}
