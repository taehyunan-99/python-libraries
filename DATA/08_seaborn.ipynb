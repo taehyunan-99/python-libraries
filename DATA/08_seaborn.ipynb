{
 "cells": [
  {
   "cell_type": "markdown",
   "id": "01c7df8f",
   "metadata": {},
   "source": [
    "## 08. Seaborn\n",
    "- Marplotlib 기반의 시각화 라이브러리\n",
    "- 통계적 데이터 시각화에 특화(Pandas와 연계 좋음)"
   ]
  },
  {
   "cell_type": "code",
   "execution_count": null,
   "id": "d0445853",
   "metadata": {},
   "outputs": [],
   "source": [
    "import seaborn as sns\n",
    "import matplotlib.pyplot as plt\n",
    "\n",
    "sns.__version__\n",
    "# conda install seaborn"
   ]
  },
  {
   "cell_type": "code",
   "execution_count": null,
   "id": "e8ac236a",
   "metadata": {},
   "outputs": [],
   "source": [
    "# 사용 가능한 데이터셋 이름 출력\n",
    "sns.get_dataset_names()"
   ]
  },
  {
   "cell_type": "code",
   "execution_count": null,
   "id": "51417b20",
   "metadata": {},
   "outputs": [],
   "source": [
    "# 데이터셋 불러오기\n",
    "df = sns.load_dataset(\"car_crashes\")\n",
    "df.head()"
   ]
  },
  {
   "cell_type": "code",
   "execution_count": null,
   "id": "04b1aab7",
   "metadata": {},
   "outputs": [],
   "source": [
    "# 폰트 목록 보기\n",
    "import matplotlib.font_manager as fm\n",
    "\n",
    "for f in fm.fontManager.ttflist:\n",
    "    print(f.name)"
   ]
  },
  {
   "cell_type": "code",
   "execution_count": null,
   "id": "815e56da",
   "metadata": {},
   "outputs": [],
   "source": [
    "# 방법 1\n",
    "sns.set_style(\"white\")\n",
    "sns.set_context(\"notebook\")\n",
    "# sns.set_palette(palette=\"deep\")\n",
    "# 이후 폰트 깨짐 방지 설정\n",
    "\n",
    "# 한글 깨짐 방지\n",
    "\n",
    "# Windows에서 한글 폰트 설정\n",
    "# plt.rcParams['font.family'] = 'Malgun Gothic'  # '맑은 고딕'이 설치되어 있을 경우\n",
    "# plt.rcParams['axes.unicode_minus'] = False     # 마이너스(-) 부호 깨짐 방지\n",
    "\n",
    "# macOS에서 한글 폰트 설정\n",
    "plt.rcParams['font.family'] = 'AppleGothic'   # macOS 기본 한글 폰트\n",
    "plt.rcParams['axes.unicode_minus'] = False"
   ]
  },
  {
   "cell_type": "code",
   "execution_count": null,
   "id": "3b9b2393",
   "metadata": {},
   "outputs": [],
   "source": [
    "# 방법 2\n",
    "# sns.set_theme(\n",
    "#     style=\"whitegrid\",\n",
    "#     rc={\n",
    "#         \"font.family\" = 'AppleGothic',\n",
    "#         \"axes.unicode_minus\" = False\n",
    "#     }\n",
    "# )"
   ]
  },
  {
   "cell_type": "markdown",
   "id": "de9ba211",
   "metadata": {},
   "source": [
    "### 범주형 데이터 그래프"
   ]
  },
  {
   "cell_type": "code",
   "execution_count": null,
   "id": "e4e714f6",
   "metadata": {},
   "outputs": [],
   "source": [
    "# countplot\n",
    "\n",
    "palette = sns.color_palette(\"deep\")\n",
    "tips = sns.load_dataset(\"tips\")\n",
    "\n",
    "sns.countplot(data=tips, x=\"day\", hue=\"sex\", edgecolor=\"black\", palette=palette)\n",
    "\n",
    "plt.title(\"요일별 방문자수\", size=15, pad=20)\n",
    "plt.grid(linestyle=\":\", alpha=0.7)\n",
    "plt.ylabel(\"count\", rotation=0, labelpad=25)\n",
    "\n",
    "plt.show()"
   ]
  },
  {
   "cell_type": "code",
   "execution_count": null,
   "id": "0a04d465",
   "metadata": {},
   "outputs": [],
   "source": [
    "# barplot\n",
    "# 각 범주의 평균값을 막대로 표현\n",
    "# 신뢰구간을 함께 시각화\n",
    "\n",
    "palette = sns.color_palette(\"pastel6\")\n",
    "sns.barplot(data=tips, x=\"day\", y=\"tip\", palette=palette, saturation=1, width=0.5, linewidth=1)\n",
    "\n",
    "plt.title(\"요일별 평균 팁 금액\")\n",
    "plt.grid(linestyle=\":\", alpha=0.7)\n",
    "plt.ylabel(\"tip\", rotation=0, labelpad=20)\n",
    "\n",
    "plt.show()"
   ]
  },
  {
   "cell_type": "code",
   "execution_count": null,
   "id": "9c52505d",
   "metadata": {},
   "outputs": [],
   "source": [
    "# boxplot()\n",
    "\n",
    "sns.set_theme(style=\"whitegrid\")\n",
    "sns.boxplot(data=tips, x=\"day\", y=\"total_bill\", hue=\"sex\", palette=\"Set2\")\n",
    "\n",
    "plt.title(\"Boxplot of Total Bill by Day and Sex\", fontsize=14)\n",
    "plt.xlabel(\"Day of the Week\")\n",
    "plt.ylabel(\"Total Bill ($)\")\n",
    "plt.legend(title=\"Sex\")\n",
    "plt.tight_layout()\n",
    "\n",
    "plt.show()"
   ]
  },
  {
   "cell_type": "code",
   "execution_count": null,
   "id": "5f336c1f",
   "metadata": {},
   "outputs": [],
   "source": [
    "# violinplot()\n",
    "plt.figure(figsize=(15, 5))\n",
    "plt.subplot(1, 3, 1)\n",
    "sns.violinplot(data=tips, x=\"day\", y=\"total_bill\")\n",
    "plt.title(\"Violinplot\")\n",
    "\n",
    "plt.show()"
   ]
  },
  {
   "cell_type": "code",
   "execution_count": null,
   "id": "df70cfb4",
   "metadata": {},
   "outputs": [],
   "source": [
    "# stripplot()\n",
    "plt.figure(figsize=(15, 5))\n",
    "plt.subplot(1, 3, 2)\n",
    "sns.stripplot(data=tips, x=\"day\", y=\"total_bill\", jitter=True)\n",
    "plt.title(\"Stripplot\")\n",
    "\n",
    "plt.show()"
   ]
  },
  {
   "cell_type": "code",
   "execution_count": null,
   "id": "ff218153",
   "metadata": {},
   "outputs": [],
   "source": [
    "# swarmplot()\n",
    "sns.swarmplot(data=tips, x=\"day\", y=\"total_bill\", hue=\"sex\", palette=\"Set2\", size=6)\n",
    "\n",
    "plt.title(\"Swarmplot of Total Bill by Day and Sex\", fontsize=14)\n",
    "plt.xlabel(\"Day of the Week\")\n",
    "plt.ylabel(\"Total Bill ($)\")\n",
    "plt.legend(title=\"Sex\")\n",
    "plt.tight_layout()\n",
    "\n",
    "plt.show()"
   ]
  },
  {
   "cell_type": "markdown",
   "id": "44a0ce94",
   "metadata": {},
   "source": [
    "### 수치형 데이터 그래프"
   ]
  },
  {
   "cell_type": "code",
   "execution_count": null,
   "id": "b3977798",
   "metadata": {},
   "outputs": [],
   "source": [
    "# displot\n",
    "# 히스토그램 + 커널 밀도(kde)\n",
    "# kde=True로 하면 kde 그래프 생성\n",
    "sns.displot(data=tips, x=\"total_bill\", edgecolor=\"black\", alpha=0.5, kde=True, bins=20)\n",
    "\n",
    "plt.title(\"Total bill\")\n",
    "plt.grid(linestyle=\":\", alpha=0.7)\n",
    "plt.ylabel(\"count\", rotation=0, labelpad=25)\n",
    "plt.xlabel(\"total_bill\", labelpad=10)\n",
    "\n",
    "plt.show()"
   ]
  },
  {
   "cell_type": "code",
   "execution_count": null,
   "id": "78430fbf",
   "metadata": {},
   "outputs": [],
   "source": [
    "# histplot()\n",
    "plt.figure(figsize=(18, 5))\n",
    "plt.subplot(1, 3, 1)\n",
    "sns.histplot(data=tips, x=\"total_bill\", bins=20,hue=\"sex\", multiple=\"stack\", palette=\"Set2\")\n",
    "\n",
    "plt.title(\"Histplot\")\n",
    "\n",
    "plt.show()"
   ]
  },
  {
   "cell_type": "code",
   "execution_count": null,
   "id": "de8b8548",
   "metadata": {},
   "outputs": [],
   "source": [
    "# kdeplot()\n",
    "plt.figure(figsize=(18, 5))\n",
    "plt.subplot(1, 3, 2)\n",
    "sns.kdeplot(data=tips, x=\"total_bill\", hue=\"sex\", fill=True, palette=\"Set2\")\n",
    "plt.title(\"KDEplot\")\n",
    "\n",
    "plt.show()"
   ]
  },
  {
   "cell_type": "code",
   "execution_count": null,
   "id": "74f8393f",
   "metadata": {},
   "outputs": [],
   "source": [
    "# rugplot()\n",
    "plt.figure(figsize=(18, 5))\n",
    "plt.subplot(1, 3, 3)\n",
    "sns.kdeplot(data=tips, x=\"total_bill\", fill=True, color=\"skyblue\", alpha=0.4)\n",
    "sns.rugplot(data=tips, x=\"total_bill\", hue=\"sex\", palette=\"Set2\")\n",
    "\n",
    "plt.title(\"Rugplot + KDEplot\")\n",
    "\n",
    "plt.show()"
   ]
  },
  {
   "cell_type": "markdown",
   "id": "22a58cb5",
   "metadata": {},
   "source": [
    "## 관계형 데이터 시각화"
   ]
  },
  {
   "cell_type": "code",
   "execution_count": null,
   "id": "bef16cdd",
   "metadata": {},
   "outputs": [],
   "source": [
    "# scatter()\n",
    "# 산점도\n",
    "palette = sns.color_palette(\"pastel6\")\n",
    "sns.scatterplot(data=tips, x=\"total_bill\", y=\"tip\", hue=\"sex\", palette=palette)\n",
    "plt.grid(linestyle=\":\", alpha=0.7)\n",
    "plt.ylabel(\"tip\", rotation=0, labelpad=20)\n",
    "\n",
    "plt.show()"
   ]
  },
  {
   "cell_type": "code",
   "execution_count": null,
   "id": "7a60b04f",
   "metadata": {},
   "outputs": [],
   "source": [
    "# lineplot()\n",
    "plt.figure(figsize=(8,5))\n",
    "sns.lineplot(data=tips, x=\"size\", y=\"total_bill\", hue=\"sex\", style=\"sex\", markers=True, dashes=False, palette=\"Set2\")\n",
    "\n",
    "plt.title(\"Lineplot Example\")\n",
    "\n",
    "plt.show()"
   ]
  },
  {
   "cell_type": "code",
   "execution_count": null,
   "id": "643a669b",
   "metadata": {},
   "outputs": [],
   "source": [
    "# relplot()\n",
    "plt.figure(figsize=(8,5))\n",
    "sns.relplot(data=tips, x=\"size\", y=\"total_bill\", hue=\"sex\", col=\"day\", kind=\"line\", markers=True, dashes=False, palette=\"Set2\", height=4, aspect=1)\n",
    "\n",
    "plt.show()"
   ]
  },
  {
   "cell_type": "markdown",
   "id": "36788839",
   "metadata": {},
   "source": [
    "### 다변량 시각화"
   ]
  },
  {
   "cell_type": "code",
   "execution_count": null,
   "id": "6b359c91",
   "metadata": {},
   "outputs": [],
   "source": [
    "penguins = sns.load_dataset(\"penguins\")\n",
    "\n",
    "# heatmap()\n",
    "# 상관계수행렬의 그래프\n",
    "\n",
    "# 상관계수행렬\n",
    "corr = penguins.corr(numeric_only=True)\n",
    "\n",
    "sns.heatmap(corr, annot=True, fmt=\".2f\", cmap=\"coolwarm\", square=False)\n",
    "plt.xticks(rotation=45)\n",
    "plt.show()"
   ]
  },
  {
   "cell_type": "code",
   "execution_count": null,
   "id": "d1b8ce3b",
   "metadata": {},
   "outputs": [],
   "source": [
    "# pairplot()\n",
    "sns.pairplot(data=penguins, hue=\"species\", palette=\"Set2\")\n",
    "plt.show()"
   ]
  },
  {
   "cell_type": "code",
   "execution_count": null,
   "id": "2b91838e",
   "metadata": {},
   "outputs": [],
   "source": [
    "# jointplot()\n",
    "palette = sns.color_palette(\"pastel6\")\n",
    "sns.jointplot(data=penguins, x=\"flipper_length_mm\", y=\"body_mass_g\", kind=\"reg\", palette=palette)\n",
    "plt.ylabel(\"body_mass_g\", rotation=0, labelpad=40)\n",
    "plt.grid(linestyle=\":\", alpha=0.7)\n",
    "\n",
    "plt.show()"
   ]
  },
  {
   "cell_type": "code",
   "execution_count": null,
   "id": "a4262255",
   "metadata": {},
   "outputs": [],
   "source": [
    "sns.jointplot(data=penguins, x=\"flipper_length_mm\", y=\"body_mass_g\", kind=\"hex\", cmap=\"viridis\")\n",
    "\n",
    "plt.show()"
   ]
  }
 ],
 "metadata": {
  "kernelspec": {
   "display_name": "data_analysis",
   "language": "python",
   "name": "python3"
  },
  "language_info": {
   "codemirror_mode": {
    "name": "ipython",
    "version": 3
   },
   "file_extension": ".py",
   "mimetype": "text/x-python",
   "name": "python",
   "nbconvert_exporter": "python",
   "pygments_lexer": "ipython3",
   "version": "3.13.5"
  }
 },
 "nbformat": 4,
 "nbformat_minor": 5
}
