{
 "cells": [
  {
   "cell_type": "markdown",
   "id": "ac3c6f03",
   "metadata": {},
   "source": [
    "## NumPy 3"
   ]
  },
  {
   "cell_type": "markdown",
   "id": "4efeec94",
   "metadata": {},
   "source": [
    "### 3-1 배열의 형태 변형과 차원 확장/축소"
   ]
  },
  {
   "cell_type": "code",
   "execution_count": 1,
   "id": "027f4d7a",
   "metadata": {},
   "outputs": [],
   "source": [
    "import numpy as np"
   ]
  },
  {
   "cell_type": "code",
   "execution_count": null,
   "id": "56517318",
   "metadata": {},
   "outputs": [],
   "source": [
    "# array.ravel()\n",
    "# 다차원 배열을 1차원 배열로 펼침\n",
    "# 결과를 View로 반환(View를 변경시 원본도 변경)\n",
    "\n",
    "a = np.array([[1,2,3], [4,5,6]])\n",
    "print(a)\n",
    "# [[1 2 3]\n",
    "#  [4 5 6]]\n",
    "flat = a.ravel()\n",
    "print(flat)\n",
    "# [1 2 3 4 5 6]\n",
    "flat[2] = 100\n",
    "print(flat)\n",
    "# [  1   2 100   4   5   6]\n",
    "print(a)\n",
    "# [[  1   2 100]\n",
    "#  [  4   5   6]]"
   ]
  },
  {
   "cell_type": "code",
   "execution_count": null,
   "id": "a21da1bf",
   "metadata": {},
   "outputs": [],
   "source": [
    "# array.flatten()\n",
    "# 다차원 배열을 1차원 배열로 펼침\n",
    "# 결과를 복사본으로 반환(복사본 변경시 원본은 변경되지 않음)\n",
    "\n",
    "a = np.array([[1,2], [3,4], [5,6], [7,8]])\n",
    "print(a)\n",
    "# [[1 2]\n",
    "#  [3 4]\n",
    "#  [5 6]\n",
    "#  [7 8]]\n",
    "flat = a.flatten()\n",
    "print(flat)\n",
    "# [1 2 3 4 5 6 7 8]\n",
    "flat[4] = 0\n",
    "print(flat)\n",
    "# [1 2 3 4 0 6 7 8]\n",
    "print(a)\n",
    "# [[1 2]\n",
    "#  [3 4]\n",
    "#  [5 6]\n",
    "#  [7 8]]"
   ]
  },
  {
   "cell_type": "code",
   "execution_count": null,
   "id": "b995229d",
   "metadata": {},
   "outputs": [],
   "source": [
    "# np.expand_dims(a, axis)\n",
    "# 지정한 위치에 차원 추가(차원 확장)\n",
    "# 추가되는 차원은 1차원\n",
    "\n",
    "a = np.array([[1,2,3], [4,5,6]]) # 2 x 3\n",
    "print(a.shape)\n",
    "# (2, 3)\n",
    "\n",
    "# axis=0\n",
    "a0 = np.expand_dims(a, axis=0)\n",
    "print(a0.shape)\n",
    "# (1, 2, 3)\n",
    "print(a0)\n",
    "# [[[1 2 3]\n",
    "#   [4 5 6]]]\n",
    "\n",
    "# axis=1\n",
    "a1 = np.expand_dims(a, axis=1)\n",
    "print(a1.shape)\n",
    "# (2, 1, 3)\n",
    "print(a1)\n",
    "# [[[1 2 3]]\n",
    "# \n",
    "#  [[4 5 6]]]\n",
    "\n",
    "# axis=2\n",
    "a2 = np.expand_dims(a, axis=2)\n",
    "print(a2.shape)\n",
    "# (2, 3, 1)\n",
    "print(a2)\n",
    "# [[[1]\n",
    "#   [2]\n",
    "#   [3]]\n",
    "# \n",
    "#  [[4]\n",
    "#   [5]\n",
    "#   [6]]]"
   ]
  },
  {
   "cell_type": "code",
   "execution_count": null,
   "id": "8bbb98e3",
   "metadata": {},
   "outputs": [],
   "source": [
    "# np.squeeze(a, axis)\n",
    "# 배열에서 크기가 1인 차원을 제거해주는 함수\n",
    "\n",
    "a = np.array([[[[1], [2], [3]]]])\n",
    "\n",
    "print(a.shape)\n",
    "# (1, 1, 3, 1)\n",
    "\n",
    "# axis 값 지정하지 않는 경우\n",
    "s = np.squeeze(a)\n",
    "print(s)\n",
    "# [1 2 3]\n",
    "print(s.shape)\n",
    "# (3,)"
   ]
  },
  {
   "cell_type": "code",
   "execution_count": null,
   "id": "ff6a751f",
   "metadata": {},
   "outputs": [],
   "source": [
    "# axis 지정하는 경우\n",
    "\n",
    "a2 = np.zeros((1,4,1,2))\n",
    "print(a2.shape)\n",
    "# (1, 4, 1, 2)\n",
    "\n",
    "s1 = np.squeeze(a2, axis=0)\n",
    "print(s1.shape)\n",
    "# (4, 1, 2)\n",
    "\n",
    "s2 = np.squeeze(a2, axis=2)\n",
    "print(s2.shape)\n",
    "# (1, 4, 2)\n",
    "\n",
    "# 차원의 크기가 1이 아닌 차원은 제거할 수 없음\n",
    "s3 = np.squeeze(a2, axis=1)\n",
    "# ValueError: cannot select an axis to squeeze out which has size not equal to one"
   ]
  },
  {
   "cell_type": "code",
   "execution_count": null,
   "id": "bff74e29",
   "metadata": {},
   "outputs": [],
   "source": [
    "# np.unique()\n",
    "# 배열에서 중복된 요소를 제거\n",
    "\n",
    "a = np.array([1,1,2,2,6,2,2,3,3,3,4,4,5])\n",
    "\n",
    "u1 = np.unique(a) # 고유값의 오름차순 배열 반환\n",
    "print(u1)\n",
    "# [1 2 3 4 5 6]\n",
    "\n",
    "u2, idx, inv, cnt = np.unique(a, return_index=True, return_inverse=True, return_counts=True)\n",
    "print(\"인덱스 :\", idx) # 고유값이 원본에서 처음 나타나는 인덱스\n",
    "# 인덱스 : [ 0  2  7 10 12  4]\n",
    "print(\"원본의 고유값 인덱스 :\", inv)\n",
    "# 원본의 고유값 인덱스 : [0 0 1 1 5 1 1 2 2 2 3 3 4]\n",
    "print(\"값의 등장 횟수 :\", cnt)\n",
    "# 값의 등장 횟수 : [2 4 3 2 1 1]"
   ]
  },
  {
   "cell_type": "code",
   "execution_count": null,
   "id": "6ddd8753",
   "metadata": {},
   "outputs": [],
   "source": [
    "# 실습 1. 배열 형태 변형, 차원 확장, 축소\n",
    "# 1.\n",
    "arr = np.array([[10, 20], [30, 40], [50, 60]])\n",
    "\n",
    "flat1 = arr.ravel()\n",
    "flat2 = arr.flatten()\n",
    "print(\"ravel :\", flat1)\n",
    "print(\"flatten :\", flat2)\n",
    "\n",
    "arr[0,0] = 999\n",
    "print(\"ravel :\", flat1)\n",
    "print(\"flatten :\", flat2)"
   ]
  },
  {
   "cell_type": "code",
   "execution_count": null,
   "id": "122a7a5e",
   "metadata": {},
   "outputs": [],
   "source": [
    "# 2.\n",
    "img = np.random.rand(32, 32)\n",
    "img_1 = np.expand_dims(img, axis=0)\n",
    "print(img_1.shape)"
   ]
  },
  {
   "cell_type": "code",
   "execution_count": null,
   "id": "3de8f9fa",
   "metadata": {},
   "outputs": [],
   "source": [
    "# 3.\n",
    "img = np.random.randint(0, 255, (1, 28, 28, 1))\n",
    "img_1 = np.squeeze(img)\n",
    "print(img_1.shape)"
   ]
  },
  {
   "cell_type": "code",
   "execution_count": null,
   "id": "d8b8cec2",
   "metadata": {},
   "outputs": [],
   "source": [
    "# 4.\n",
    "arr = np.array([[3, 1, 2, 2],\n",
    "                [1, 2, 3, 1],\n",
    "                [2, 2, 1, 4]])\n",
    "flat_arr = arr.flatten()\n",
    "print(\"1. \\n\", flat_arr)\n",
    "\n",
    "u_arr = np.unique(flat_arr)\n",
    "print(\"2. \\n\", u_arr)\n",
    "# re_arr = u_arr.reshape(1, len(u_arr))\n",
    "re_arr = u_arr.reshape(1, -1) # -1을 입력할시 자동으로 계산해줌\n",
    "print(re_arr)"
   ]
  },
  {
   "cell_type": "code",
   "execution_count": null,
   "id": "5be4fda5",
   "metadata": {},
   "outputs": [],
   "source": [
    "# 5.\n",
    "arr = np.array([[[1], [3], [2], [1], [3], [2], [3], [1], [2], [3]]]) # shape (1, 10, 1)\n",
    "s_arr = np.squeeze(arr)\n",
    "print(s_arr)\n",
    "u_arr = np.unique(s_arr)\n",
    "print(u_arr)"
   ]
  },
  {
   "cell_type": "code",
   "execution_count": null,
   "id": "eae69f9c",
   "metadata": {},
   "outputs": [],
   "source": [
    "# 6.\n",
    "arr = np.array([ [[0, 1, 2, 3], [1, 2, 3, 4], [2, 3, 4, 5]],\n",
    "                [[3, 4, 5, 6], [4, 5, 6, 7], [5, 6, 7, 8]] ]) # shape (2, 3, 4)\n",
    "f_arr = arr.flatten()\n",
    "print(f_arr)\n",
    "u_arr = np.unique(f_arr)\n",
    "re_arr = np.expand_dims(u_arr, axis=1)\n",
    "print(re_arr)"
   ]
  },
  {
   "cell_type": "markdown",
   "id": "cb5ce77c",
   "metadata": {},
   "source": [
    "### 3-2 배열의 결합과 분리"
   ]
  },
  {
   "cell_type": "code",
   "execution_count": null,
   "id": "cee63c15",
   "metadata": {},
   "outputs": [],
   "source": [
    "# np.concatenate()\n",
    "# 배열 시퀀스를 결합\n",
    "# 기존 구조 안에서 결합\n",
    "\n",
    "a = np.array([[1,2], [3,4]]) # (2, 2)\n",
    "b = np.array([[5,6]])\n",
    "\n",
    "# axis 지정하지 않을 시 기본 값 = 0\n",
    "result = np.concatenate((a, b))\n",
    "print(result)\n",
    "# [[1 2]\n",
    "#  [3 4]\n",
    "#  [5 6]]\n",
    "print(result.shape)\n",
    "# (3, 2)\n",
    "\n",
    "c = np.array([[7], [8], [9]])\n",
    "result2 = np.concatenate((result, c), axis=1)\n",
    "print(result2)\n",
    "# [[1 2 7]\n",
    "#  [3 4 8]\n",
    "#  [5 6 9]]\n",
    "print(result2.shape)\n",
    "# (3, 3)\n",
    "\n",
    "# 결합하는 axis를 제외한 나머지 차원이 같아야 결합 가능\n",
    "result0 = np.concatenate((a, b), axis=1)\n",
    "# ValueError"
   ]
  },
  {
   "cell_type": "code",
   "execution_count": null,
   "id": "b5860a3d",
   "metadata": {},
   "outputs": [],
   "source": [
    "# np.stack()\n",
    "# 새로운 차원을 추가하면서 결합\n",
    "# shape 형태가 같아야 결합 가능\n",
    "\n",
    "a = np.array([1,2,3]) # (3,)\n",
    "b = np.array([4,5,6])\n",
    "\n",
    "# axis=0\n",
    "s1 = np.stack((a,b))\n",
    "print(s1)\n",
    "# [[1 2 3]\n",
    "#  [4 5 6]]\n",
    "print(s1.shape)\n",
    "# (2, 3)\n",
    "\n",
    "# axis=1\n",
    "s2 = np.stack((a,b), axis=1)\n",
    "print(s2)\n",
    "# [[1 4]\n",
    "#  [2 5]\n",
    "#  [3 6]]\n",
    "print(s2.shape)\n",
    "# (3, 2)"
   ]
  },
  {
   "cell_type": "code",
   "execution_count": null,
   "id": "7f1d2b43",
   "metadata": {},
   "outputs": [],
   "source": [
    "# np.split()\n",
    "# 배열을 여러개의 하위배열로 분할\n",
    "\n",
    "a = np.arange(9)\n",
    "s = np.split(a, 3)\n",
    "print(a)\n",
    "# [0 1 2 3 4 5 6 7 8]\n",
    "print(s)\n",
    "# [array([0, 1, 2]), array([3, 4, 5]), array([6, 7, 8])]\n",
    "print(s[0])\n",
    "# [0 1 2]\n",
    "print(s[1])\n",
    "# [3 4 5]\n",
    "print(s[2])\n",
    "# [6 7 8]"
   ]
  },
  {
   "cell_type": "code",
   "execution_count": null,
   "id": "8db7d40a",
   "metadata": {},
   "outputs": [],
   "source": [
    "# 배열을 같은 크기로만 나눌 수 있음\n",
    "\n",
    "a = np.arange(9)\n",
    "s = np.split(a, 4)\n",
    "# ValueError: array split does not result in an equal division"
   ]
  },
  {
   "cell_type": "code",
   "execution_count": null,
   "id": "74b295ca",
   "metadata": {},
   "outputs": [],
   "source": [
    "# 인덱스를 기준으로 분할하면 일정하지 않은 크기로 분할 가능\n",
    "\n",
    "a = np.arange(16).reshape(4,4)\n",
    "print(a)\n",
    "# [[ 0  1  2  3]\n",
    "#  [ 4  5  6  7]\n",
    "#  [ 8  9 10 11]\n",
    "#  [12 13 14 15]]\n",
    "\n",
    "s1 = np.split(a, [1,3])\n",
    "for part in s1:\n",
    "    print(part)\n",
    "# [[0 1 2 3]]\n",
    "# [[ 4  5  6  7]\n",
    "#  [ 8  9 10 11]]\n",
    "# [[12 13 14 15]]\n",
    "\n",
    "# axis=1 인 경우\n",
    "s2 = np.split(a, 2, axis=1)\n",
    "for part in s2:\n",
    "    print(part)\n",
    "# [[ 0  1]\n",
    "#  [ 4  5]\n",
    "#  [ 8  9]\n",
    "#  [12 13]]\n",
    "# [[ 2  3]\n",
    "#  [ 6  7]\n",
    "#  [10 11]\n",
    "#  [14 15]]"
   ]
  },
  {
   "cell_type": "code",
   "execution_count": 10,
   "id": "353c9c0c",
   "metadata": {},
   "outputs": [
    {
     "name": "stdout",
     "output_type": "stream",
     "text": [
      "[[1 2]\n",
      " [3 4]\n",
      " [5 6]]\n"
     ]
    }
   ],
   "source": [
    "# 실습2. 배열의 결합과 분리\n",
    "# 1.\n",
    "a = np.array([[1, 2], [3, 4]])\n",
    "b = np.array([[5, 6]])\n",
    "\n",
    "result = np.concatenate((a, b))\n",
    "print(result)"
   ]
  },
  {
   "cell_type": "code",
   "execution_count": 11,
   "id": "2d2ff5f4",
   "metadata": {},
   "outputs": [
    {
     "name": "stdout",
     "output_type": "stream",
     "text": [
      "[array([0, 1, 2, 3]), array([4, 5, 6, 7]), array([ 8,  9, 10, 11])]\n"
     ]
    }
   ],
   "source": [
    "# 2.\n",
    "a = np.arange(12)\n",
    "\n",
    "s = np.split(a, 3)\n",
    "print(s)"
   ]
  },
  {
   "cell_type": "code",
   "execution_count": 12,
   "id": "c0cc68b6",
   "metadata": {},
   "outputs": [
    {
     "name": "stdout",
     "output_type": "stream",
     "text": [
      "[[1 2]\n",
      " [3 4]\n",
      " [5 6]]\n",
      "(3, 2)\n"
     ]
    }
   ],
   "source": [
    "# 3.\n",
    "a = np.array([1, 2])\n",
    "b = np.array([3, 4])\n",
    "c = np.array([5, 6])\n",
    "\n",
    "s = np.stack((a, b, c))\n",
    "print(s)\n",
    "print(s.shape)"
   ]
  },
  {
   "cell_type": "code",
   "execution_count": 5,
   "id": "c58a62c3",
   "metadata": {},
   "outputs": [
    {
     "name": "stdout",
     "output_type": "stream",
     "text": [
      "[[[ 1  2  3]\n",
      "  [ 4  5  6]]\n",
      "\n",
      " [[ 7  8  9]\n",
      "  [10 11 12]]]\n",
      "(2, 2, 3)\n"
     ]
    }
   ],
   "source": [
    "# 4.\n",
    "a = np.array([[1,2,3], [4,5,6]])\n",
    "b = np.array([[7,8,9], [10,11,12]])\n",
    "\n",
    "s = np.stack((a, b), axis=0)\n",
    "print(s)\n",
    "print(s.shape)"
   ]
  },
  {
   "cell_type": "code",
   "execution_count": 6,
   "id": "d1cb84a7",
   "metadata": {},
   "outputs": [
    {
     "name": "stdout",
     "output_type": "stream",
     "text": [
      "[array([0, 1]), array([2, 3, 4]), array([5, 6, 7])]\n"
     ]
    }
   ],
   "source": [
    "# 5.\n",
    "arr = np.arange(8)\n",
    "\n",
    "s = np.split(arr, [2,5])\n",
    "print(s)"
   ]
  },
  {
   "cell_type": "code",
   "execution_count": 9,
   "id": "0cfd6a20",
   "metadata": {},
   "outputs": [
    {
     "name": "stdout",
     "output_type": "stream",
     "text": [
      "axis=0 :\n",
      " [[[1. 1. 1.]\n",
      "  [1. 1. 1.]]\n",
      "\n",
      " [[0. 0. 0.]\n",
      "  [0. 0. 0.]]]\n",
      "\n",
      "axis=1 :\n",
      " [[[1. 1. 1.]\n",
      "  [0. 0. 0.]]\n",
      "\n",
      " [[1. 1. 1.]\n",
      "  [0. 0. 0.]]]\n"
     ]
    }
   ],
   "source": [
    "# 6.\n",
    "a = np.ones((2,3))\n",
    "b = np.zeros((2,3))\n",
    "\n",
    "a0 = np.stack((a, b), axis=0)\n",
    "a1 = np.stack((a, b), axis=1)\n",
    "print(\"axis=0 :\\n\", a0)\n",
    "print()\n",
    "print(\"axis=1 :\\n\", a1)"
   ]
  },
  {
   "cell_type": "markdown",
   "id": "503dc524",
   "metadata": {},
   "source": [
    "### 3-3 배열의 정렬"
   ]
  },
  {
   "cell_type": "code",
   "execution_count": null,
   "id": "f11f756f",
   "metadata": {},
   "outputs": [],
   "source": [
    "# np.sort(array)\n",
    "# 정렬된 복사본 반환\n",
    "\n",
    "# array.sort()\n",
    "# 원본 배열을 정렬\n",
    "\n",
    "# 1 차원 배열\n",
    "a = np.array([3,1,4,2])\n",
    "s = np.sort(a)\n",
    "print(s)\n",
    "print(a)\n",
    "# [1 2 3 4]\n",
    "# [3 1 4 2]\n",
    "a.sort()\n",
    "print(a)\n",
    "# [1 2 3 4]\n",
    "\n",
    "# 내림차순 : sort한 후 배열을 뒤집어야 함\n",
    "print(a[::-1])\n",
    "# [4 3 2 1]"
   ]
  },
  {
   "cell_type": "code",
   "execution_count": null,
   "id": "1ed91538",
   "metadata": {},
   "outputs": [],
   "source": [
    "# 2 차원 배열 정렬\n",
    "a = [[6,5,4], [3,1,2]]\n",
    "\n",
    "s1 = np.sort(a, axis=0)\n",
    "print(s1)\n",
    "# [[3 1 2]\n",
    "#  [6 5 4]]\n",
    "\n",
    "s2 = np.sort(a, axis=1)\n",
    "print(s2)\n",
    "# [[4 5 6]\n",
    "#  [1 2 3]]"
   ]
  },
  {
   "cell_type": "code",
   "execution_count": null,
   "id": "4d734bbb",
   "metadata": {},
   "outputs": [],
   "source": [
    "# np.argsort()\n",
    "# 정렬 인덱스를 반환\n",
    "\n",
    "a = np.array([3,1,4,2])\n",
    "idx = np.argsort(a)\n",
    "print(idx)\n",
    "# [1 3 0 2]\n",
    "print(a[idx])\n",
    "# [1 2 3 4]"
   ]
  },
  {
   "cell_type": "code",
   "execution_count": null,
   "id": "ac221c4f",
   "metadata": {},
   "outputs": [],
   "source": [
    "# 실습 3. 배열의 정렬\n",
    "# 1.\n",
    "arr = np.array([7, 2, 9, 4, 5])\n",
    "\n",
    "s1 = np.sort(arr)\n",
    "s2 = np.sort(arr)[::-1]\n",
    "print(s1)\n",
    "print(s2)"
   ]
  },
  {
   "cell_type": "code",
   "execution_count": null,
   "id": "f7011353",
   "metadata": {},
   "outputs": [],
   "source": [
    "# 2.\n",
    "arr = np.array([[9, 2, 5],\n",
    "                [3, 8, 1]])\n",
    "\n",
    "s = np.sort(arr, axis=1)\n",
    "print(s)"
   ]
  },
  {
   "cell_type": "code",
   "execution_count": null,
   "id": "048ca865",
   "metadata": {},
   "outputs": [],
   "source": [
    "# 3.\n",
    "arr = np.array([10, 3, 7, 1, 9])\n",
    "\n",
    "idx = np.argsort(arr)\n",
    "print(idx)\n",
    "print(arr[idx])"
   ]
  },
  {
   "cell_type": "code",
   "execution_count": null,
   "id": "22b2a97b",
   "metadata": {},
   "outputs": [],
   "source": [
    "# 4.\n",
    "arr = np.array([[4, 7, 2],\n",
    "                [9, 1, 5],\n",
    "                [6, 8, 3]])\n",
    "\n",
    "s = np.sort(arr, axis=0)\n",
    "print(s)"
   ]
  }
 ],
 "metadata": {
  "kernelspec": {
   "display_name": "data_analysis",
   "language": "python",
   "name": "python3"
  },
  "language_info": {
   "codemirror_mode": {
    "name": "ipython",
    "version": 3
   },
   "file_extension": ".py",
   "mimetype": "text/x-python",
   "name": "python",
   "nbconvert_exporter": "python",
   "pygments_lexer": "ipython3",
   "version": "3.13.5"
  }
 },
 "nbformat": 4,
 "nbformat_minor": 5
}
