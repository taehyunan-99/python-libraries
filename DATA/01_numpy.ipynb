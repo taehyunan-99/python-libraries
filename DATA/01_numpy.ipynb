{
 "cells": [
  {
   "cell_type": "markdown",
   "id": "76732782",
   "metadata": {},
   "source": [
    "## 01. NumPy\n",
    "- 다차원 배열을 쉽고 효율적으로 사용할 수 있도록 지원하는 파이썬 라이브러리\n",
    "- 데이터 분석 라이브러리의 근본"
   ]
  },
  {
   "cell_type": "markdown",
   "id": "b2d2b02c",
   "metadata": {},
   "source": [
    "### 1-1 ndarray\n",
    "- NumPy의 핵심 데이터 구조\n",
    "- 동일한 자료형의 다차원 배열"
   ]
  },
  {
   "cell_type": "code",
   "execution_count": null,
   "id": "ff50225a",
   "metadata": {},
   "outputs": [],
   "source": [
    "import numpy as np"
   ]
  },
  {
   "cell_type": "code",
   "execution_count": null,
   "id": "69ed0e62",
   "metadata": {},
   "outputs": [],
   "source": [
    "# ndarray 생성\n",
    "a = np.array([[1,2,4], [4,5,6]])\n",
    "b = np.array([1.0,2.3,3.14])\n",
    "\n",
    "# 배열의 구조\n",
    "print(f\"배열의 구조 : {a.shape}\")\n",
    "# 배열의 구조 : (2, 3)\n",
    "\n",
    "# 배열의 차원 수\n",
    "print(f\"배열의 차원 : {a.ndim}\")\n",
    "# 배열의 차원 : 2\n",
    "\n",
    "# 데이터 타입\n",
    "print(f\"배열의 데이터 타입 : {a.dtype}\")\n",
    "print(f\"배열의 데이터 타입 : {b.dtype}\") \n",
    "# 배열의 데이터 타입 : int64 / 정수가 표현할 수 있는 용량 = 64 비트\n",
    "# 배열의 데이터 타입 : float64 / 실수가 표현할 수 있는 용량 = 64 비트\n",
    "\n",
    "# 형변환\n",
    "new_a = a.astype(np.float64) \n",
    "print(f\"배열의 데이터 타입 : {new_a.dtype}\")\n",
    "# 배열의 데이터 타입 : float64"
   ]
  },
  {
   "cell_type": "code",
   "execution_count": null,
   "id": "1fddb38e",
   "metadata": {},
   "outputs": [],
   "source": [
    "# 3차원 행열\n",
    "\n",
    "a = np.array([[[1,2,4], [4,5,6]], [[1,2,4], [4,5,6]]])\n",
    "\n",
    "print(f\"배열의 구조 : {a.shape}\")\n",
    "print(f\"배열의 차원 : {a.ndim}\")\n",
    "# 배열의 구조 : (2, 2, 3)\n",
    "# 배열의 차원 : 3"
   ]
  },
  {
   "cell_type": "code",
   "execution_count": null,
   "id": "35e43ef5",
   "metadata": {},
   "outputs": [],
   "source": [
    "# 4차원 행열\n",
    "\n",
    "a = np.array([[[[1,2,4], [4,5,6]], [[1,2,4], [4,5,6]]], [[[1,2,4], [4,5,6]], [[1,2,4], [4,5,6]]]])\n",
    "\n",
    "print(f\"배열의 구조 : {a.shape}\")\n",
    "print(f\"배열의 차원 : {a.ndim}\")\n",
    "# 배열의 구조 : (2, 2, 2, 3)\n",
    "# 배열의 차원 : 4"
   ]
  },
  {
   "cell_type": "code",
   "execution_count": null,
   "id": "ba7f3a26",
   "metadata": {},
   "outputs": [],
   "source": [
    "# 만들 수 없는 배열\n",
    "\n",
    "# 내부 배열의 구조가 같아야 함\n",
    "a = np.array([[1], [2,3]]) # ValueError "
   ]
  },
  {
   "cell_type": "markdown",
   "id": "230b8bb3",
   "metadata": {},
   "source": [
    "### 1-2 배열 초기화"
   ]
  },
  {
   "cell_type": "code",
   "execution_count": null,
   "id": "42f79466",
   "metadata": {},
   "outputs": [],
   "source": [
    "# 모든 요소가 0인 배열 생성\n",
    "\n",
    "np.zeros((3, 4)) # 2차원\n",
    "# array([[0., 0., 0., 0.],\n",
    "#        [0., 0., 0., 0.],\n",
    "#        [0., 0., 0., 0.]])\n",
    "\n",
    "np.zeros((2, 3, 4), dtype=np.int64) # 3차원 / 데이터 타입 지정 가능\n",
    "# array([[[0, 0, 0, 0],\n",
    "#         [0, 0, 0, 0],\n",
    "#         [0, 0, 0, 0]],\n",
    "\n",
    "#        [[0, 0, 0, 0],\n",
    "#         [0, 0, 0, 0],\n",
    "#         [0, 0, 0, 0]]])"
   ]
  },
  {
   "cell_type": "code",
   "execution_count": null,
   "id": "7ad3187d",
   "metadata": {},
   "outputs": [],
   "source": [
    "# 모든 요소가 1인 배열 생성\n",
    "\n",
    "np.ones((5,6))\n",
    "# array([[1., 1., 1., 1., 1., 1.],\n",
    "#        [1., 1., 1., 1., 1., 1.],\n",
    "#        [1., 1., 1., 1., 1., 1.],\n",
    "#        [1., 1., 1., 1., 1., 1.],\n",
    "#        [1., 1., 1., 1., 1., 1.]])"
   ]
  },
  {
   "cell_type": "code",
   "execution_count": null,
   "id": "6ac7c5be",
   "metadata": {},
   "outputs": [],
   "source": [
    "# (원소의 값이) 초기화 되지 않은 배열 생성\n",
    "\n",
    "np.empty((2,3)) # 쓰레기 값 = 메모리에 남아있던 값\n",
    "# array([[4.9e-324, 9.9e-324, 2.0e-323],\n",
    "#        [2.0e-323, 2.5e-323, 3.0e-323]])"
   ]
  },
  {
   "cell_type": "code",
   "execution_count": null,
   "id": "3df5e206",
   "metadata": {},
   "outputs": [],
   "source": [
    "# 주어진 값으로 채운 배열\n",
    "\n",
    "np.full((3,3), 7)\n",
    "# array([[7, 7, 7],\n",
    "#        [7, 7, 7],\n",
    "#        [7, 7, 7]])"
   ]
  },
  {
   "cell_type": "code",
   "execution_count": null,
   "id": "ceafc345",
   "metadata": {},
   "outputs": [],
   "source": [
    "# 단위 행렬 : 행렬의 곱에서 자기 자신이 만들어지는 행렬\n",
    "\n",
    "np.eye(3,3)\n",
    "# array([[1., 0., 0.],\n",
    "#        [0., 1., 0.],\n",
    "#        [0., 0., 1.]])\n",
    "\n",
    "np.eye(3,5,1) # 3번째 인자를 입력하면 1이 오른쪽으로 이동\n",
    "# array([[0., 1., 0., 0., 0.],\n",
    "#        [0., 0., 1., 0., 0.],\n",
    "#        [0., 0., 0., 1., 0.]])"
   ]
  },
  {
   "cell_type": "markdown",
   "id": "678088d4",
   "metadata": {},
   "source": [
    "### 1-3 범위 기반 배열 생성"
   ]
  },
  {
   "cell_type": "code",
   "execution_count": null,
   "id": "80e83d60",
   "metadata": {},
   "outputs": [],
   "source": [
    "# arange : range() 와 유사한 기능을 제공\n",
    "# 시작 이상 끝 미만의 정수 배열을 지정한 간격으로 생성\n",
    "\n",
    "np.arange(0, 10)\n",
    "# array([0, 1, 2, 3, 4, 5, 6, 7, 8, 9])\n",
    "np.arange(0, 10, 2)\n",
    "# array([0, 2, 4, 6, 8])"
   ]
  },
  {
   "cell_type": "code",
   "execution_count": null,
   "id": "c15f555c",
   "metadata": {},
   "outputs": [],
   "source": [
    "# linspace : 시작~끝까지 균일 간격으로 지정한 개수만큼 숫자를 생성\n",
    "# 끝을 포함\n",
    "\n",
    "np.linspace(10, 100, 10)\n",
    "# array([ 10.,  20.,  30.,  40.,  50.,  60.,  70.,  80.,  90., 100.])\n",
    "\n",
    "np.linspace(0.1, 1, 10)\n",
    "# array([0.1, 0.2, 0.3, 0.4, 0.5, 0.6, 0.7, 0.8, 0.9, 1. ])"
   ]
  },
  {
   "cell_type": "code",
   "execution_count": null,
   "id": "9dd166d4",
   "metadata": {},
   "outputs": [],
   "source": [
    "# reshape : 배열의 구조를 재배치\n",
    "\n",
    "np.linspace(1, 10, 6).reshape((2,3))\n",
    "# array([[ 1. ,  2.8,  4.6],\n",
    "#        [ 6.4,  8.2, 10. ]])\n",
    "\n",
    "# 원소의 개수가 같아야 함\n",
    "np.linspace(1, 10, 10).reshape((2,3)) # ValueError  "
   ]
  },
  {
   "cell_type": "markdown",
   "id": "7772cc3b",
   "metadata": {},
   "source": [
    "### 1-4 랜덤 배열 생성"
   ]
  },
  {
   "cell_type": "code",
   "execution_count": null,
   "id": "cdaa1b04",
   "metadata": {},
   "outputs": [],
   "source": [
    "# random.rand(m, n) : 0~1 사이의 난수로 초기화\n",
    "\n",
    "np.random.rand(2,3)\n",
    "# array([[0.72780303, 0.82995047, 0.38476608],\n",
    "#        [0.84412908, 0.29035368, 0.5260673 ]])"
   ]
  },
  {
   "cell_type": "code",
   "execution_count": null,
   "id": "8febaa92",
   "metadata": {},
   "outputs": [],
   "source": [
    "# random.randn(m, n) : 표준정규분포를 따르는 난수로 초기화\n",
    "# 표준정규분포 : 평균 : 0, 분산 : 1인 정규분포\n",
    "\n",
    "np.random.randn(2,2,3)\n",
    "# array([[[ 1.23783806,  1.0700067 ,  1.01619099],\n",
    "#         [-1.26835453, -0.49229975,  1.59009656]],\n",
    "\n",
    "#        [[ 1.84248661, -0.25435332, -1.44099114],\n",
    "#         [ 0.00508073, -0.55274915, -0.24587321]]])"
   ]
  },
  {
   "cell_type": "code",
   "execution_count": null,
   "id": "846a278d",
   "metadata": {},
   "outputs": [],
   "source": [
    "# random.randint(low, high, (size)) : 정수 배열 생성\n",
    "\n",
    "np.random.randint(0, 101, (3, 3))\n",
    "# array([[36, 76, 50],\n",
    "#        [32, 83, 34],\n",
    "#        [33, 61,  3]])"
   ]
  },
  {
   "cell_type": "code",
   "execution_count": null,
   "id": "ed575d19",
   "metadata": {},
   "outputs": [],
   "source": [
    "# random.seed() : 랜덤 난수의 초기화 값을 고정\n",
    "\n",
    "np.random.seed(42)\n",
    "\n",
    "print(np.random.rand(2,3))\n",
    "\n",
    "print(np.random.randn(2,2))\n",
    "\n",
    "print(np.random.randint(0, 101, (3, 3)))\n",
    "# [[0.37454012 0.95071431 0.73199394]\n",
    "#  [0.59865848 0.15601864 0.15599452]]\n",
    "\n",
    "# [[ 1.57921282  0.76743473]\n",
    "#  [-0.46947439  0.54256004]]\n",
    "\n",
    "# [[63 59 20]\n",
    "#  [32 75 57]\n",
    "#  [21 88 48]]"
   ]
  },
  {
   "cell_type": "code",
   "execution_count": null,
   "id": "d05c1f96",
   "metadata": {},
   "outputs": [],
   "source": [
    "# RNG(Random Number Generator)\n",
    "# 최근 파이썬 사용에서 권장되는 방식\n",
    "\n",
    "from numpy.random import default_rng\n",
    "rng = default_rng(seed=42)\n",
    "rng2 = default_rng(seed=10) # 시드값 변경으로 독립적으로 시드 사용 가능\n",
    "rng3 = default_rng() # 시드 사용 안해도 가능\n",
    "\n",
    "# 0~1 사이의 난수\n",
    "print(rng.random((2,3)))\n",
    "# [[0.77395605 0.43887844 0.85859792]\n",
    "#  [0.69736803 0.09417735 0.97562235]]\n",
    "\n",
    "# 정규 분포\n",
    "print(rng.normal(0, 1, (2,3)))\n",
    "# [[ 0.1278404  -0.31624259 -0.01680116]\n",
    "#  [-0.85304393  0.87939797  0.77779194]]\n",
    "\n",
    "# 정수 난수\n",
    "print(rng.integers(0, 100, (3,3)))\n",
    "# [[78 64 40]\n",
    "#  [82 54 44]\n",
    "#  [45 22  9]]\n",
    "\n",
    "# 균등 분포\n",
    "print(rng.uniform(0, 100, (3,2)))\n",
    "# [[ 6.38172561 82.7631172 ]\n",
    "#  [63.16643991 75.80877401]\n",
    "#  [35.45259681 97.06980244]]"
   ]
  },
  {
   "cell_type": "code",
   "execution_count": null,
   "id": "cc252836",
   "metadata": {},
   "outputs": [],
   "source": [
    "# 실습 1. 배열 초기화 및 생성\n",
    "\n",
    "# 1. \n",
    "print(np.zeros((3,4)))\n",
    "\n",
    "print(np.full((3,4), 5 ))"
   ]
  },
  {
   "cell_type": "code",
   "execution_count": null,
   "id": "26a09b7d",
   "metadata": {},
   "outputs": [],
   "source": [
    "# 2. \n",
    "np.arange(0, 21, 2)"
   ]
  },
  {
   "cell_type": "code",
   "execution_count": null,
   "id": "690fce74",
   "metadata": {},
   "outputs": [],
   "source": [
    "# 3. \n",
    "np.random.rand(2,3)"
   ]
  },
  {
   "cell_type": "code",
   "execution_count": null,
   "id": "09be11ea",
   "metadata": {},
   "outputs": [],
   "source": [
    "# 4. \n",
    "from numpy.random import default_rng\n",
    "rng = default_rng()\n",
    "print(rng.normal(100,20,6))"
   ]
  },
  {
   "cell_type": "code",
   "execution_count": null,
   "id": "f84269c0",
   "metadata": {},
   "outputs": [],
   "source": [
    "# 5.\n",
    "np.arange(1, 21).reshape((4,5))"
   ]
  },
  {
   "cell_type": "code",
   "execution_count": null,
   "id": "746cc0ce",
   "metadata": {},
   "outputs": [],
   "source": [
    "# 6. \n",
    "np.linspace(0, 1, 12).reshape((3,4))"
   ]
  },
  {
   "cell_type": "code",
   "execution_count": null,
   "id": "df930c4f",
   "metadata": {},
   "outputs": [],
   "source": [
    "# 7.\n",
    "np.random.seed(42)\n",
    "a = np.random.randint(0, 100, (10, 10))\n",
    "b = np.eye(10, 10)\n",
    "\n",
    "print(a)\n",
    "print(a + b)"
   ]
  },
  {
   "cell_type": "code",
   "execution_count": null,
   "id": "603d9440",
   "metadata": {},
   "outputs": [],
   "source": [
    "# 8.\n",
    "np.random.randint(0, 10, (2, 3, 4))"
   ]
  }
 ],
 "metadata": {
  "kernelspec": {
   "display_name": "python-libraries",
   "language": "python",
   "name": "python3"
  },
  "language_info": {
   "codemirror_mode": {
    "name": "ipython",
    "version": 3
   },
   "file_extension": ".py",
   "mimetype": "text/x-python",
   "name": "python",
   "nbconvert_exporter": "python",
   "pygments_lexer": "ipython3",
   "version": "3.13.5"
  }
 },
 "nbformat": 4,
 "nbformat_minor": 5
}
