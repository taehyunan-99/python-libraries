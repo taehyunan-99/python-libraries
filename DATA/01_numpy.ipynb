{
 "cells": [
  {
   "cell_type": "markdown",
   "id": "76732782",
   "metadata": {},
   "source": [
    "## 01. NumPy\n",
    "- 다차원 배열을 쉽고 효율적으로 사용할 수 있도록 지원하는 파이썬 라이브러리\n",
    "- 데이터 분석 라이브러리의 근본"
   ]
  },
  {
   "cell_type": "markdown",
   "id": "b2d2b02c",
   "metadata": {},
   "source": [
    "### 1-1 ndarray\n",
    "- NumPy의 핵심 데이터 구조\n",
    "- 동일한 자료형의 다차원 배열"
   ]
  },
  {
   "cell_type": "code",
   "execution_count": 2,
   "id": "ff50225a",
   "metadata": {},
   "outputs": [],
   "source": [
    "import numpy as np"
   ]
  },
  {
   "cell_type": "code",
   "execution_count": null,
   "id": "69ed0e62",
   "metadata": {},
   "outputs": [],
   "source": [
    "# ndarray 생성\n",
    "a = np.array([[1,2,4], [4,5,6]])\n",
    "b = np.array([1.0,2.3,3.14])\n",
    "\n",
    "# 배열의 구조\n",
    "print(f\"배열의 구조 : {a.shape}\")\n",
    "# 배열의 구조 : (2, 3)\n",
    "\n",
    "# 배열의 차원 수\n",
    "print(f\"배열의 차원 : {a.ndim}\")\n",
    "# 배열의 차원 : 2\n",
    "\n",
    "# 데이터 타입\n",
    "print(f\"배열의 데이터 타입 : {a.dtype}\")\n",
    "print(f\"배열의 데이터 타입 : {b.dtype}\") \n",
    "# 배열의 데이터 타입 : int64 / 정수가 표현할 수 있는 용량 = 64 비트\n",
    "# 배열의 데이터 타입 : float64 / 실수가 표현할 수 있는 용량 = 64 비트\n",
    "\n",
    "# 형변환\n",
    "new_a = a.astype(np.float64) \n",
    "print(f\"배열의 데이터 타입 : {new_a.dtype}\")\n",
    "# 배열의 데이터 타입 : float64"
   ]
  },
  {
   "cell_type": "code",
   "execution_count": null,
   "id": "1fddb38e",
   "metadata": {},
   "outputs": [],
   "source": [
    "# 3차원 행열\n",
    "\n",
    "a = np.array([[[1,2,4], [4,5,6]], [[1,2,4], [4,5,6]]])\n",
    "\n",
    "print(f\"배열의 구조 : {a.shape}\")\n",
    "print(f\"배열의 차원 : {a.ndim}\")\n",
    "# 배열의 구조 : (2, 2, 3)\n",
    "# 배열의 차원 : 3"
   ]
  },
  {
   "cell_type": "code",
   "execution_count": null,
   "id": "35e43ef5",
   "metadata": {},
   "outputs": [],
   "source": [
    "# 4차원 행열\n",
    "\n",
    "a = np.array([[[[1,2,4], [4,5,6]], [[1,2,4], [4,5,6]]], [[[1,2,4], [4,5,6]], [[1,2,4], [4,5,6]]]])\n",
    "\n",
    "print(f\"배열의 구조 : {a.shape}\")\n",
    "print(f\"배열의 차원 : {a.ndim}\")\n",
    "# 배열의 구조 : (2, 2, 2, 3)\n",
    "# 배열의 차원 : 4"
   ]
  },
  {
   "cell_type": "code",
   "execution_count": null,
   "id": "ba7f3a26",
   "metadata": {},
   "outputs": [],
   "source": [
    "# 만들 수 없는 배열\n",
    "\n",
    "# 내부 배열의 구조가 같아야 함\n",
    "a = np.array([[1], [2,3]]) # ValueError "
   ]
  },
  {
   "cell_type": "markdown",
   "id": "230b8bb3",
   "metadata": {},
   "source": [
    "### 1-2 배열 초기화"
   ]
  },
  {
   "cell_type": "code",
   "execution_count": null,
   "id": "42f79466",
   "metadata": {},
   "outputs": [],
   "source": [
    "# 모든 요소가 0인 배열 생성\n",
    "\n",
    "np.zeros((3, 4)) # 2차원\n",
    "# array([[0., 0., 0., 0.],\n",
    "#        [0., 0., 0., 0.],\n",
    "#        [0., 0., 0., 0.]])\n",
    "\n",
    "np.zeros((2, 3, 4), dtype=np.int64) # 3차원 / 데이터 타입 지정 가능\n",
    "# array([[[0, 0, 0, 0],\n",
    "#         [0, 0, 0, 0],\n",
    "#         [0, 0, 0, 0]],\n",
    "\n",
    "#        [[0, 0, 0, 0],\n",
    "#         [0, 0, 0, 0],\n",
    "#         [0, 0, 0, 0]]])"
   ]
  },
  {
   "cell_type": "code",
   "execution_count": null,
   "id": "7ad3187d",
   "metadata": {},
   "outputs": [],
   "source": [
    "# 모든 요소가 1인 배열 생성\n",
    "\n",
    "np.ones((5,6))\n",
    "# array([[1., 1., 1., 1., 1., 1.],\n",
    "#        [1., 1., 1., 1., 1., 1.],\n",
    "#        [1., 1., 1., 1., 1., 1.],\n",
    "#        [1., 1., 1., 1., 1., 1.],\n",
    "#        [1., 1., 1., 1., 1., 1.]])"
   ]
  },
  {
   "cell_type": "code",
   "execution_count": null,
   "id": "6ac7c5be",
   "metadata": {},
   "outputs": [],
   "source": [
    "# (원소의 값이) 초기화 되지 않은 배열 생성\n",
    "\n",
    "np.empty((2,3)) # 쓰레기 값 = 메모리에 남아있던 값\n",
    "# array([[4.9e-324, 9.9e-324, 2.0e-323],\n",
    "#        [2.0e-323, 2.5e-323, 3.0e-323]])"
   ]
  },
  {
   "cell_type": "code",
   "execution_count": null,
   "id": "3df5e206",
   "metadata": {},
   "outputs": [],
   "source": [
    "# 주어진 값으로 채운 배열\n",
    "\n",
    "np.full((3,3), 7)\n",
    "# array([[7, 7, 7],\n",
    "#        [7, 7, 7],\n",
    "#        [7, 7, 7]])"
   ]
  },
  {
   "cell_type": "code",
   "execution_count": null,
   "id": "ceafc345",
   "metadata": {},
   "outputs": [],
   "source": [
    "# 단위 행렬 : 행렬의 곱에서 자기 자신이 만들어지는 행렬\n",
    "\n",
    "np.eye(3,3)\n",
    "# array([[1., 0., 0.],\n",
    "#        [0., 1., 0.],\n",
    "#        [0., 0., 1.]])\n",
    "\n",
    "np.eye(3,5,1) # 3번째 인자를 입력하면 1이 오른쪽으로 이동\n",
    "# array([[0., 1., 0., 0., 0.],\n",
    "#        [0., 0., 1., 0., 0.],\n",
    "#        [0., 0., 0., 1., 0.]])"
   ]
  },
  {
   "cell_type": "markdown",
   "id": "678088d4",
   "metadata": {},
   "source": [
    "### 1-3 범위 기반 배열 생성"
   ]
  },
  {
   "cell_type": "code",
   "execution_count": null,
   "id": "80e83d60",
   "metadata": {},
   "outputs": [],
   "source": [
    "# arange : range() 와 유사한 기능을 제공\n",
    "# 시작 이상 끝 미만의 정수 배열을 지정한 간격으로 생성\n",
    "\n",
    "np.arange(0, 10)\n",
    "# array([0, 1, 2, 3, 4, 5, 6, 7, 8, 9])\n",
    "np.arange(0, 10, 2)\n",
    "# array([0, 2, 4, 6, 8])"
   ]
  },
  {
   "cell_type": "code",
   "execution_count": null,
   "id": "c15f555c",
   "metadata": {},
   "outputs": [],
   "source": [
    "# linspace : 시작~끝까지 균일 간격으로 지정한 개수만큼 숫자를 생성\n",
    "# 끝을 포함\n",
    "\n",
    "np.linspace(10, 100, 10)\n",
    "# array([ 10.,  20.,  30.,  40.,  50.,  60.,  70.,  80.,  90., 100.])\n",
    "\n",
    "np.linspace(0.1, 1, 10)\n",
    "# array([0.1, 0.2, 0.3, 0.4, 0.5, 0.6, 0.7, 0.8, 0.9, 1. ])"
   ]
  },
  {
   "cell_type": "code",
   "execution_count": null,
   "id": "9dd166d4",
   "metadata": {},
   "outputs": [],
   "source": [
    "# reshape : 배열의 구조를 재배치\n",
    "\n",
    "np.linspace(1, 10, 6).reshape((2,3))\n",
    "# array([[ 1. ,  2.8,  4.6],\n",
    "#        [ 6.4,  8.2, 10. ]])\n",
    "\n",
    "# 원소의 개수가 같아야 함\n",
    "np.linspace(1, 10, 10).reshape((2,3)) # ValueError  "
   ]
  },
  {
   "cell_type": "markdown",
   "id": "7772cc3b",
   "metadata": {},
   "source": [
    "### 1-4 랜덤 배열 생성"
   ]
  },
  {
   "cell_type": "code",
   "execution_count": null,
   "id": "cdaa1b04",
   "metadata": {},
   "outputs": [],
   "source": [
    "# random.rand(m, n) : 0~1 사이의 난수로 초기화\n",
    "\n",
    "np.random.rand(2,3)\n",
    "# array([[0.72780303, 0.82995047, 0.38476608],\n",
    "#        [0.84412908, 0.29035368, 0.5260673 ]])"
   ]
  },
  {
   "cell_type": "code",
   "execution_count": null,
   "id": "8febaa92",
   "metadata": {},
   "outputs": [],
   "source": [
    "# random.randn(m, n) : 표준정규분포를 따르는 난수로 초기화\n",
    "# 표준정규분포 : 평균 : 0, 분산 : 1인 정규분포\n",
    "\n",
    "np.random.randn(2,2,3)\n",
    "# array([[[ 1.23783806,  1.0700067 ,  1.01619099],\n",
    "#         [-1.26835453, -0.49229975,  1.59009656]],\n",
    "\n",
    "#        [[ 1.84248661, -0.25435332, -1.44099114],\n",
    "#         [ 0.00508073, -0.55274915, -0.24587321]]])\n",
    "\n",
    "# random.normal(평균, 분산, (사이즈))\n",
    "# 정규 분포\n",
    "np.random.normal(10, 20, (2,4))\n",
    "# array([[ 31.3501789 ,  17.28820375,  14.50562041,   0.84559278],\n",
    "#        [ -1.18526527, -27.49522524,   8.04457321,  15.6071304 ]])"
   ]
  },
  {
   "cell_type": "code",
   "execution_count": null,
   "id": "846a278d",
   "metadata": {},
   "outputs": [],
   "source": [
    "# random.randint(low, high, (size)) : 정수 배열 생성\n",
    "\n",
    "np.random.randint(0, 101, (3, 3))\n",
    "# array([[36, 76, 50],\n",
    "#        [32, 83, 34],\n",
    "#        [33, 61,  3]])"
   ]
  },
  {
   "cell_type": "code",
   "execution_count": null,
   "id": "ed575d19",
   "metadata": {},
   "outputs": [],
   "source": [
    "# random.seed() : 랜덤 난수의 초기화 값을 고정\n",
    "\n",
    "np.random.seed(42)\n",
    "\n",
    "print(np.random.rand(2,3))\n",
    "\n",
    "print(np.random.randn(2,2))\n",
    "\n",
    "print(np.random.randint(0, 101, (3, 3)))\n",
    "# [[0.37454012 0.95071431 0.73199394]\n",
    "#  [0.59865848 0.15601864 0.15599452]]\n",
    "\n",
    "# [[ 1.57921282  0.76743473]\n",
    "#  [-0.46947439  0.54256004]]\n",
    "\n",
    "# [[63 59 20]\n",
    "#  [32 75 57]\n",
    "#  [21 88 48]]"
   ]
  },
  {
   "cell_type": "code",
   "execution_count": null,
   "id": "d05c1f96",
   "metadata": {},
   "outputs": [],
   "source": [
    "# RNG(Random Number Generator)\n",
    "# 최근 파이썬 사용에서 권장되는 방식\n",
    "\n",
    "from numpy.random import default_rng\n",
    "rng = default_rng(seed=42)\n",
    "rng2 = default_rng(seed=10) # 시드값 변경으로 독립적으로 시드 사용 가능\n",
    "rng3 = default_rng() # 시드 사용 안해도 가능\n",
    "\n",
    "# 0~1 사이의 난수\n",
    "print(rng.random((2,3)))\n",
    "# [[0.77395605 0.43887844 0.85859792]\n",
    "#  [0.69736803 0.09417735 0.97562235]]\n",
    "\n",
    "# 정규 분포\n",
    "print(rng.normal(0, 1, (2,3)))\n",
    "# [[ 0.1278404  -0.31624259 -0.01680116]\n",
    "#  [-0.85304393  0.87939797  0.77779194]]\n",
    "\n",
    "# 정수 난수\n",
    "print(rng.integers(0, 100, (3,3)))\n",
    "# [[78 64 40]\n",
    "#  [82 54 44]\n",
    "#  [45 22  9]]\n",
    "\n",
    "# 균등 분포\n",
    "print(rng.uniform(0, 100, (3,2)))\n",
    "# [[ 6.38172561 82.7631172 ]\n",
    "#  [63.16643991 75.80877401]\n",
    "#  [35.45259681 97.06980244]]"
   ]
  },
  {
   "cell_type": "code",
   "execution_count": null,
   "id": "cc252836",
   "metadata": {},
   "outputs": [],
   "source": [
    "# 실습 1. 배열 초기화 및 생성\n",
    "\n",
    "# 1. \n",
    "print(np.zeros((3,4)))\n",
    "\n",
    "print(np.full((3,4), 5 ))"
   ]
  },
  {
   "cell_type": "code",
   "execution_count": null,
   "id": "26a09b7d",
   "metadata": {},
   "outputs": [],
   "source": [
    "# 2. \n",
    "np.arange(0, 21, 2)"
   ]
  },
  {
   "cell_type": "code",
   "execution_count": null,
   "id": "690fce74",
   "metadata": {},
   "outputs": [],
   "source": [
    "# 3. \n",
    "np.random.rand(2,3)"
   ]
  },
  {
   "cell_type": "code",
   "execution_count": null,
   "id": "09be11ea",
   "metadata": {},
   "outputs": [],
   "source": [
    "# 4. \n",
    "from numpy.random import default_rng\n",
    "rng = default_rng()\n",
    "print(rng.normal(100,20,6))"
   ]
  },
  {
   "cell_type": "code",
   "execution_count": null,
   "id": "f84269c0",
   "metadata": {},
   "outputs": [],
   "source": [
    "# 5.\n",
    "np.arange(1, 21).reshape((4,5))"
   ]
  },
  {
   "cell_type": "code",
   "execution_count": null,
   "id": "746cc0ce",
   "metadata": {},
   "outputs": [],
   "source": [
    "# 6. \n",
    "np.linspace(0, 1, 12).reshape((3,4))"
   ]
  },
  {
   "cell_type": "code",
   "execution_count": null,
   "id": "df930c4f",
   "metadata": {},
   "outputs": [],
   "source": [
    "# 7.\n",
    "np.random.seed(42)\n",
    "a = np.random.randint(0, 100, (10, 10))\n",
    "b = np.eye(10, 10)\n",
    "\n",
    "print(a)\n",
    "print(a + b)"
   ]
  },
  {
   "cell_type": "code",
   "execution_count": null,
   "id": "603d9440",
   "metadata": {},
   "outputs": [],
   "source": [
    "# 8.\n",
    "np.random.randint(0, 10, (2, 3, 4))"
   ]
  },
  {
   "cell_type": "markdown",
   "id": "9aad78ca",
   "metadata": {},
   "source": [
    "### 1-5 인덱싱과 슬라이싱\n",
    "- 다차원 배열을 다루는 편의 기능 제공\n",
    "- Python의 시퀀스보다 빠름"
   ]
  },
  {
   "cell_type": "code",
   "execution_count": null,
   "id": "974c8e01",
   "metadata": {},
   "outputs": [],
   "source": [
    "# 인덱싱\n",
    "\n",
    "a = np.array([1,2,3,4,5])\n",
    "print(a[1]) # 2\n",
    "print(a[-1]) # 5"
   ]
  },
  {
   "cell_type": "code",
   "execution_count": null,
   "id": "04734f07",
   "metadata": {},
   "outputs": [],
   "source": [
    "# 다차원 인덱싱\n",
    "\n",
    "# 파이썬 리스트\n",
    "matrix = [[1,2,3], [4,5,6]]\n",
    "print(\"파이썬 인덱싱 :\", matrix[1][1])\n",
    "# 파이썬 인덱싱 : 5\n",
    "\n",
    "# NumPy 배열\n",
    "a2 = np.array([[1,2,3], [4,5,6]])\n",
    "print(\"넘파이 인덱싱 :\", a2[1, 1])\n",
    "# 넘파이 인덱싱 : 5"
   ]
  },
  {
   "cell_type": "code",
   "execution_count": null,
   "id": "6da30770",
   "metadata": {},
   "outputs": [],
   "source": [
    "# 3차원 배열 인덱싱\n",
    "\n",
    "a3 = np.arange(24).reshape(2,3,4)\n",
    "print(a3)\n",
    "# [[[ 0  1  2  3]\n",
    "#   [ 4  5  6  7]\n",
    "#   [ 8  9 10 11]]\n",
    "\n",
    "#  [[12 13 14 15]\n",
    "#   [16 17 18 19]\n",
    "#   [20 21 22 23]]]\n",
    "\n",
    "print(\"17 확인\", a3[1,1,1])\n",
    "print(\"11 확인\", a3[0,2,3])\n",
    "# 17 확인 17\n",
    "# 11 확인 11"
   ]
  },
  {
   "cell_type": "code",
   "execution_count": null,
   "id": "0b00ca9d",
   "metadata": {},
   "outputs": [],
   "source": [
    "# 슬라이싱\n",
    "# 2차원 슬라이스 = arr[행 슬라이스, 열 슬라이스]\n",
    "# 다차원 슬라이스 = arr[3차원 슬라이스, 2차원 슬라이스, 1차원 슬라이스]\n",
    "\n",
    "a1 = np.array([1,2,3,4,5])\n",
    "\n",
    "print(a1[1:3]) # [2 3]\n",
    "print(a1[2:]) # [3 4 5]\n",
    "print(a1[:2]) # [1 2]\n",
    "print(a1[::2]) # [1 3 5]\n",
    "print(a1[::-1]) # [5 4 3 2 1]"
   ]
  },
  {
   "cell_type": "code",
   "execution_count": null,
   "id": "a50b093d",
   "metadata": {},
   "outputs": [],
   "source": [
    "# 파이썬 리스트와의 차이\n",
    "\n",
    "# 파이썬 리스트\n",
    "py_list = [1,2,3,4,5]\n",
    "sliced = py_list[1:4]\n",
    "sliced[1] = 100\n",
    "print(\"py원본\", py_list) # py원본 [1, 2, 3, 4, 5]\n",
    "print(\"py슬라이싱\", sliced) # py슬라이싱 [2, 100, 4]\n",
    "\n",
    "# NumPy 배열\n",
    "a1 = np.array([1,2,3,4,5])\n",
    "a1_sliced = a1[1:4]\n",
    "a1_sliced[1] = 100\n",
    "print(\"numpy원본\", a1) # numpy원본 [  1   2 100   4   5]\n",
    "print(\"numpy슬라이싱\", a1_sliced) # umpy슬라이싱 [  2 100   4]"
   ]
  },
  {
   "cell_type": "code",
   "execution_count": null,
   "id": "94a889cc",
   "metadata": {},
   "outputs": [],
   "source": [
    "# 2차원 배열 슬라이싱\n",
    "\n",
    "a2 = np.arange(1, 21).reshape(4,5)\n",
    "print(a2)\n",
    "# [[ 1  2  3  4  5]\n",
    "#  [ 6  7  8  9 10]\n",
    "#  [11 12 13 14 15]\n",
    "#  [16 17 18 19 20]]\n",
    "\n",
    "# 행 슬라이싱 = 2차원 슬라이싱\n",
    "print(a2[0, :])\n",
    "# [1 2 3 4 5]\n",
    "print(a2[1])\n",
    "# [ 6  7  8  9 10]\n",
    "print(a2[1:3])\n",
    "# [[ 6  7  8  9 10]\n",
    "#  [11 12 13 14 15]]\n",
    "print(a2[2:])\n",
    "# [[11 12 13 14 15]\n",
    "#  [16 17 18 19 20]]\n",
    "\n",
    "# 열 슬라이싱 = 1차원 슬라이싱\n",
    "print(a2[:, 2])\n",
    "# [ 3  8 13 18]\n",
    "print(a2[:, -1])\n",
    "# [ 5 10 15 20]\n",
    "print(a2[:, 1:3])\n",
    "# [[ 2  3]\n",
    "#  [ 7  8]\n",
    "#  [12 13]\n",
    "#  [17 18]]\n",
    "\n",
    "# 행과 열 슬라이싱\n",
    "print(a2[1:3, 2:4])\n",
    "# [[ 8  9]\n",
    "#  [13 14]]\n",
    "print(a2[2:, 3:])\n",
    "# [[14 15]\n",
    "#  [19 20]]\n",
    "print(a2[::2, ::2])\n",
    "# [[ 1  3  5]\n",
    "#  [11 13 15]]"
   ]
  },
  {
   "cell_type": "code",
   "execution_count": null,
   "id": "9019d3f7",
   "metadata": {},
   "outputs": [],
   "source": [
    "# 3차원 슬라이싱\n",
    "\n",
    "a3 = np.arange(36).reshape(3,3,4)\n",
    "print(a3)\n",
    "# [[[ 0  1  2  3]\n",
    "#   [ 4  5  6  7]\n",
    "#   [ 8  9 10 11]]\n",
    "\n",
    "#  [[12 13 14 15]\n",
    "#   [16 17 18 19]\n",
    "#   [20 21 22 23]]\n",
    "\n",
    "#  [[24 25 26 27]\n",
    "#   [28 29 30 31]\n",
    "#   [32 33 34 35]]]\n",
    "\n",
    "print(a3[1, 1, 1:3])\n",
    "# [17 18]"
   ]
  },
  {
   "cell_type": "code",
   "execution_count": null,
   "id": "ef1ce70d",
   "metadata": {},
   "outputs": [],
   "source": [
    "# 앝은 복사 : 복사본이 원본과 메모리를 공유 -> 변경사항이 서로에게 영향을 줌\n",
    "a1 = np.array([1,2,3])\n",
    "a1_copied = a1.view()\n",
    "a1_copied[1] = 10\n",
    "print(\"원본\", a1) # 원본 [ 1 10  3]\n",
    "print(\"복사본\", a1_copied) # 복사본 [ 1 10  3]\n",
    "\n",
    "# 깊은 복사 : 복사본이 원본과 독립적으로 복사됨 -> 서로 영향을 주지 않음\n",
    "a2 = np.array([1,2,3])\n",
    "a2_copied = a2.copy()\n",
    "a2_copied[1] = 10\n",
    "print(\"원본\", a2) # 원본 [ 1 2  3]\n",
    "print(\"복사본\", a2_copied) # 복사본 [ 1 10  3]"
   ]
  },
  {
   "cell_type": "code",
   "execution_count": null,
   "id": "b7e35b2a",
   "metadata": {},
   "outputs": [],
   "source": [
    "# Fancy Indexing\n",
    "# 정수 배열을 사용하여 여러 인덱스로 여러 요소를 한번에 선택\n",
    "\n",
    "af = np.arange(1,21)\n",
    "print(af)\n",
    "# [ 1  2  3  4  5  6  7  8  9 10 11 12 13 14 15 16 17 18 19 20]\n",
    "\n",
    "print(af[[4,7,11]])\n",
    "# [ 5  8 12]\n",
    "\n",
    "# 2차원 배열에서의 Fancy Indexing\n",
    "af2 = np.arange(1, 21).reshape(4,5)\n",
    "print(af2)\n",
    "# [[ 1  2  3  4  5]\n",
    "#  [ 6  7  8  9 10]\n",
    "#  [11 12 13 14 15]\n",
    "#  [16 17 18 19 20]]\n",
    "\n",
    "print(af2[[1,3],[2,4]])\n",
    "# [ 8 20]"
   ]
  },
  {
   "cell_type": "code",
   "execution_count": null,
   "id": "88d72d7b",
   "metadata": {},
   "outputs": [],
   "source": [
    "# Boolean indexing\n",
    "\n",
    "ab = np.linspace(10,100,10)\n",
    "print(ab)\n",
    "# [ 10.  20.  30.  40.  50.  60.  70.  80.  90. 100.]\n",
    "print(ab[ab > 40])\n",
    "# [ 50.  60.  70.  80.  90. 100.]\n",
    "\n",
    "# Boolean Masking\n",
    "ab2 = np.arange(0,21)\n",
    "print(ab2)\n",
    "# [ 0  1  2  3  4  5  6  7  8  9 10 11 12 13 14 15 16 17 18 19 20]\n",
    "mask = ab2 % 2 == 0\n",
    "print(mask)\n",
    "# [ True False  True False  True False  True False  True False  True False\n",
    "#   True False  True False  True False  True False  True]\n",
    "print(ab2[mask])\n",
    "# [ 0  2  4  6  8 10 12 14 16 18 20] "
   ]
  },
  {
   "cell_type": "code",
   "execution_count": null,
   "id": "68051e6b",
   "metadata": {},
   "outputs": [],
   "source": [
    "# 실습 2. 인덱싱과 슬라이싱\n",
    "\n",
    "# 1. \n",
    "arr = np.arange(10, 30, 2)\n",
    "print(arr, \"\\n\")\n",
    "print(arr[[1,3,5]])"
   ]
  },
  {
   "cell_type": "code",
   "execution_count": null,
   "id": "7aa43a53",
   "metadata": {},
   "outputs": [],
   "source": [
    "# 2. \n",
    "arr = np.arange(1, 10).reshape(3, 3)\n",
    "print(arr, \"\\n\")\n",
    "print(arr[[0,1,2],[0,1,2]])"
   ]
  },
  {
   "cell_type": "code",
   "execution_count": null,
   "id": "b8811702",
   "metadata": {},
   "outputs": [],
   "source": [
    "# 3.\n",
    "arr = np.arange(1, 13).reshape(3, 4)\n",
    "print(arr, \"\\n\")\n",
    "arr[:,3] = -1\n",
    "print(arr, \"\\n\")"
   ]
  },
  {
   "cell_type": "code",
   "execution_count": null,
   "id": "9d38ddad",
   "metadata": {},
   "outputs": [],
   "source": [
    "# 4.\n",
    "arr = np.arange(1, 17).reshape(4, 4)\n",
    "print(arr, \"\\n\")\n",
    "print(\"행 역순 :\\n\", arr[::-1,:])\n",
    "print(\"열 역순 :\\n\", arr[:,::-1])"
   ]
  },
  {
   "cell_type": "code",
   "execution_count": null,
   "id": "65646993",
   "metadata": {},
   "outputs": [],
   "source": [
    "# 5.\n",
    "arr = np.arange(1, 21).reshape(4, 5)\n",
    "print(arr, \"\\n\")\n",
    "new_arr = arr[1:3,1:4].copy()\n",
    "print(new_arr)"
   ]
  },
  {
   "cell_type": "code",
   "execution_count": null,
   "id": "42a1ce88",
   "metadata": {},
   "outputs": [],
   "source": [
    "# 6.\n",
    "arr = np.array([[ 4, 9, 12, 7], [10, 15, 18, 3], [ 2, 14, 6, 20]])\n",
    "print(arr, \"\\n\")\n",
    "mask = (arr % 2 == 0) & (arr >= 10)\n",
    "print(arr[mask])"
   ]
  },
  {
   "cell_type": "code",
   "execution_count": null,
   "id": "f331067e",
   "metadata": {},
   "outputs": [],
   "source": [
    "# 7.\n",
    "arr = np.arange(1, 26).reshape(5, 5)\n",
    "print(arr, \"\\n\")\n",
    "new_arr = arr[[1,3]]\n",
    "print(new_arr[:, [4,0,2]])\n",
    "# [[ 1  2  3  4  5]\n",
    "#  [ 6  7  8  9 10]\n",
    "#  [11 12 13 14 15]\n",
    "#  [16 17 18 19 20]\n",
    "#  [21 22 23 24 25]] \n",
    "\n",
    "# [[10  6  8]\n",
    "#  [20 16 18]]"
   ]
  },
  {
   "cell_type": "code",
   "execution_count": null,
   "id": "36806739",
   "metadata": {},
   "outputs": [],
   "source": [
    "# 8.\n",
    "arr = np.array([[10, 20, 30], [55, 65, 75], [40, 45, 50], [70, 80, 90], [15, 25, 35]])\n",
    "print(arr, \"\\n\")\n",
    "print(arr[arr[:,0] >= 50])"
   ]
  },
  {
   "cell_type": "code",
   "execution_count": null,
   "id": "af9b3ce7",
   "metadata": {},
   "outputs": [],
   "source": [
    "# 9.\n",
    "arr = np.arange(1, 17).reshape(4, 4)\n",
    "print(arr, \"\\n\")\n",
    "print(arr[[0,1,2,3],[1,3,0,2]])"
   ]
  },
  {
   "cell_type": "code",
   "execution_count": null,
   "id": "0babcf1d",
   "metadata": {},
   "outputs": [],
   "source": [
    "# 10.\n",
    "arr3d = np.arange(24).reshape(2, 3, 4)\n",
    "print(arr3d, \"\\n\")\n",
    "arr2d = arr3d[:, :, 1].copy()\n",
    "print(arr2d)"
   ]
  },
  {
   "cell_type": "code",
   "execution_count": 142,
   "id": "32d4e7a4",
   "metadata": {},
   "outputs": [
    {
     "name": "stdout",
     "output_type": "stream",
     "text": [
      "가운데 행 : [10 11 12 13 14]\n",
      "가운데 열 : [ 2  7 12 17 22]\n"
     ]
    }
   ],
   "source": [
    "# 실습 3. NumPy 종합 연습\n",
    "# 1. \n",
    "a1 = np.arange(25).reshape(5,5)\n",
    "print(\"가운데 행 :\", a1[2])\n",
    "print(\"가운데 열 :\", a1[:,2])"
   ]
  },
  {
   "cell_type": "code",
   "execution_count": 171,
   "id": "8559bfe4",
   "metadata": {},
   "outputs": [
    {
     "name": "stdout",
     "output_type": "stream",
     "text": [
      "[[85 25 18 43 28 98 70 17 41 10]\n",
      " [89 89 54 84 48 97  7  7  9 45]\n",
      " [48  7 99 19 39 85 45 66 40 81]\n",
      " [22 40 96 98 96 56 43 48 65 62]\n",
      " [ 7 18 68 64 88 37 92 44 56 76]\n",
      " [72 46  3 98 97 74 76 52 71 31]\n",
      " [41 53 59  2 57 98 20 13 98 66]\n",
      " [43 99 47 53  2 89 11 17 47  9]\n",
      " [77 84 73 52 24 50 47 86 61 37]\n",
      " [96 21  2 13 29 23 16 27 11 17]] \n",
      "\n",
      "짝수 인덱스 행\n",
      " [[85 25 18 43 28 98 70 17 41 10]\n",
      " [48  7 99 19 39 85 45 66 40 81]\n",
      " [ 7 18 68 64 88 37 92 44 56 76]\n",
      " [41 53 59  2 57 98 20 13 98 66]\n",
      " [77 84 73 52 24 50 47 86 61 37]]\n"
     ]
    }
   ],
   "source": [
    "# 2.\n",
    "a2 = np.random.randint(0,100,(10,10))\n",
    "print(a2, \"\\n\")\n",
    "print(\"짝수 인덱스 행\\n\", a2[::2])"
   ]
  },
  {
   "cell_type": "code",
   "execution_count": 148,
   "id": "f07e00a0",
   "metadata": {},
   "outputs": [
    {
     "name": "stdout",
     "output_type": "stream",
     "text": [
      "[[ 0  1  2  3  4  5  6  7  8  9]\n",
      " [10 11 12 13 14 15 16 17 18 19]\n",
      " [20 21 22 23 24 25 26 27 28 29]\n",
      " [30 31 32 33 34 35 36 37 38 39]\n",
      " [40 41 42 43 44 45 46 47 48 49]] \n",
      "\n",
      "[[12 13 14 15 16 17]\n",
      " [22 23 24 25 26 27]\n",
      " [32 33 34 35 36 37]]\n"
     ]
    }
   ],
   "source": [
    "# 3.\n",
    "a3 = np.arange(50).reshape(5,10)\n",
    "print(a3, \"\\n\")\n",
    "print(a3[1:4, 2:8])"
   ]
  },
  {
   "cell_type": "code",
   "execution_count": null,
   "id": "9e7cbdec",
   "metadata": {},
   "outputs": [
    {
     "name": "stdout",
     "output_type": "stream",
     "text": [
      "[[1 6 0 1]\n",
      " [1 6 7 1]\n",
      " [3 1 4 2]\n",
      " [4 4 5 9]] \n",
      "\n",
      "[np.int64(1), np.int64(6), np.int64(4), np.int64(9)]\n",
      "[]\n"
     ]
    }
   ],
   "source": [
    "# 4.\n",
    "a4 = np.random.randint(0,10,(4,4))\n",
    "print(a4, \"\\n\")\n",
    "new_a4 = []\n",
    "sub_a4 = []\n",
    "\n",
    "for i in range(len(a4)):\n",
    "    new_a4.append(a4[i, i])\n",
    "\n",
    "# for i in range(len(a4)):\n",
    "#     new_a4.append(a4[i, i])\n",
    "\n",
    "\n",
    "print(new_a4)\n"
   ]
  },
  {
   "cell_type": "code",
   "execution_count": 158,
   "id": "d276c3e5",
   "metadata": {},
   "outputs": [
    {
     "name": "stdout",
     "output_type": "stream",
     "text": [
      "[[[5 2 6 7 4]\n",
      "  [7 4 3 4 7]\n",
      "  [6 5 6 5 0]\n",
      "  [0 8 7 4 6]]\n",
      "\n",
      " [[4 8 6 0 1]\n",
      "  [4 7 1 0 0]\n",
      "  [6 6 9 0 7]\n",
      "  [3 2 1 0 2]]\n",
      "\n",
      " [[5 0 2 7 0]\n",
      "  [3 1 5 9 5]\n",
      "  [2 6 3 8 4]\n",
      "  [8 9 2 2 3]]] \n",
      "\n",
      "1\n"
     ]
    }
   ],
   "source": [
    "# 5.\n",
    "a5 = np.random.randint(0,10,(3,4,5))\n",
    "print(a5, \"\\n\")\n",
    "print(a5[1,0,-1])"
   ]
  },
  {
   "cell_type": "code",
   "execution_count": 3,
   "id": "fe39cd78",
   "metadata": {},
   "outputs": [
    {
     "name": "stdout",
     "output_type": "stream",
     "text": [
      "[[35 36 37 38]\n",
      " [39 40 41 42]\n",
      " [43 44 45 46]\n",
      " [47 48 49 50]\n",
      " [51 52 53 54]\n",
      " [55 56 57 58]\n",
      " [59 60 61 62]\n",
      " [63 64 65 66]\n",
      " [67 68 69 70]\n",
      " [71 72 73 74]]\n"
     ]
    }
   ],
   "source": [
    "# 6.\n",
    "a6 = np.arange(35,75).reshape(10,4)\n",
    "print(a6)"
   ]
  },
  {
   "cell_type": "code",
   "execution_count": 4,
   "id": "1a98321d",
   "metadata": {},
   "outputs": [
    {
     "name": "stdout",
     "output_type": "stream",
     "text": [
      "[[71 72 73 74]\n",
      " [67 68 69 70]\n",
      " [63 64 65 66]\n",
      " [59 60 61 62]\n",
      " [55 56 57 58]\n",
      " [51 52 53 54]\n",
      " [47 48 49 50]\n",
      " [43 44 45 46]\n",
      " [39 40 41 42]\n",
      " [35 36 37 38]]\n"
     ]
    }
   ],
   "source": [
    "# 7.\n",
    "a7 = a6[::-1]\n",
    "print(a7)"
   ]
  },
  {
   "cell_type": "code",
   "execution_count": 162,
   "id": "c1674c03",
   "metadata": {},
   "outputs": [
    {
     "name": "stdout",
     "output_type": "stream",
     "text": [
      "[[41 42]\n",
      " [45 46]\n",
      " [49 50]\n",
      " [53 54]\n",
      " [57 58]\n",
      " [61 62]\n",
      " [65 66]\n",
      " [69 70]]\n"
     ]
    }
   ],
   "source": [
    "# 8.\n",
    "a8 = a6[1:-1, 2:]\n",
    "print(a8)"
   ]
  },
  {
   "cell_type": "code",
   "execution_count": 164,
   "id": "1b8b6759",
   "metadata": {},
   "outputs": [
    {
     "name": "stdout",
     "output_type": "stream",
     "text": [
      "[[38  6 35  9 34 43]\n",
      " [31  9 50 32 25 49]\n",
      " [12 26 14 10 37 43]\n",
      " [44 24  6 31 48 48]\n",
      " [21 39 12  4 10 44]] \n",
      "\n",
      "[38  6 34 50 32 12 26 14 10 44 24  6 48 48 12  4 10 44]\n"
     ]
    }
   ],
   "source": [
    "# 9.\n",
    "a9 = np.random.randint(1,51,(5,6))\n",
    "print(a9, \"\\n\")\n",
    "print(a9[a9 % 2 == 0])"
   ]
  },
  {
   "cell_type": "code",
   "execution_count": 10,
   "id": "22f7b78a",
   "metadata": {},
   "outputs": [
    {
     "name": "stdout",
     "output_type": "stream",
     "text": [
      "[[ 0  1  2  3  4  5  6  7  8  9]\n",
      " [10 11 12 13 14 15 16 17 18 19]\n",
      " [20 21 22 23 24 25 26 27 28 29]\n",
      " [30 31 32 33 34 35 36 37 38 39]\n",
      " [40 41 42 43 44 45 46 47 48 49]\n",
      " [50 51 52 53 54 55 56 57 58 59]\n",
      " [60 61 62 63 64 65 66 67 68 69]\n",
      " [70 71 72 73 74 75 76 77 78 79]\n",
      " [80 81 82 83 84 85 86 87 88 89]\n",
      " [90 91 92 93 94 95 96 97 98 99]] \n",
      "\n",
      "[[12 14 16]\n",
      " [32 34 36]\n",
      " [52 54 56]]\n"
     ]
    }
   ],
   "source": [
    "# 10.\n",
    "arr = np.arange(100).reshape(10,10)\n",
    "print(arr, \"\\n\")\n",
    "# selected_row = arr[[1,3,5]]\n",
    "# print(selected_row)\n",
    "# selected_col = selected_row[:,[2,4,6]]\n",
    "# print(selected_col)\n",
    "\n",
    "a10 = arr[[1,3,5]][:,[2,4,6]]\n",
    "print(a10)\n"
   ]
  },
  {
   "cell_type": "code",
   "execution_count": 19,
   "id": "9bf74aa1",
   "metadata": {},
   "outputs": [
    {
     "name": "stdout",
     "output_type": "stream",
     "text": [
      "[6 8 6 7 3 4 9 8 0 5 3 0 4 2 8] \n",
      "\n",
      "[6 6 3 9 0 3 4 8]\n",
      "[6 6 9 8]\n"
     ]
    }
   ],
   "source": [
    "# 11.\n",
    "arr = np.random.randint(0,10,(15))\n",
    "print(arr, \"\\n\")\n",
    "a11 = arr[::2]\n",
    "print(a11)\n",
    "a11_1 = a11[a11 >= 5]\n",
    "print(a11_1)"
   ]
  }
 ],
 "metadata": {
  "kernelspec": {
   "display_name": "data_analysis",
   "language": "python",
   "name": "python3"
  },
  "language_info": {
   "codemirror_mode": {
    "name": "ipython",
    "version": 3
   },
   "file_extension": ".py",
   "mimetype": "text/x-python",
   "name": "python",
   "nbconvert_exporter": "python",
   "pygments_lexer": "ipython3",
   "version": "3.13.5"
  }
 },
 "nbformat": 4,
 "nbformat_minor": 5
}
