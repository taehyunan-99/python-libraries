{
 "cells": [
  {
   "cell_type": "markdown",
   "id": "c5707c18",
   "metadata": {},
   "source": [
    "## 04. Pandas\n",
    "- 파이썬 기반의 강력하고 사용하기 쉬운 데이터 분석 및 조작 라이브러리"
   ]
  },
  {
   "cell_type": "code",
   "execution_count": 1,
   "id": "df221075",
   "metadata": {},
   "outputs": [
    {
     "name": "stdout",
     "output_type": "stream",
     "text": [
      "2.3.1\n"
     ]
    }
   ],
   "source": [
    "import pandas as pd\n",
    "import numpy as np\n",
    "print(pd.__version__)"
   ]
  },
  {
   "cell_type": "markdown",
   "id": "70007553",
   "metadata": {},
   "source": [
    "### Pandas의 핵심 자료구조\n",
    "- Series\n",
    "- DataFrame"
   ]
  },
  {
   "cell_type": "markdown",
   "id": "190961ea",
   "metadata": {},
   "source": [
    "### Series\n",
    "- 인덱스(라벨)이 붙은 1차원 배열\n",
    "- 인덱스 이름을 직접 지정할 수 있음"
   ]
  },
  {
   "cell_type": "code",
   "execution_count": null,
   "id": "bc4005dd",
   "metadata": {},
   "outputs": [],
   "source": [
    "# 시리즈 생성\n",
    "# 1. 리스트로 생성\n",
    "data = [10,20,30,40]\n",
    "s = pd.Series(data)\n",
    "print(s)\n",
    "# 0    10\n",
    "# 1    20\n",
    "# 2    30\n",
    "# 3    40\n",
    "# dtype: int64"
   ]
  },
  {
   "cell_type": "code",
   "execution_count": null,
   "id": "e3213660",
   "metadata": {},
   "outputs": [],
   "source": [
    "# 2. 인덱스를 직접 지정\n",
    "data = [10,20,30,40]\n",
    "s = pd.Series(data, index=[\"a\", \"b\", \"c\", \"d\"])\n",
    "print(s)\n",
    "# a    10\n",
    "# b    20\n",
    "# c    30\n",
    "# d    40\n",
    "# dtype: int64"
   ]
  },
  {
   "cell_type": "code",
   "execution_count": null,
   "id": "a929e391",
   "metadata": {},
   "outputs": [],
   "source": [
    "# 3. 딕셔너리로 시리즈 생성\n",
    "data = {\"서울\":100, \"부산\":200, \"대구\":300}\n",
    "s = pd.Series(data)\n",
    "print(s)\n",
    "# 서울    100\n",
    "# 부산    200\n",
    "# 대구    300\n",
    "# dtype: int64"
   ]
  },
  {
   "cell_type": "code",
   "execution_count": null,
   "id": "97f19f02",
   "metadata": {},
   "outputs": [],
   "source": [
    "# 4. 하나의 값으로 시리즈 생성\n",
    "s = pd.Series(7, index=[\"가\", \"나\", \"다\"])\n",
    "print(s)\n",
    "# 가    7\n",
    "# 나    7\n",
    "# 다    7\n",
    "# dtype: int64"
   ]
  },
  {
   "cell_type": "code",
   "execution_count": null,
   "id": "fa3ce4fb",
   "metadata": {},
   "outputs": [],
   "source": [
    "# 시리즈의 주요 속성\n",
    "data = [10,20,30,40]\n",
    "s = pd.Series(data, index=[\"a\", \"b\", \"c\", \"d\"])\n",
    "\n",
    "print(\"values :\", s.values) # 실제 데이터 배열\n",
    "# values : [10 20 30 40]\n",
    "print(\"index :\", s.index) # 인덱스 객체\n",
    "# index : Index(['a', 'b', 'c', 'd'], dtype='object')\n",
    "print(\"dtype :\", s.dtype) # 실제 데이터의 타입\n",
    "# dtype : int64\n",
    "print(\"size :\", s.size) # 데이터의 개수\n",
    "# size : 4\n",
    "print(\"shape :\", s.shape) # 데이터 배열의 형태\n",
    "# shape : (4,)\n",
    "print(\"name :\", s.name) # 시리즈의 이름\n",
    "# name : None"
   ]
  },
  {
   "cell_type": "code",
   "execution_count": null,
   "id": "3d2cfae2",
   "metadata": {},
   "outputs": [],
   "source": [
    "# 시리즈의 연산\n",
    "s1 = pd.Series([10,20,30], index=[\"a\", \"b\", \"c\"])\n",
    "s2 = pd.Series([5,6,7], index=[\"b\", \"c\", \"d\"])\n",
    "\n",
    "result = s1 + s2\n",
    "print(result)\n",
    "# a     NaN # Not a Number\n",
    "# b    25.0\n",
    "# c    36.0\n",
    "# d     NaN\n",
    "# dtype: float64"
   ]
  },
  {
   "cell_type": "code",
   "execution_count": null,
   "id": "ba3bcb37",
   "metadata": {},
   "outputs": [],
   "source": [
    "# 정렬되지 않은 인덱스 간 연산\n",
    "# 인덱스 기준으로 연산후 정렬\n",
    "s1 = pd.Series([10,20,30], index=[\"b\", \"a\", \"c\"])\n",
    "s2 = pd.Series([5,6,7], index=[\"c\", \"b\", \"a\"])\n",
    "\n",
    "result = s1 + s2\n",
    "print(result)\n",
    "# a    27\n",
    "# b    16\n",
    "# c    35\n",
    "# dtype: int64"
   ]
  },
  {
   "cell_type": "code",
   "execution_count": null,
   "id": "ae2e12fb",
   "metadata": {},
   "outputs": [],
   "source": [
    "# 브로드캐스팅\n",
    "s = pd.Series([5,10,15], index=[\"a\", \"b\", \"c\"])\n",
    "\n",
    "print(s + 3)\n",
    "# a     8\n",
    "# b    13\n",
    "# c    18\n",
    "# dtype: int64\n",
    "print(s * 2)\n",
    "# a    10\n",
    "# b    20\n",
    "# c    30\n",
    "# dtype: int64"
   ]
  },
  {
   "cell_type": "code",
   "execution_count": null,
   "id": "52aa0560",
   "metadata": {},
   "outputs": [],
   "source": [
    "# boolean 연산 및 인덱싱\n",
    "s = pd.Series([50,60,70,80,90,100], index=[\"a\", \"b\", \"c\", \"d\", \"e\", \"f\"])\n",
    "\n",
    "# boolean 연산(조건식)\n",
    "mask = s > 70\n",
    "print(mask)\n",
    "# a    False\n",
    "# b    False\n",
    "# c    False\n",
    "# d     True\n",
    "# e     True\n",
    "# f     True\n",
    "# dtype: bool\n",
    "print(s[mask])\n",
    "# d     80\n",
    "# e     90\n",
    "# f    100\n",
    "# dtype: int64"
   ]
  },
  {
   "cell_type": "code",
   "execution_count": null,
   "id": "f3ddac4e",
   "metadata": {},
   "outputs": [],
   "source": [
    "# 시리즈와 NumPy 배열 연산 / 파이썬 리스트 연산\n",
    "s = pd.Series([10,20,30], index=[\"a\", \"b\", \"c\"])\n",
    "a = np.array([1,2,3])\n",
    "l = [100,200,300]\n",
    "\n",
    "print(s + a)\n",
    "# a    11\n",
    "# b    22\n",
    "# c    33\n",
    "# dtype: int64\n",
    "print(s + l)\n",
    "# a    110\n",
    "# b    220\n",
    "# c    330\n",
    "# dtype: int64"
   ]
  },
  {
   "cell_type": "code",
   "execution_count": null,
   "id": "fcca2879",
   "metadata": {},
   "outputs": [],
   "source": [
    "# 실습 1. Series 연습\n",
    "# 1.\n",
    "l = [5,10,15,20]\n",
    "s1 = pd.Series(l)\n",
    "print(s1)"
   ]
  },
  {
   "cell_type": "code",
   "execution_count": null,
   "id": "2f4f45de",
   "metadata": {},
   "outputs": [],
   "source": [
    "# 2.\n",
    "s2 = pd.Series([90,80,85,70], index=[\"국어\", \"영어\", \"수학\", \"과학\"])\n",
    "print(s2)"
   ]
  },
  {
   "cell_type": "code",
   "execution_count": null,
   "id": "2f6e6965",
   "metadata": {},
   "outputs": [],
   "source": [
    "# 3.\n",
    "d3 = {\"서울\":950, \"부산\":340, \"인천\":520}\n",
    "s3 = pd.Series(d3)\n",
    "print(s3[\"인천\"])"
   ]
  },
  {
   "cell_type": "code",
   "execution_count": null,
   "id": "c1e6b710",
   "metadata": {},
   "outputs": [],
   "source": [
    "# 4.\n",
    "s4 = pd.Series([1,2,3,4])\n",
    "print(s4.dtype)"
   ]
  },
  {
   "cell_type": "code",
   "execution_count": null,
   "id": "d2706140",
   "metadata": {},
   "outputs": [],
   "source": [
    "# 5.\n",
    "s1 = pd.Series([3, 5, 7], index=['a', 'b', 'c'])\n",
    "s2 = pd.Series([10, 20, 30], index=['b', 'c', 'd'])\n",
    "\n",
    "print(s1 + s2)"
   ]
  },
  {
   "cell_type": "code",
   "execution_count": null,
   "id": "1daf8b0b",
   "metadata": {},
   "outputs": [],
   "source": [
    "# 6.\n",
    "s = pd.Series([1,2,3,4,5])\n",
    "s6 = s + 10\n",
    "print(s6)"
   ]
  },
  {
   "cell_type": "markdown",
   "id": "2af048ba",
   "metadata": {},
   "source": [
    "### DataFrame\n",
    "- 2 차원 라벨 데이터 구조\n",
    "- 시리즈를 모아놓은 것\n",
    "- 행과 열이 있고, 행과 열에 대해 라벨을 부여할 수 있음"
   ]
  },
  {
   "cell_type": "code",
   "execution_count": null,
   "id": "3998adc5",
   "metadata": {},
   "outputs": [],
   "source": [
    "# DataFrame 생성\n",
    "# 1. 딕셔너리로 생성\n",
    "data = {\n",
    "    \"이름\" : [\"name1\", \"name2\", \"name3\"],\n",
    "    \"나이\" : [10, 20, 30],\n",
    "    \"도시\" : [\"city1\", \"city2\", \"city3\"]\n",
    "}\n",
    "\n",
    "df = pd.DataFrame(data)\n",
    "print(df)\n",
    "#     이름\t나이\t도시\n",
    "# 0\tname1\t10\tcity1\n",
    "# 1\tname2\t20\tcity2\n",
    "# 2\tname3\t30\tcity3"
   ]
  },
  {
   "cell_type": "code",
   "execution_count": null,
   "id": "a9dc0d71",
   "metadata": {},
   "outputs": [],
   "source": [
    "# 2. 리스트의 리스트(2 차원 리스트)로 생성\n",
    "# columns= 로 라벨 지정 가능\n",
    "# index= 로 인덱스 지정 가능\n",
    "data = [[1, \"a\"], [2, \"b\"], [3, \"c\"]]\n",
    "df = pd.DataFrame(data, columns=[\"번호\", \"코드\"], index=[\"A\", \"B\", \"C\"])\n",
    "print(df)\n",
    "#    번호 코드\n",
    "# A   1  a\n",
    "# B   2  b\n",
    "# C   3  c"
   ]
  },
  {
   "cell_type": "code",
   "execution_count": null,
   "id": "21819f79",
   "metadata": {},
   "outputs": [],
   "source": [
    "# 3. 딕셔너리의 리스트로 생성\n",
    "data = [\n",
    "    {\"이름\":\"name1\", \"나이\":20, \"도시\":\"city1\"},\n",
    "    {\"이름\":\"name2\", \"나이\":21, \"도시\":\"city2\"},\n",
    "    {\"이름\":\"name3\", \"나이\":25, \"도시\":\"city3\"}\n",
    "]\n",
    "df = pd.DataFrame(data)\n",
    "print(df)\n",
    "#       이름  나이   도시\n",
    "# 0  name1  20  city1\n",
    "# 1  name2  21  city2\n",
    "# 2  name3  25  city3"
   ]
  },
  {
   "cell_type": "code",
   "execution_count": null,
   "id": "84bb335b",
   "metadata": {},
   "outputs": [],
   "source": [
    "# 4. 시리즈의 딕셔너리로 생성\n",
    "s1 = pd.Series([\"국어\", \"수학\", \"영어\"], index=[\"a\", \"b\", \"c\"])\n",
    "s2 = pd.Series([100,90,85], index=[\"a\", \"b\", \"c\"])\n",
    "df = pd.DataFrame({\"과목\":s1, \"점수\":s2})\n",
    "print(df)\n",
    "#    과목   점수\n",
    "# a  국어  100\n",
    "# b  수학   90\n",
    "# c  영어   85"
   ]
  },
  {
   "cell_type": "code",
   "execution_count": null,
   "id": "dc6fdd3e",
   "metadata": {},
   "outputs": [],
   "source": [
    "# 데이터 프레임 기본 속성\n",
    "data = [\n",
    "    {\"이름\":\"name1\", \"나이\":20, \"도시\":\"city1\"},\n",
    "    {\"이름\":\"name2\", \"나이\":21, \"도시\":\"city2\"},\n",
    "    {\"이름\":\"name3\", \"나이\":25, \"도시\":\"city3\"},\n",
    "    {\"이름\":\"name4\", \"나이\":35, \"도시\":\"city4\"},\n",
    "]\n",
    "df = pd.DataFrame(data)\n",
    "\n",
    "print(\"shape\", df.shape)\n",
    "# shape (4, 3)\n",
    "print(\"columns\", df.columns)\n",
    "# columns Index(['이름', '나이', '도시'], dtype='object')\n",
    "print(\"index\", df.index)\n",
    "# index RangeIndex(start=0, stop=4, step=1)\n",
    "print(\"dtypes\", df.dtypes)\n",
    "# dtypes 이름    object\n",
    "# 나이     int64\n",
    "# 도시    object\n",
    "# dtype: object\n",
    "print(\"values\", df.values)\n",
    "# values [['name1' 20 'city1']\n",
    "#  ['name2' 21 'city2']\n",
    "#  ['name3' 25 'city3']\n",
    "#  ['name4' 35 'city4']]\n",
    "print(\"info\", df.info)\n",
    "# info <bound method DataFrame.info of       이름  나이     도시\n",
    "# 0  name1  20  city1\n",
    "# 1  name2  21  city2\n",
    "# 2  name3  25  city3\n",
    "# 3  name4  35  city4>"
   ]
  },
  {
   "cell_type": "code",
   "execution_count": null,
   "id": "62d102cd",
   "metadata": {},
   "outputs": [],
   "source": [
    "# 실습 2. DataFrame 연습\n",
    "# 1.\n",
    "data = [['홍길동', 28, '서울'], ['김철수', 33, '부산'], ['이영희', 25, '대구']]\n",
    "df = pd.DataFrame(data, columns=[\"이름\", \"나이\", \"도시\"])\n",
    "df"
   ]
  },
  {
   "cell_type": "code",
   "execution_count": null,
   "id": "f6b7bf7d",
   "metadata": {},
   "outputs": [],
   "source": [
    "# 2.\n",
    "data = {'A': [1, 2, 3], 'B': [4, 5, 6]}\n",
    "df = pd.DataFrame(data)\n",
    "df"
   ]
  },
  {
   "cell_type": "code",
   "execution_count": null,
   "id": "05880921",
   "metadata": {},
   "outputs": [],
   "source": [
    "# 3.\n",
    "data = [{'과목': '수학', '점수': 90}, {'과목': '영어', '점수': 85}, {'과목': '과학', '점수': 95}]\n",
    "df = pd.DataFrame(data)\n",
    "df"
   ]
  },
  {
   "cell_type": "code",
   "execution_count": null,
   "id": "32473aa6",
   "metadata": {},
   "outputs": [],
   "source": [
    "# 4.\n",
    "data = {'이름': ['민수', '영희', '철수'], '점수': [80, 92, 77]}\n",
    "df = pd.DataFrame(data, index=[\"학생1\", \"학생2\", \"학생3\"])\n",
    "df"
   ]
  },
  {
   "cell_type": "code",
   "execution_count": null,
   "id": "155b18e0",
   "metadata": {},
   "outputs": [],
   "source": [
    "# 5.\n",
    "kor = pd.Series([90, 85, 80], index=['a', 'b', 'c'])\n",
    "eng = pd.Series([95, 88, 82], index=['a', 'b', 'c'])\n",
    "\n",
    "df = pd.DataFrame({\"KOR\":kor, \"ENG\":eng})\n",
    "df"
   ]
  },
  {
   "cell_type": "code",
   "execution_count": null,
   "id": "8ba98bb4",
   "metadata": {},
   "outputs": [],
   "source": [
    "# 6.\n",
    "data = {'A': [1, 2], 'B': [3, 4]}\n",
    "df = pd.DataFrame(data, columns=[\"B\", \"A\"])\n",
    "df"
   ]
  },
  {
   "cell_type": "code",
   "execution_count": null,
   "id": "3e3b5351",
   "metadata": {},
   "outputs": [],
   "source": [
    "# 7.\n",
    "data = [['펜', 1000, 50], ['노트', 2000, 30]]\n",
    "df = pd.DataFrame(data, columns=[\"product\", \"price\", \"stock\"])\n",
    "df"
   ]
  },
  {
   "cell_type": "code",
   "execution_count": null,
   "id": "50c7a28a",
   "metadata": {},
   "outputs": [],
   "source": [
    "# 8.\n",
    "data = {'국가': ['한국', '일본', '미국'], '수도': ['서울', '도쿄', '워싱턴']}\n",
    "df = pd.DataFrame(data)\n",
    "print(df[\"국가\"])"
   ]
  },
  {
   "cell_type": "markdown",
   "id": "55e0c6c4",
   "metadata": {},
   "source": [
    "### 데이터 탐색과 요약\n"
   ]
  },
  {
   "cell_type": "code",
   "execution_count": null,
   "id": "561ceb42",
   "metadata": {},
   "outputs": [],
   "source": [
    "# 데이터 탐색과 요약\n",
    "data = {\n",
    "    \"이름\": [\"홍길동\", \"이순신\", \"김유신\", \"강감찬\", \"장보고\", \"이방원\"],\n",
    "    \"나이\": [23, 35, 31, 40, 28, 34],\n",
    "    \"직업\": [\"학생\", \"군인\", \"장군\", \"장군\", \"상인\", \"왕자\"]\n",
    "}\n",
    "df = pd.DataFrame(data)"
   ]
  },
  {
   "cell_type": "code",
   "execution_count": null,
   "id": "11d5a979",
   "metadata": {},
   "outputs": [],
   "source": [
    "# 데이터 앞부분 미리 보기 : head(n)\n",
    "# 기본값 n = 5\n",
    "print(df.head())\n",
    "#     이름  나이  직업\n",
    "# 0  홍길동  23  학생\n",
    "# 1  이순신  35  군인\n",
    "# 2  김유신  31  장군\n",
    "# 3  강감찬  40  장군\n",
    "# 4  장보고  28  상인\n",
    "print(df.head(3))\n",
    "#     이름  나이  직업\n",
    "# 0  홍길동  23  학생\n",
    "# 1  이순신  35  군인\n",
    "# 2  김유신  31  장군"
   ]
  },
  {
   "cell_type": "code",
   "execution_count": null,
   "id": "0ffc03d7",
   "metadata": {},
   "outputs": [],
   "source": [
    "# 데이터 뒷부분 미리 보기 : tail(n)\n",
    "# 기본값 n = 5\n",
    "print(df.tail())\n",
    "#     이름  나이  직업\n",
    "# 1  이순신  35  군인\n",
    "# 2  김유신  31  장군\n",
    "# 3  강감찬  40  장군\n",
    "# 4  장보고  28  상인\n",
    "# 5  이방원  34  왕자\n",
    "print(df.tail(2))\n",
    "#     이름  나이  직업\n",
    "# 4  장보고  28  상인\n",
    "# 5  이방원  34  왕자"
   ]
  },
  {
   "cell_type": "code",
   "execution_count": null,
   "id": "d366f7d3",
   "metadata": {},
   "outputs": [],
   "source": [
    "# info() 함수\n",
    "df.info()\n",
    "# <class 'pandas.core.frame.DataFrame'>\n",
    "# RangeIndex: 6 entries, 0 to 5\n",
    "# Data columns (total 3 columns):\n",
    "#  #   Column  Non-Null Count  Dtype \n",
    "# ---  ------  --------------  ----- \n",
    "#  0   이름      6 non-null      object\n",
    "#  1   나이      6 non-null      int64 \n",
    "#  2   직업      6 non-null      object\n",
    "# dtypes: int64(1), object(2)\n",
    "# memory usage: 276.0+ bytes"
   ]
  },
  {
   "cell_type": "code",
   "execution_count": null,
   "id": "45adaf04",
   "metadata": {},
   "outputs": [],
   "source": [
    "# describe() 함수\n",
    "df.describe() # 기본적으로 수치형 컬럼만 요약\n",
    "#            나이\n",
    "# count   6.000000\n",
    "# mean   31.833333\n",
    "# std     5.913262\n",
    "# min    23.000000\n",
    "# 25%    28.750000\n",
    "# 50%    32.500000\n",
    "# 75%    34.750000\n",
    "# max    40.000000\n",
    "\n",
    "df.describe(include=\"object\") # 문자열 컬럼만 요약\n",
    "#          이름  직업\n",
    "# count     6   6\n",
    "# unique    6   5\n",
    "# top     홍길동  장군\n",
    "# freq      1   2\n",
    "\n",
    "df.describe(include=\"all\") # 모든 컬럼만 요약\n",
    "#          이름         나이   직업\n",
    "# count     6   6.000000    6\n",
    "# unique    6        NaN    5\n",
    "# top     홍길동        NaN   장군\n",
    "# freq      1        NaN    2\n",
    "# mean    NaN  31.833333  NaN\n",
    "# std     NaN   5.913262  NaN\n",
    "# min     NaN  23.000000  NaN\n",
    "# 25%     NaN  28.750000  NaN\n",
    "# 50%     NaN  32.500000  NaN\n",
    "# 75%     NaN  34.750000  NaN\n",
    "# max     NaN  40.000000  NaN"
   ]
  },
  {
   "cell_type": "markdown",
   "id": "2c1cb4ea",
   "metadata": {},
   "source": [
    "### 인덱싱과 슬라이싱"
   ]
  },
  {
   "cell_type": "code",
   "execution_count": 27,
   "id": "ad0e0c4c",
   "metadata": {},
   "outputs": [],
   "source": [
    "data = {\n",
    "    \"이름\": [\"홍길동\", \"이순신\", \"김유신\", \"강감찬\", \"장보고\", \"이방원\"],\n",
    "    \"나이\": [23, 35, 31, 40, 28, 34],\n",
    "    \"직업\": [\"학생\", \"군인\", \"장군\", \"장군\", \"상인\", \"왕자\"]\n",
    "}\n",
    "df = pd.DataFrame(data)"
   ]
  },
  {
   "cell_type": "code",
   "execution_count": 29,
   "id": "940a5bf6",
   "metadata": {},
   "outputs": [
    {
     "data": {
      "text/html": [
       "<div>\n",
       "<style scoped>\n",
       "    .dataframe tbody tr th:only-of-type {\n",
       "        vertical-align: middle;\n",
       "    }\n",
       "\n",
       "    .dataframe tbody tr th {\n",
       "        vertical-align: top;\n",
       "    }\n",
       "\n",
       "    .dataframe thead th {\n",
       "        text-align: right;\n",
       "    }\n",
       "</style>\n",
       "<table border=\"1\" class=\"dataframe\">\n",
       "  <thead>\n",
       "    <tr style=\"text-align: right;\">\n",
       "      <th></th>\n",
       "      <th>이름</th>\n",
       "      <th>나이</th>\n",
       "    </tr>\n",
       "  </thead>\n",
       "  <tbody>\n",
       "    <tr>\n",
       "      <th>0</th>\n",
       "      <td>홍길동</td>\n",
       "      <td>23</td>\n",
       "    </tr>\n",
       "    <tr>\n",
       "      <th>1</th>\n",
       "      <td>이순신</td>\n",
       "      <td>35</td>\n",
       "    </tr>\n",
       "    <tr>\n",
       "      <th>2</th>\n",
       "      <td>김유신</td>\n",
       "      <td>31</td>\n",
       "    </tr>\n",
       "    <tr>\n",
       "      <th>3</th>\n",
       "      <td>강감찬</td>\n",
       "      <td>40</td>\n",
       "    </tr>\n",
       "    <tr>\n",
       "      <th>4</th>\n",
       "      <td>장보고</td>\n",
       "      <td>28</td>\n",
       "    </tr>\n",
       "    <tr>\n",
       "      <th>5</th>\n",
       "      <td>이방원</td>\n",
       "      <td>34</td>\n",
       "    </tr>\n",
       "  </tbody>\n",
       "</table>\n",
       "</div>"
      ],
      "text/plain": [
       "    이름  나이\n",
       "0  홍길동  23\n",
       "1  이순신  35\n",
       "2  김유신  31\n",
       "3  강감찬  40\n",
       "4  장보고  28\n",
       "5  이방원  34"
      ]
     },
     "execution_count": 29,
     "metadata": {},
     "output_type": "execute_result"
    }
   ],
   "source": [
    "# 인덱싱\n",
    "\n",
    "# 특정 컬럼(시리즈) 선택\n",
    "df[\"이름\"]\n",
    "# 0    홍길동\n",
    "# 1    이순신\n",
    "# 2    김유신\n",
    "# 3    강감찬\n",
    "# 4    장보고\n",
    "# 5    이방원\n",
    "# Name: 이름, dtype: object\n",
    "\n",
    "# 여러 컬럼을 리스트로 선택\n",
    "df[[\"이름\", \"나이\"]]\n",
    "#   이름   나이\n",
    "# 0\t홍길동\t23\n",
    "# 1\t이순신\t35\n",
    "# 2\t김유신\t31\n",
    "# 3\t강감찬\t40\n",
    "# 4\t장보고\t28\n",
    "# 5\t이방원\t34"
   ]
  },
  {
   "cell_type": "code",
   "execution_count": null,
   "id": "d525985d",
   "metadata": {},
   "outputs": [
    {
     "data": {
      "text/plain": [
       "0     Tom\n",
       "1    Jane\n",
       "2    Mike\n",
       "Name: name, dtype: object"
      ]
     },
     "execution_count": 25,
     "metadata": {},
     "output_type": "execute_result"
    }
   ],
   "source": [
    "# 컬럼명이 영어일 때 . 으로도 조회 가능\n",
    "\n",
    "df = pd.DataFrame({\n",
    "    'name': ['Tom', 'Jane', 'Mike'],\n",
    "    'age': [20, 25, 30]\n",
    "})\n",
    "\n",
    "df.name\n",
    "# 0     Tom\n",
    "# 1    Jane\n",
    "# 2    Mike\n",
    "# Name: name, dtype: object"
   ]
  },
  {
   "cell_type": "code",
   "execution_count": null,
   "id": "627b3c43",
   "metadata": {},
   "outputs": [],
   "source": [
    "# 슬라이싱\n",
    "\n",
    "df[1:4]\n",
    "#   이름   나이  직업\n",
    "# 1\t이순신\t35\t군인\n",
    "# 2\t김유신\t31\t장군\n",
    "# 3\t강감찬\t40\t장군\n",
    "\n",
    "# 음수 슬라이싱 가능\n",
    "df[-3:]\n",
    "#   이름   나이\t 직업\n",
    "# 3\t강감찬\t40\t장군\n",
    "# 4\t장보고\t28\t상인\n",
    "# 5\t이방원\t34\t왕자\n",
    "\n",
    "# 슬라이싱 후 인덱싱\n",
    "df[1:4][\"이름\"]\n",
    "# 1    이순신\n",
    "# 2    김유신\n",
    "# 3    강감찬\n",
    "# Name: 이름, dtype: object"
   ]
  },
  {
   "cell_type": "code",
   "execution_count": null,
   "id": "f10e4b81",
   "metadata": {},
   "outputs": [],
   "source": [
    "# 슬라이싱은 행 기준으로 작동, 열 기준은 별도의 방법을 사용하도록 강제\n",
    "df[:, :2] # 에러 발생"
   ]
  },
  {
   "cell_type": "markdown",
   "id": "150101e6",
   "metadata": {},
   "source": [
    "### iloc, loc"
   ]
  },
  {
   "cell_type": "code",
   "execution_count": null,
   "id": "32c1dc67",
   "metadata": {},
   "outputs": [],
   "source": [
    "# iloc\n",
    "# Integer Location\n",
    "# 정수 위치 기반의 인덱싱, 슬라이싱\n",
    "# NumPy의 슬라이싱과 유사\n",
    "\n",
    "# 단일 행/열 선택\n",
    "df.iloc[0]\n",
    "# 이름    홍길동\n",
    "# 나이     23\n",
    "# 직업     학생\n",
    "# Name: 0, dtype: object\n",
    "\n",
    "df.iloc[:, 1]\n",
    "# 0    23\n",
    "# 1    35\n",
    "# 2    31\n",
    "# 3    40\n",
    "# 4    28\n",
    "# 5    34\n",
    "# Name: 나이, dtype: int64\n"
   ]
  },
  {
   "cell_type": "code",
   "execution_count": null,
   "id": "07ef9166",
   "metadata": {},
   "outputs": [],
   "source": [
    "# 여러 행/열 선택\n",
    "df.iloc[1:4]\n",
    "#   이름   나이  직업\n",
    "# 1\t이순신\t35\t군인\n",
    "# 2\t김유신\t31\t장군\n",
    "# 3\t강감찬\t40\t장군\n",
    "\n",
    "df.iloc[:, :2]\n",
    "#   이름   나이\n",
    "# 0\t홍길동\t23\n",
    "# 1\t이순신\t35\n",
    "# 2\t김유신\t31\n",
    "# 3\t강감찬\t40\n",
    "# 4\t장보고\t28\n",
    "# 5\t이방원\t34\n",
    "\n",
    "df.iloc[1:4, :2]\n",
    "#   이름   나이\n",
    "# 1\t이순신\t35\n",
    "# 2\t김유신\t31\n",
    "# 3\t강감찬\t40"
   ]
  },
  {
   "cell_type": "code",
   "execution_count": null,
   "id": "7919455f",
   "metadata": {},
   "outputs": [],
   "source": [
    "# Fancy Indexing\n",
    "\n",
    "df.iloc[[0,2,4]]\n",
    "#   이름   나이\t 직업\n",
    "# 0\t홍길동\t23\t학생\n",
    "# 2\t김유신\t31\t장군\n",
    "# 4\t장보고\t28\t상인\n",
    "\n",
    "df.iloc[:, [1,2]]\n",
    "#   나이 직업\n",
    "# 0\t23\t학생\n",
    "# 1\t35\t군인\n",
    "# 2\t31\t장군\n",
    "# 3\t40\t장군\n",
    "# 4\t28\t상인\n",
    "# 5\t34\t왕자\n",
    "\n",
    "df.iloc[[0,2,4], [1,2]]\n",
    "#   나이 직업\n",
    "# 0\t23\t학생\n",
    "# 2\t31\t장군\n",
    "# 4\t28\t상인"
   ]
  },
  {
   "cell_type": "code",
   "execution_count": null,
   "id": "1c238198",
   "metadata": {},
   "outputs": [],
   "source": [
    "# 음수 인덱스 슬라이싱\n",
    "\n",
    "df.iloc[-1]\n",
    "# 이름    이방원\n",
    "# 나이     34\n",
    "# 직업     왕자\n",
    "# Name: 5, dtype: object\n",
    "\n",
    "df.iloc[:, -2:]\n",
    "# 나이\t 직업\n",
    "# 0\t23\t학생\n",
    "# 1\t35\t군인\n",
    "# 2\t31\t장군\n",
    "# 3\t40\t장군\n",
    "# 4\t28\t상인\n",
    "# 5\t34\t왕자"
   ]
  },
  {
   "cell_type": "code",
   "execution_count": null,
   "id": "ec7baa37",
   "metadata": {},
   "outputs": [],
   "source": [
    "# loc\n",
    "# location\n",
    "# 라벨의 이름 기준으로 인덱싱 / 슬라이싱\n",
    "# 시작과 끝을 모두 포함\n",
    "# 음수 인덱스 사용 불가\n",
    "\n",
    "# 단일 행/열 선택\n",
    "\n",
    "df.loc[0]\n",
    "# 이름    홍길동\n",
    "# 나이     23\n",
    "# 직업     학생\n",
    "# Name: 0, dtype: object\n",
    "\n",
    "df.loc[:, \"이름\"]\n",
    "# 0    홍길동\n",
    "# 1    이순신\n",
    "# 2    김유신\n",
    "# 3    강감찬\n",
    "# 4    장보고\n",
    "# 5    이방원\n",
    "# Name: 이름, dtype: object"
   ]
  },
  {
   "cell_type": "code",
   "execution_count": null,
   "id": "32aec509",
   "metadata": {},
   "outputs": [],
   "source": [
    "# 여러 행/열 선택\n",
    "\n",
    "df.loc[2:4, [\"이름\", \"직업\"]]\n",
    "#   이름\t직업\n",
    "# 2\t김유신\t장군\n",
    "# 3\t강감찬\t장군\n",
    "# 4\t장보고\t상인"
   ]
  },
  {
   "cell_type": "code",
   "execution_count": null,
   "id": "548e1ef0",
   "metadata": {},
   "outputs": [],
   "source": [
    "# 조건식\n",
    "\n",
    "mask = df[\"나이\"] >= 30\n",
    "df.loc[mask, [\"이름\", \"나이\"]]\n",
    "#   이름   나이\n",
    "# 1\t이순신\t35\n",
    "# 2\t김유신\t31\n",
    "# 3\t강감찬\t40\n",
    "# 5\t이방원\t34\n"
   ]
  },
  {
   "cell_type": "code",
   "execution_count": null,
   "id": "b7bdc46c",
   "metadata": {},
   "outputs": [],
   "source": [
    "# 컬럼을 인덱스로 지정\n",
    "\n",
    "df2 = df.set_index(\"이름\")\n",
    "print(df2)\n",
    "#         나이  직업   점수\n",
    "# 이름\t\t\t\n",
    "# 홍길동\t23\t학생\t85\n",
    "# 이순신\t35\t군인\t90\n",
    "# 김유신\t31\t장군\t75\n",
    "# 강감찬\t40\t장군\t88\n",
    "# 장보고\t28\t상인\t92\n",
    "# 이방원\t34\t왕자\t95\n",
    "# 최무선\t42\t과학자\t87\n",
    "# 정도전\t29\t정치가\t83\n",
    "\n",
    "df2.loc[\"이순신\"]\n",
    "# 나이    35\n",
    "# 직업    군인\n",
    "# 점수    90\n",
    "# Name: 이순신, dtype: object\n",
    "\n",
    "df2.loc[[\"이순신\", \"강감찬\", \"장보고\"]]\n",
    "#         나이\t직업   점수\n",
    "# 이름\t\t\t\n",
    "# 이순신\t35\t군인\t90\n",
    "# 강감찬\t40\t장군\t88\n",
    "# 장보고\t28\t상인\t92"
   ]
  },
  {
   "cell_type": "code",
   "execution_count": null,
   "id": "fa7f966c",
   "metadata": {},
   "outputs": [],
   "source": [
    "# 행에 라벨이 있을 경우 라벨을 이용해서 인덱싱 / 슬라이싱 가능\n",
    "\n",
    "s1 = pd.Series([\"국어\", \"수학\", \"영어\"], index=[\"a\", \"b\", \"c\"])\n",
    "s2 = pd.Series([100,90,85], index=[\"a\", \"b\", \"c\"])\n",
    "df = pd.DataFrame({\"과목\":s1, \"점수\":s2})\n",
    "\n",
    "df.loc[[\"a\", \"c\"], [\"과목\"]]\n",
    "#   과목\n",
    "# a\t국어\n",
    "# c\t영어"
   ]
  },
  {
   "cell_type": "code",
   "execution_count": null,
   "id": "d0755f72",
   "metadata": {},
   "outputs": [],
   "source": [
    "# 실습 3. DataFrame 연습\n",
    "data = {\n",
    "\"이름\": [\"홍길동\", \"이순신\", \"김유신\", \"강감찬\", \"장보고\", \"이방원\", \"최무선\", \"정도전\"],\n",
    "\"나이\": [23, 35, 31, 40, 28, 34, 42, 29],\n",
    "\"직업\": [\"학생\", \"군인\", \"장군\", \"장군\", \"상인\", \"왕자\", \"과학자\", \"정치가\"],\n",
    "\"점수\": [85, 90, 75, 88, 92, 95, 87, 83]\n",
    "}\n",
    "df = pd.DataFrame(data)\n",
    "df"
   ]
  },
  {
   "cell_type": "code",
   "execution_count": null,
   "id": "74d66248",
   "metadata": {},
   "outputs": [],
   "source": [
    "# 1.\n",
    "df.iloc[2:5, 1:3]"
   ]
  },
  {
   "cell_type": "code",
   "execution_count": null,
   "id": "f7b0afa4",
   "metadata": {},
   "outputs": [],
   "source": [
    "# 2.\n",
    "df.loc[3:6, [\"이름\", \"점수\"]]"
   ]
  },
  {
   "cell_type": "code",
   "execution_count": null,
   "id": "7f1c7430",
   "metadata": {},
   "outputs": [],
   "source": [
    "# 3.\n",
    "df.iloc[-3:, 2:]"
   ]
  },
  {
   "cell_type": "code",
   "execution_count": null,
   "id": "778e4245",
   "metadata": {},
   "outputs": [],
   "source": [
    "# 4.\n",
    "df.iloc[1::2]"
   ]
  },
  {
   "cell_type": "code",
   "execution_count": null,
   "id": "9b8d02cb",
   "metadata": {},
   "outputs": [],
   "source": [
    "# 5.\n",
    "df.loc[4:7, [\"나이\", \"점수\"]]"
   ]
  },
  {
   "cell_type": "code",
   "execution_count": null,
   "id": "6b8f604d",
   "metadata": {},
   "outputs": [],
   "source": [
    "# 6.\n",
    "df.iloc[::2, ::2]"
   ]
  },
  {
   "cell_type": "markdown",
   "id": "f83c7fa0",
   "metadata": {},
   "source": [
    "### 통계함수"
   ]
  },
  {
   "cell_type": "code",
   "execution_count": null,
   "id": "8a6ca844",
   "metadata": {},
   "outputs": [
    {
     "data": {
      "text/html": [
       "<div>\n",
       "<style scoped>\n",
       "    .dataframe tbody tr th:only-of-type {\n",
       "        vertical-align: middle;\n",
       "    }\n",
       "\n",
       "    .dataframe tbody tr th {\n",
       "        vertical-align: top;\n",
       "    }\n",
       "\n",
       "    .dataframe thead th {\n",
       "        text-align: right;\n",
       "    }\n",
       "</style>\n",
       "<table border=\"1\" class=\"dataframe\">\n",
       "  <thead>\n",
       "    <tr style=\"text-align: right;\">\n",
       "      <th></th>\n",
       "      <th>상품명</th>\n",
       "      <th>가격</th>\n",
       "      <th>재고</th>\n",
       "    </tr>\n",
       "  </thead>\n",
       "  <tbody>\n",
       "    <tr>\n",
       "      <th>0</th>\n",
       "      <td>무선 이어폰</td>\n",
       "      <td>129000</td>\n",
       "      <td>23</td>\n",
       "    </tr>\n",
       "    <tr>\n",
       "      <th>1</th>\n",
       "      <td>스마트 워치</td>\n",
       "      <td>250000</td>\n",
       "      <td>12</td>\n",
       "    </tr>\n",
       "    <tr>\n",
       "      <th>2</th>\n",
       "      <td>텀블러</td>\n",
       "      <td>15000</td>\n",
       "      <td>54</td>\n",
       "    </tr>\n",
       "    <tr>\n",
       "      <th>3</th>\n",
       "      <td>노트북</td>\n",
       "      <td>1200000</td>\n",
       "      <td>5</td>\n",
       "    </tr>\n",
       "    <tr>\n",
       "      <th>4</th>\n",
       "      <td>블루투스 스피커</td>\n",
       "      <td>85000</td>\n",
       "      <td>17</td>\n",
       "    </tr>\n",
       "    <tr>\n",
       "      <th>5</th>\n",
       "      <td>무드등</td>\n",
       "      <td>22000</td>\n",
       "      <td>31</td>\n",
       "    </tr>\n",
       "  </tbody>\n",
       "</table>\n",
       "</div>"
      ],
      "text/plain": [
       "        상품명       가격  재고\n",
       "0    무선 이어폰   129000  23\n",
       "1    스마트 워치   250000  12\n",
       "2       텀블러    15000  54\n",
       "3       노트북  1200000   5\n",
       "4  블루투스 스피커    85000  17\n",
       "5       무드등    22000  31"
      ]
     },
     "execution_count": 6,
     "metadata": {},
     "output_type": "execute_result"
    }
   ],
   "source": [
    "data = {\n",
    "    \"상품명\": [\"무선 이어폰\", \"스마트 워치\", \"텀블러\", \"노트북\", \"블루투스 스피커\", \"무드등\"],\n",
    "    \"가격\": [129000, 250000, 15000, 1200000, 85000, 22000],\n",
    "    \"재고\": [23, 12, 54, 5, 17, 31]\n",
    "}\n",
    "df = pd.DataFrame(data)"
   ]
  },
  {
   "cell_type": "code",
   "execution_count": null,
   "id": "014c5757",
   "metadata": {},
   "outputs": [],
   "source": [
    "df[\"가격\"].describe()\n",
    "# count    6.000000e+00\n",
    "# mean     2.835000e+05\n",
    "# std      4.571305e+05\n",
    "# min      1.500000e+04\n",
    "# 25%      3.775000e+04\n",
    "# 50%      1.070000e+05\n",
    "# 75%      2.197500e+05\n",
    "# max      1.200000e+06\n",
    "# Name: 가격, dtype: float64"
   ]
  },
  {
   "cell_type": "code",
   "execution_count": null,
   "id": "5e2d8328",
   "metadata": {},
   "outputs": [],
   "source": [
    "# 평균\n",
    "df[\"가격\"].mean()\n",
    "# np.float64(283500.0)\n",
    "\n",
    "# 중앙값\n",
    "df[\"재고\"].median()\n",
    "# 20.0\n",
    "\n",
    "# 표준편차\n",
    "df[\"가격\"].std()\n",
    "# 457130.5065295905\n",
    "\n",
    "# 분산\n",
    "df[\"재고\"].var()\n",
    "# 300.6666666666667\n",
    "\n",
    "# 값의 개수\n",
    "df[\"상품명\"].count()\n",
    "# np.int64(6)\n",
    "\n",
    "# 최대값\n",
    "df[\"가격\"].max()\n",
    "# 1200000\n",
    "\n",
    "# 최소값\n",
    "df[\"재고\"].min()\n",
    "# 5\n",
    "\n",
    "# 합계\n",
    "df[\"가격\"].sum()\n",
    "# np.int64(1701000)"
   ]
  },
  {
   "cell_type": "code",
   "execution_count": null,
   "id": "350de040",
   "metadata": {},
   "outputs": [],
   "source": [
    "# 최대값의 위치와 최소값의 위치\n",
    "\n",
    "df.idxmax()\n",
    "# 상품명    2\n",
    "# 가격     3\n",
    "# 재고     2\n",
    "# dtype: int64\n",
    "\n",
    "df[\"재고\"].idxmax()\n",
    "# 2\n",
    "\n",
    "df.idxmin()\n",
    "# 상품명    3\n",
    "# 가격     2\n",
    "# 재고     3\n",
    "# dtype: int64\n",
    "\n",
    "df[\"가격\"].idxmin()\n",
    "# 2"
   ]
  },
  {
   "cell_type": "markdown",
   "id": "523aa2be",
   "metadata": {},
   "source": [
    "### 결측값 처리\n",
    "- 결측값 : 값이 기록되지 않은 상태의 데이터\n",
    "- NaN : Not a Number"
   ]
  },
  {
   "cell_type": "code",
   "execution_count": null,
   "id": "0032ea56",
   "metadata": {},
   "outputs": [],
   "source": [
    "data = {\n",
    "    \"이름\": [\"서준\", \"하은\", \"민준\", \"서연\", np.nan, \"지민\"],\n",
    "    \"나이\": [22, 28, np.nan, 31, 27, 24],\n",
    "    \"점수\": [89, np.nan, 83, 90, 88, 93]\n",
    "}\n",
    "df = pd.DataFrame(data)\n",
    "df\n",
    "#   이름\t나이\t 점수\n",
    "# 0\t서준\t22.0\t89.0\n",
    "# 1\t하은\t28.0\tNaN\n",
    "# 2\t민준\tNaN\t    83.0\n",
    "# 3\t서연\t31.0\t90.0\n",
    "# 4\tNaN\t   27.0\t   88.0\n",
    "# 5\t지민\t24.0\t93.0"
   ]
  },
  {
   "cell_type": "code",
   "execution_count": null,
   "id": "a2055386",
   "metadata": {},
   "outputs": [],
   "source": [
    "# 결측값 탐지\n",
    "# isnull : 결측값이 맞으면 True 아니면 False를 반환\n",
    "\n",
    "df.isnull()\n",
    "#   이름\t 나이\t  점수\n",
    "# 0\tFalse\tFalse\tFalse\n",
    "# 1\tFalse\tFalse\tTrue\n",
    "# 2\tFalse\tTrue\tFalse\n",
    "# 3\tFalse\tFalse\tFalse\n",
    "# 4\tTrue\tFalse\tFalse\n",
    "# 5\tFalse\tFalse\tFalse\n",
    "\n",
    "# 각 컬럼의 결측값의 수\n",
    "df.isnull().sum()\n",
    "# 이름    1\n",
    "# 나이    1\n",
    "# 점수    1\n",
    "# dtype: int64\n",
    "\n",
    "# 데이터의 전체 결측값 수 계산\n",
    "df.isnull().sum().sum()\n",
    "# np.int64(3)"
   ]
  },
  {
   "cell_type": "code",
   "execution_count": null,
   "id": "8faddfb7",
   "metadata": {},
   "outputs": [],
   "source": [
    "# notnull : 결측값이면 True 아니면 False를 반환\n",
    "\n",
    "df.notnull()\n",
    "#   이름\t 나이\t  점수\n",
    "# 0\tTrue\tTrue\tTrue\n",
    "# 1\tTrue\tTrue\tFalse\n",
    "# 2\tTrue\tFalse\tTrue\n",
    "# 3\tTrue\tTrue\tTrue\n",
    "# 4\tFalse\tTrue\tTrue\n",
    "# 5\tTrue\tTrue\tTrue"
   ]
  },
  {
   "cell_type": "code",
   "execution_count": null,
   "id": "48d42a66",
   "metadata": {},
   "outputs": [],
   "source": [
    "# dropna : 결측값이 있는 행 삭제\n",
    "\n",
    "df2 = df.dropna()\n",
    "df2\n",
    "#   이름\t나이\t 점수\n",
    "# 0\t서준\t22.0\t89.0\n",
    "# 3\t서연\t31.0\t90.0\n",
    "# 5\t지민\t24.0\t93.0"
   ]
  },
  {
   "cell_type": "code",
   "execution_count": null,
   "id": "84deab7f",
   "metadata": {},
   "outputs": [],
   "source": [
    "# 결측값이 있는 열 삭제\n",
    "data = {\n",
    "    \"이름\": [\"서준\", \"하은\", \"민준\", \"서연\", \"태현\", \"지민\"],\n",
    "    \"나이\": [22, 28, np.nan, 31, 27, 24],\n",
    "    \"점수\": [89, np.nan, 83, 90, 88, 93]\n",
    "}\n",
    "df = pd.DataFrame(data)\n",
    "\n",
    "df3 = df.dropna(axis=1)\n",
    "df3\n",
    "#   이름\n",
    "# 0\t서준\n",
    "# 1\t하은\n",
    "# 2\t민준\n",
    "# 3\t서연\n",
    "# 4\t태현\n",
    "# 5\t지민"
   ]
  },
  {
   "cell_type": "code",
   "execution_count": null,
   "id": "79646bd2",
   "metadata": {},
   "outputs": [],
   "source": [
    "# fillna(n) : 결측값을 n으로 대체\n",
    "\n",
    "df4 = df.fillna(0)\n",
    "df4\n",
    "#   이름\t나이\t 점수\n",
    "# 0\t서준\t22.0\t89.0\n",
    "# 1\t하은\t28.0\t0.0\n",
    "# 2\t민준\t0.0\t    83.0\n",
    "# 3\t서연\t31.0\t90.0\n",
    "# 4\t태현\t27.0\t88.0\n",
    "# 5\t지민\t24.0\t93.0"
   ]
  },
  {
   "cell_type": "code",
   "execution_count": null,
   "id": "286c0beb",
   "metadata": {},
   "outputs": [],
   "source": [
    "avg_age = df[\"나이\"].mean()\n",
    "df[\"나이\"] = df[\"나이\"].fillna(avg_age)\n",
    "df\n",
    "#   이름\t나이\t 점수\n",
    "# 0\t서준\t22.0\t89.0\n",
    "# 1\t하은\t28.0\tNaN\n",
    "# 2\t민준\t26.4\t83.0\n",
    "# 3\t서연\t31.0\t90.0\n",
    "# 4\t태현\t27.0\t88.0\n",
    "# 5\t지민\t24.0\t93.0"
   ]
  },
  {
   "cell_type": "code",
   "execution_count": null,
   "id": "4bd70bf7",
   "metadata": {},
   "outputs": [],
   "source": [
    "# 이전 값으로 결측값 채우기\n",
    "# ffill = forward fill\n",
    "\n",
    "df5 = df.fillna(method=\"ffill\")\n",
    "df5\n",
    "#   이름\t나이\t 점수\n",
    "# 0\t서준\t22.0\t89.0\n",
    "# 1\t하은\t28.0\t89.0\n",
    "# 2\t민준\t26.4\t83.0\n",
    "# 3\t서연\t31.0\t90.0\n",
    "# 4\t태현\t27.0\t88.0\n",
    "# 5\t지민\t24.0\t93.0"
   ]
  },
  {
   "cell_type": "code",
   "execution_count": null,
   "id": "7360d78d",
   "metadata": {},
   "outputs": [],
   "source": [
    "# 뒤의 값으로 결측값 채우기\n",
    "# bfill = backward fill\n",
    "\n",
    "df6 = df.fillna(method=\"bfill\")\n",
    "df6\n",
    "#   이름\t나이\t 점수\n",
    "# 0\t서준\t22.0\t89.0\n",
    "# 1\t하은\t28.0\t83.0\n",
    "# 2\t민준\t26.4\t83.0\n",
    "# 3\t서연\t31.0\t90.0\n",
    "# 4\t태현\t27.0\t88.0\n",
    "# 5\t지민\t24.0\t93.0\n"
   ]
  },
  {
   "cell_type": "code",
   "execution_count": 3,
   "id": "10548f9a",
   "metadata": {},
   "outputs": [
    {
     "data": {
      "text/html": [
       "<div>\n",
       "<style scoped>\n",
       "    .dataframe tbody tr th:only-of-type {\n",
       "        vertical-align: middle;\n",
       "    }\n",
       "\n",
       "    .dataframe tbody tr th {\n",
       "        vertical-align: top;\n",
       "    }\n",
       "\n",
       "    .dataframe thead th {\n",
       "        text-align: right;\n",
       "    }\n",
       "</style>\n",
       "<table border=\"1\" class=\"dataframe\">\n",
       "  <thead>\n",
       "    <tr style=\"text-align: right;\">\n",
       "      <th></th>\n",
       "      <th>도시</th>\n",
       "      <th>미세먼지</th>\n",
       "      <th>초미세먼지</th>\n",
       "      <th>강수량</th>\n",
       "    </tr>\n",
       "  </thead>\n",
       "  <tbody>\n",
       "    <tr>\n",
       "      <th>0</th>\n",
       "      <td>서울</td>\n",
       "      <td>45.0</td>\n",
       "      <td>20.0</td>\n",
       "      <td>0.0</td>\n",
       "    </tr>\n",
       "    <tr>\n",
       "      <th>1</th>\n",
       "      <td>부산</td>\n",
       "      <td>51.0</td>\n",
       "      <td>NaN</td>\n",
       "      <td>2.5</td>\n",
       "    </tr>\n",
       "    <tr>\n",
       "      <th>2</th>\n",
       "      <td>광주</td>\n",
       "      <td>NaN</td>\n",
       "      <td>17.0</td>\n",
       "      <td>1.0</td>\n",
       "    </tr>\n",
       "    <tr>\n",
       "      <th>3</th>\n",
       "      <td>대구</td>\n",
       "      <td>38.0</td>\n",
       "      <td>18.0</td>\n",
       "      <td>NaN</td>\n",
       "    </tr>\n",
       "    <tr>\n",
       "      <th>4</th>\n",
       "      <td>NaN</td>\n",
       "      <td>49.0</td>\n",
       "      <td>22.0</td>\n",
       "      <td>3.1</td>\n",
       "    </tr>\n",
       "    <tr>\n",
       "      <th>5</th>\n",
       "      <td>춘천</td>\n",
       "      <td>NaN</td>\n",
       "      <td>19.0</td>\n",
       "      <td>0.0</td>\n",
       "    </tr>\n",
       "  </tbody>\n",
       "</table>\n",
       "</div>"
      ],
      "text/plain": [
       "    도시  미세먼지  초미세먼지  강수량\n",
       "0   서울  45.0   20.0  0.0\n",
       "1   부산  51.0    NaN  2.5\n",
       "2   광주   NaN   17.0  1.0\n",
       "3   대구  38.0   18.0  NaN\n",
       "4  NaN  49.0   22.0  3.1\n",
       "5   춘천   NaN   19.0  0.0"
      ]
     },
     "execution_count": 3,
     "metadata": {},
     "output_type": "execute_result"
    }
   ],
   "source": [
    "# 실습4. 통계함수, 결측값 처리 연습\n",
    "data = {\n",
    "\"도시\": [\"서울\", \"부산\", \"광주\", \"대구\", np.nan, \"춘천\"],\n",
    "\"미세먼지\": [45, 51, np.nan, 38, 49, np.nan],\n",
    "\"초미세먼지\": [20, np.nan, 17, 18, 22, 19],\n",
    "\"강수량\": [0.0, 2.5, 1.0, np.nan, 3.1, 0.0]\n",
    "}\n",
    "df = pd.DataFrame(data)\n",
    "df"
   ]
  },
  {
   "cell_type": "code",
   "execution_count": 12,
   "id": "7f61e542",
   "metadata": {},
   "outputs": [
    {
     "name": "stdout",
     "output_type": "stream",
     "text": [
      "미세먼지 평균값 : 45.75\n",
      "미세먼지 중앙값 : 47.0\n"
     ]
    }
   ],
   "source": [
    "# 1.\n",
    "print(\"미세먼지 평균값 :\", df[\"미세먼지\"].mean())\n",
    "print(\"미세먼지 중앙값 :\", df[\"미세먼지\"].median())"
   ]
  },
  {
   "cell_type": "code",
   "execution_count": 13,
   "id": "28ce7d3f",
   "metadata": {},
   "outputs": [
    {
     "name": "stdout",
     "output_type": "stream",
     "text": [
      "초미세먼지 최소값 : 17.0\n",
      "초미세먼지 최대값 : 22.0\n"
     ]
    }
   ],
   "source": [
    "# 2.\n",
    "print(\"초미세먼지 최소값 :\", df[\"초미세먼지\"].min())\n",
    "print(\"초미세먼지 최대값 :\", df[\"초미세먼지\"].max())"
   ]
  },
  {
   "cell_type": "code",
   "execution_count": 6,
   "id": "4d54f26f",
   "metadata": {},
   "outputs": [
    {
     "data": {
      "text/plain": [
       "도시       1\n",
       "미세먼지     2\n",
       "초미세먼지    1\n",
       "강수량      1\n",
       "dtype: int64"
      ]
     },
     "execution_count": 6,
     "metadata": {},
     "output_type": "execute_result"
    }
   ],
   "source": [
    "# 3.\n",
    "df.isnull().sum()"
   ]
  },
  {
   "cell_type": "code",
   "execution_count": 14,
   "id": "1bc2cec1",
   "metadata": {},
   "outputs": [
    {
     "name": "stdout",
     "output_type": "stream",
     "text": [
      "   도시  미세먼지  초미세먼지  강수량\n",
      "0  서울  45.0   20.0  0.0\n",
      "초미세먼지 평균 : 20.0\n"
     ]
    }
   ],
   "source": [
    "# 4.\n",
    "df2 = df.dropna()\n",
    "print(df2)\n",
    "print(\"초미세먼지 평균 :\", df2[\"초미세먼지\"].mean())"
   ]
  },
  {
   "cell_type": "code",
   "execution_count": 16,
   "id": "91ebc36d",
   "metadata": {},
   "outputs": [
    {
     "name": "stdout",
     "output_type": "stream",
     "text": [
      "   도시  미세먼지  초미세먼지  강수량\n",
      "0  서울  45.0   20.0  0.0\n",
      "1  부산  51.0    0.0  2.5\n",
      "2  광주   0.0   17.0  1.0\n",
      "3  대구  38.0   18.0  0.0\n",
      "4   0  49.0   22.0  3.1\n",
      "5  춘천   0.0   19.0  0.0\n",
      "미세먼지 합계 : 183.0\n",
      "초미세먼지 합계 : 96.0\n"
     ]
    }
   ],
   "source": [
    "# 5.\n",
    "df3 = df.fillna(0)\n",
    "print(df3)\n",
    "print(\"미세먼지 합계 :\", df3[\"미세먼지\"].sum())\n",
    "print(\"초미세먼지 합계 :\", df3[\"초미세먼지\"].sum())"
   ]
  },
  {
   "cell_type": "code",
   "execution_count": 20,
   "id": "d1d397ee",
   "metadata": {},
   "outputs": [
    {
     "name": "stdout",
     "output_type": "stream",
     "text": [
      "    도시   미세먼지  초미세먼지  강수량\n",
      "0   서울  45.00   20.0  0.0\n",
      "1   부산  51.00    NaN  2.5\n",
      "2   광주  45.75   17.0  1.0\n",
      "3   대구  38.00   18.0  NaN\n",
      "4  NaN  49.00   22.0  3.1\n",
      "5   춘천  45.75   19.0  0.0\n",
      "미세먼지 표준편차 : 4.444097208657794\n"
     ]
    }
   ],
   "source": [
    "# 6.\n",
    "avg = df[\"미세먼지\"].mean()\n",
    "df4 = df.copy()\n",
    "df4[\"미세먼지\"] = df[\"미세먼지\"].fillna(avg)\n",
    "print(df4)\n",
    "print(\"미세먼지 표준편차 :\", df4[\"미세먼지\"].std())"
   ]
  }
 ],
 "metadata": {
  "kernelspec": {
   "display_name": "data_analysis",
   "language": "python",
   "name": "python3"
  },
  "language_info": {
   "codemirror_mode": {
    "name": "ipython",
    "version": 3
   },
   "file_extension": ".py",
   "mimetype": "text/x-python",
   "name": "python",
   "nbconvert_exporter": "python",
   "pygments_lexer": "ipython3",
   "version": "3.13.5"
  }
 },
 "nbformat": 4,
 "nbformat_minor": 5
}
